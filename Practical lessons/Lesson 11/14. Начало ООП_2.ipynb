{
 "cells": [
  {
   "cell_type": "markdown",
   "metadata": {},
   "source": [
    "# Задачи на базовое ООП 2"
   ]
  },
  {
   "cell_type": "markdown",
   "metadata": {},
   "source": [
    "## Задача 14.1\n",
    "\n",
    "**На основе ранее созданных классов ```Point``` (```Точка```), ```Line``` (```Отрезок```) и ```Polyline``` (```Полилиния```) написать собственный класс ```Polygon``` (```Многоугольник```).**\n",
    "\n",
    "> **Подумайте, какие атрибуты следует имплементировать в классе и реализуйте их!**\n",
    "\n",
    "> **Напишите метод ```is_point_in_polygon```, принимающий в качестве аргумента объект класса ```Point``` и возвращающий ```True``` если точка находится внутри полиона и ```False``` - если снаружи.**\n",
    "\n",
    "> **Реализуйте метод класса, позволяющий построить на графике полигон, с возможностью вывода на нем массива точек, раскрашенных исходя из того входят они в полигон или нет.**"
   ]
  },
  {
   "cell_type": "markdown",
   "metadata": {},
   "source": [
    "## Иллюстрация результата\n",
    "\n",
    "'<img src=\"img/result.png\" width=\"400\">'\n",
    "'<img src=\"img\\result.png\" width=\"400\">'"
   ]
  },
  {
   "cell_type": "markdown",
   "metadata": {},
   "source": [
    "### Самая простая проверка на присутствие точки внутри полигона\n",
    "\n",
    "Рассмотрим на примере:\n",
    "\n",
    "'<img src=\"img/Трассировка лучей_1.png\" width=\"400\">'\n",
    "'<img src=\"img\\Трассировка лучей_1.png\" width=\"400\">'\n",
    "\n",
    "Проведем из каждой точки внутри полигона луч в произвольном направлении (проще всего горизонтальный):\n",
    "\n",
    "'<img src=\"img/Трассировка лучей_2.png\" width=\"400\">'\n",
    "'<img src=\"img\\Трассировка лучей_2.png\" width=\"400\">'\n",
    "\n",
    "И поступим также с точками находящимися вне полигона:\n",
    "\n",
    "'<img src=\"img/Трассировка лучей_3.png\" width=\"400\">'\n",
    "'<img src=\"img\\Трассировка лучей_3.png\" width=\"400\">'\n",
    "\n",
    "> Из иллюстраций видно что:\n",
    "- луч проведенный из точки ВНУТРИ полигона __всегда пересечет сегменты полигона нечетное количестов раз__;\n",
    "- луч проведенный из точки ВНЕ  полигона __пересечет четное количество сегментов или не пересечет ни одного__.\n",
    "  \n",
    "***"
   ]
  },
  {
   "cell_type": "markdown",
   "metadata": {},
   "source": [
    "Исчерпывающая информация по алгоритмам проверки принадлежности точки полигону описана в следующей статье - [Ссылка на статью](https://habr.com/ru/post/301102/)"
   ]
  },
  {
   "cell_type": "code",
   "execution_count": null,
   "metadata": {},
   "outputs": [],
   "source": [
    "        "
   ]
  },
  {
   "cell_type": "markdown",
   "metadata": {},
   "source": [
    "***\n",
    "***"
   ]
  },
  {
   "cell_type": "markdown",
   "metadata": {},
   "source": [
    "## Задача 14.2\n",
    "\n",
    "**Написать собственный класс ```Circle``` (```Окружность```).**\n",
    "\n",
    "> **Подумайте, какие атрибуты необходимо имплементировать в классе и реализуйте их!**\n",
    "\n",
    "> **Напишите метод ```fit_circle_in_points```, принимающий в качестве аргумента набор объектов класса ```Point``` и корректирующий атрибуты, определяющие положение центра окружности и ее радиуса, таким образом, чтобы окружность наилучшим образом вписывалась в переданные точки.**\n",
    "\n",
    "> **Реализуйте метод класса, позволяющий построить на графике окружность, с возможностью вывода на нем массива точек, определяющих ее положение.**"
   ]
  },
  {
   "cell_type": "markdown",
   "metadata": {},
   "source": [
    "'<img src=\"./img/Circle.jpg\" width=\"300\">'\n",
    "'<img src=\".\\img\\Circle.jpg\" width=\"300\">'"
   ]
  },
  {
   "cell_type": "markdown",
   "metadata": {},
   "source": [
    "$$ R^2 = (x - X_C)^2 + (y - Y_C)^2 $$\n",
    "$$ v_i = \\sqrt{\\left(x_i - \\hat{X_C}\\right)^2 + \\left(y_i - \\hat{Y_C}\\right)^2} - \\hat{R} $$\n",
    "\n",
    "$$ a_i = \\frac{\\partial F}{\\partial{X_C}} = - \\frac{x_i - X_C^0}{\\sqrt{\\left(x_i - X_C^0\\right)^2 + \\left(y_i - Y_C^0\\right)^2}}$$\n",
    "$$ b_i = \\frac{\\partial F}{\\partial{Y_C}} = - \\frac{y_i - Y_C^0}{\\sqrt{\\left(x_i - X_C^0\\right)^2 + \\left(y_i - Y_C^0\\right)^2}}$$\n",
    "$$ c_i = \\frac{\\partial F}{\\partial{R}} = - 1 $$\n",
    "\n",
    "$$ v_i = a_i \\cdot \\delta X_C + b_i \\cdot \\delta Y_C + c_i \\cdot \\delta R + \\sqrt{\\left(x_i - X_C^0\\right)^2 + \\left(y_i - Y_C^0\\right)^2} - R^0 $$\n",
    "\n",
    "Значения $X_C^0$, $Y_C^0$ и $R^0$ берутся из атрибутов объекта класса ```Circle``` для которого вызывается метод ```fit_circle_in_points```.\n",
    "\n",
    "Скорректированные значения $\\hat{X_C}$, $\\hat{Y_C}$ и $\\hat{R}$ после выполнения функции изменяют исходные атрибуты объекта."
   ]
  },
  {
   "cell_type": "code",
   "execution_count": null,
   "metadata": {},
   "outputs": [],
   "source": []
  },
  {
   "cell_type": "markdown",
   "metadata": {},
   "source": [
    "***\n",
    "***"
   ]
  }
 ],
 "metadata": {
  "kernelspec": {
   "display_name": "Python 3 (ipykernel)",
   "language": "python",
   "name": "python3"
  },
  "language_info": {
   "codemirror_mode": {
    "name": "ipython",
    "version": 3
   },
   "file_extension": ".py",
   "mimetype": "text/x-python",
   "name": "python",
   "nbconvert_exporter": "python",
   "pygments_lexer": "ipython3",
   "version": "3.12.0"
  },
  "toc": {
   "base_numbering": 1,
   "nav_menu": {},
   "number_sections": true,
   "sideBar": true,
   "skip_h1_title": false,
   "title_cell": "Table of Contents",
   "title_sidebar": "Contents",
   "toc_cell": true,
   "toc_position": {},
   "toc_section_display": true,
   "toc_window_display": false
  }
 },
 "nbformat": 4,
 "nbformat_minor": 4
}
