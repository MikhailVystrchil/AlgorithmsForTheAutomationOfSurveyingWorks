{
 "cells": [
  {
   "cell_type": "markdown",
   "metadata": {
    "toc": true
   },
   "source": [
    "<h1>Table of Contents<span class=\"tocSkip\"></span></h1>\n",
    "<div class=\"toc\"><ul class=\"toc-item\"><li><span><a href=\"#Ветвления\" data-toc-modified-id=\"Ветвления-1\"><span class=\"toc-item-num\">1&nbsp;&nbsp;</span>Ветвления</a></span><ul class=\"toc-item\"><li><span><a href=\"#Оператор-if\" data-toc-modified-id=\"Оператор-if-1.1\"><span class=\"toc-item-num\">1.1&nbsp;&nbsp;</span>Оператор if</a></span></li><li><span><a href=\"#Оператор-if-else\" data-toc-modified-id=\"Оператор-if-else-1.2\"><span class=\"toc-item-num\">1.2&nbsp;&nbsp;</span>Оператор if-else</a></span></li><li><span><a href=\"#Вложенные-операторы-if-и-if-else\" data-toc-modified-id=\"Вложенные-операторы-if-и-if-else-1.3\"><span class=\"toc-item-num\">1.3&nbsp;&nbsp;</span>Вложенные операторы if и if-else</a></span><ul class=\"toc-item\"><li><span><a href=\"#Оператор-if-внутри-другого-if-оператора\" data-toc-modified-id=\"Оператор-if-внутри-другого-if-оператора-1.3.1\"><span class=\"toc-item-num\">1.3.1&nbsp;&nbsp;</span>Оператор if внутри другого if-оператора</a></span></li><li><span><a href=\"#Инструкция-if-else-внутри-другого-оператора-if.\" data-toc-modified-id=\"Инструкция-if-else-внутри-другого-оператора-if.-1.3.2\"><span class=\"toc-item-num\">1.3.2&nbsp;&nbsp;</span>Инструкция if-else внутри другого оператора if.</a></span></li><li><span><a href=\"#Оператор-if-else-внутри-условия-else\" data-toc-modified-id=\"Оператор-if-else-внутри-условия-else-1.3.3\"><span class=\"toc-item-num\">1.3.3&nbsp;&nbsp;</span>Оператор if-else внутри условия else</a></span></li><li><span><a href=\"#Оператор-if-elif-else\" data-toc-modified-id=\"Оператор-if-elif-else-1.3.4\"><span class=\"toc-item-num\">1.3.4&nbsp;&nbsp;</span>Оператор if-elif-else</a></span></li></ul></li><li><span><a href=\"#Структурное-сопоставление-с-шаблоном-switch-case\" data-toc-modified-id=\"Структурное-сопоставление-с-шаблоном-switch-case-1.4\"><span class=\"toc-item-num\">1.4&nbsp;&nbsp;</span>Структурное сопоставление с шаблоном <code>switch-case</code></a></span></li></ul></li></ul></div>"
   ]
  },
  {
   "cell_type": "markdown",
   "metadata": {},
   "source": [
    "## Оператор if\n",
    "\n",
    "Синтаксис оператора ```if``` следующий:\n",
    "\n",
    "``` python\n",
    "if condition:\n",
    "    <indented statement 1>\n",
    "    <indented statement 2>\n",
    "\n",
    "<non-indented statement>\n",
    "```\n",
    "\n",
    "Первая строчка оператора, то есть ```if``` ```condition```: — это **условие ```if```**, а ```condition``` — это **логическое выражение**, которое возвращает ```True``` или ```False```. \n",
    "\n",
    "В следующей строке **блок инструкций**. \n",
    "\n",
    "Блок представляет собой одну или больше инструкций. Если он идет следом за условием ```if```, такой блок называют ```блоком if```.\n",
    "\n",
    "> **Стоит обратить внимание, что у каждой инструкции в ```блоке if``` одинаковый отступ от слова if.** \n",
    "\n",
    "Многие языки, такие как C, C++, Java и PHP, используют фигурные скобки ```{}```, чтобы определять начало и конец блока, но **в ```Python``` используются отступы**.\n",
    "\n",
    "> **Каждая инструкция должна содержать одинаковое количество пробелов.** В противном случае программа вернет синтаксическую ошибку. \n",
    "\n",
    "> В документации ```Python``` рекомендуется делать **отступ на 4 пробела.**\n",
    "\n",
    "**Как это работает:**\n",
    "\n",
    "* Когда выполняется инструкция ``if``, проверяется условие. \n",
    "\n",
    "* Если условие истинно, тогда все инструкции в блоке if выполняются. \n",
    "\n",
    "* Но если условие оказывается неверным, тогда все инструкции внутри этого блока пропускаются.\n",
    "\n",
    "* > Инструкции следом за ```условием if```, у которых нет отступов, не относятся к ```блоку if```. \n",
    "\n",
    "Например, ```<non-intenden statement>``` — это не часть блока if, поэтому она будет выполнена в любом случае.\n",
    "\n",
    "**Например:**"
   ]
  },
  {
   "cell_type": "code",
   "execution_count": null,
   "metadata": {},
   "outputs": [],
   "source": [
    "number = int(input(\"Введите число: \"))            # Ввод данных пользователем\n",
    "\n",
    "if number > 10:                                   # Проверка логического условия number > 10\n",
    "    print(\"Число больше 10\")                      # Блок инструкций - выполняется только если введенное число больше 10\n",
    "    \n",
    "print(\"Программа закончила свое выполнение\")      # Выполняется независимо от истинности условия if"
   ]
  },
  {
   "cell_type": "markdown",
   "metadata": {},
   "source": [
    "***\n",
    "***"
   ]
  },
  {
   "cell_type": "code",
   "execution_count": null,
   "metadata": {},
   "outputs": [],
   "source": [
    "print(\"Начало выполнеиня программы\\n\")\n",
    "\n",
    "number = int(input(\"Введите число: \"))            # Ввод данных пользователем\n",
    "\n",
    "print(\"Ввод числа прошел успешно\\n\")\n",
    "\n",
    "if number > 10:                                   # Проверка логического условия number > 10\n",
    "    print(\"Условие оказалось истинным\")           # Блок инструкций - выполняется только если введенное число больше 10\n",
    "    print(\"Число больше 10\")                      # Блок инструкций - выполняется только если введенное число больше 10\n",
    "    print(f\"Вы ввели число {number}\\n\")           # Блок инструкций - выполняется только если введенное число больше 10\n",
    "    \n",
    "print(\"Программа закончила свое выполнение\")      # Выполняется независимо от истинности условия if"
   ]
  },
  {
   "cell_type": "markdown",
   "metadata": {},
   "source": [
    "***\n",
    "***"
   ]
  },
  {
   "cell_type": "markdown",
   "metadata": {},
   "source": [
    "## Оператор if-else"
   ]
  },
  {
   "cell_type": "markdown",
   "metadata": {},
   "source": [
    "Оператор ```if-else``` исполняет одну порцию инструкций, если условие истинно и другое — если нет. \n",
    "\n",
    "Таким образом этот оператор предлагает два направления действий. \n",
    "\n",
    "**Синтаксис оператора ```if-else``` следующий:**\n",
    "\n",
    "```python\n",
    "if  condition:\n",
    "    # блок if\n",
    "    statement 1\n",
    "    statement 2\n",
    "else:\n",
    "    # блок else\n",
    "    statement 3\n",
    "    statement 4\n",
    "```\n",
    "        \n",
    "**Как это работает:**\n",
    "\n",
    "Когда оператор ```if-else``` исполняется, условие проверяется, и если оно возвращает ```True```, когда инструкции в ```блоке if``` исполняются. Но если возвращается ```False```, тогда исполняются инструкции из ```блока else```.\n",
    "\n",
    "**Пример: программа для расчета площади и длины окружности круга**"
   ]
  },
  {
   "cell_type": "code",
   "execution_count": null,
   "metadata": {},
   "outputs": [],
   "source": [
    "radius = int(input(\"Введите радиус: \"))\n",
    "\n",
    "if radius > 0:\n",
    "    print(\"Длина окружности = \",  2  *  3.14  *  radius)\n",
    "    print(\"Площадь = \", 3.14 * radius ** 2)\n",
    "else:\n",
    "    print(\"Пожалуйста, введите положительное число\")"
   ]
  },
  {
   "cell_type": "markdown",
   "metadata": {},
   "source": [
    "***\n",
    "***"
   ]
  },
  {
   "cell_type": "markdown",
   "metadata": {},
   "source": [
    "Теперь программа показывает корректный ответ пользователю, даже если условие ```if``` не является истинным. Это и требуется.\n",
    "\n",
    "> В инструкциях ```if-else``` нужно следить за тем, чтобы условия ```if``` и ```else``` находились на одном уровне. \n",
    "\n",
    "В противном случае программа вернет синтаксическую ошибку. \n",
    "\n",
    "**Например НЕПРАВИЛЬНЫЙ СИНТАКСИС:**"
   ]
  },
  {
   "cell_type": "code",
   "execution_count": null,
   "metadata": {},
   "outputs": [],
   "source": [
    "radius = int(input(\"Введите радиус: \"))\n",
    "\n",
    "if radius >= 0:\n",
    "    print(\"Длина окружности = \",  2  *  3.14  *  radius)\n",
    "    print(\"Площадь = \", 3.14 * radius ** 2)\n",
    "    else:\n",
    "        print(\"Пожалуйста, введите положительное число\")"
   ]
  },
  {
   "cell_type": "markdown",
   "metadata": {},
   "source": [
    "***\n",
    "***\n",
    "\n",
    "## Вложенные операторы if и if-else\n",
    "\n",
    "Использовать операторы ```if-else``` можно внутри других ```инструкций if``` или ```if-else```. \n",
    "\n",
    "Это лучше объяснить на примерах:\n",
    "\n",
    "### Оператор if внутри другого if-оператора\n"
   ]
  },
  {
   "cell_type": "markdown",
   "metadata": {},
   "source": [
    "### Инструкция if-else внутри другого оператора if."
   ]
  },
  {
   "cell_type": "code",
   "execution_count": null,
   "metadata": {},
   "outputs": [],
   "source": [
    "gre_score = int(input(\"Введите текущий лимит: \"))\n",
    "per_grad = int(input(\"Введите кредитный рейтинг: \"))\n",
    "\n",
    "if per_grad > 70:\n",
    "    if gre_score > 150:\n",
    "        print(\"Поздравляем, вам выдан кредит\")\n",
    "    else:\n",
    "        print(\"У вас низкий кредитный лимит\")\n",
    "else:\n",
    "    print(\"Извините, вы не имеете права на кредит\")"
   ]
  },
  {
   "cell_type": "markdown",
   "metadata": {},
   "source": [
    "### Оператор if-elif-else"
   ]
  },
  {
   "cell_type": "markdown",
   "metadata": {},
   "source": [
    "Оператор ```if-elif-else``` — это альтернативное представление оператора ```if-else```, которое позволяет проверять несколько условий, вместо того чтобы писать вложенные ```if-else```. \n",
    "\n",
    "**Синтаксис этого оператора следующий:**\n",
    "\n",
    "```python\n",
    "if condition_1:\n",
    "    # блок if\n",
    "    statement\n",
    "    statement\n",
    "    more statement\n",
    "elif condition_2:\n",
    "    # первый блок elif\n",
    "    statement\n",
    "    statement\n",
    "    more statement\n",
    "elif condition_3:\n",
    "    # второй блок elif\n",
    "    statement\n",
    "    statement\n",
    "    more statement\n",
    "\n",
    "...\n",
    "\n",
    "else:\n",
    "    statement\n",
    "    statement\n",
    "    more statement\n",
    "```\n",
    "\n",
    "> **Примечание:** ```…``` означает, что можно писать **сколько угодно условий ```eilf```**.\n",
    "\n",
    "**Как это работает:**\n",
    "\n",
    "Когда исполняется инструкция ```if-elif-else```, в первую очередь проверяется ```condition_1```. Если условие истинно, тогда исполняется ```блок инструкций if```. Следующие условия и инструкции пропускаются, и управление переходит к операторам ```вне if-elif-else```.\n",
    "\n",
    "Если ```condition_1``` оказывается ложным, тогда управление переходит ```к следующему условию elif```, и проверяется ```condition_2```. Если оно истинно, тогда исполняются инструкции внутри ```первого блока elif```. Последующие инструкции внутри этого блока пропускаются.\n",
    "\n",
    "Этот процесс повторяется, пока не находится условие ```elif```, которое оказывается истинным. Если такого нет, тогда исполняется блок ```else``` в самом конце.\n",
    "\n",
    "**Перепишем программу с помощью ```if-elif-else```**."
   ]
  },
  {
   "cell_type": "code",
   "execution_count": null,
   "metadata": {},
   "outputs": [],
   "source": [
    "score = int(input(\"Введите вашу оценку: \"))\n",
    "\n",
    "if score >= 90:\n",
    "    print(\"Отлично! Ваша оценка А\")\n",
    "elif score >= 80:\n",
    "    print(\"Здорово! Ваша оценка - B\")\n",
    "elif score >= 70:\n",
    "    print(\"Хорошо! Ваша оценка - C\")\n",
    "elif score >= 60:\n",
    "    print(\"Ваша оценка - D. Стоит повторить материал.\")\n",
    "else:\n",
    "    print(\"Вы не сдали экзамен\")"
   ]
  },
  {
   "cell_type": "markdown",
   "metadata": {},
   "source": [
    "***\n",
    "***\n",
    "\n",
    "> Такую программу намного легче читать, чем в случае с вложенными ```if-else```.\n",
    "\n",
    "***\n",
    "***"
   ]
  }
 ],
 "metadata": {
  "kernelspec": {
   "display_name": "Python 3 (ipykernel)",
   "language": "python",
   "name": "python3"
  },
  "language_info": {
   "codemirror_mode": {
    "name": "ipython",
    "version": 3
   },
   "file_extension": ".py",
   "mimetype": "text/x-python",
   "name": "python",
   "nbconvert_exporter": "python",
   "pygments_lexer": "ipython3",
   "version": "3.12.0"
  },
  "toc": {
   "base_numbering": 1,
   "nav_menu": {},
   "number_sections": true,
   "sideBar": true,
   "skip_h1_title": false,
   "title_cell": "Table of Contents",
   "title_sidebar": "Contents",
   "toc_cell": true,
   "toc_position": {},
   "toc_section_display": true,
   "toc_window_display": false
  }
 },
 "nbformat": 4,
 "nbformat_minor": 4
}
