{
 "cells": [
  {
   "cell_type": "markdown",
   "metadata": {
    "toc": true
   },
   "source": [
    "<h1>Table of Contents<span class=\"tocSkip\"></span></h1>\n",
    "<div class=\"toc\"><ul class=\"toc-item\"><li><span><a href=\"#Lambda-функции,-генераторы,-декораторы,-аннотации\" data-toc-modified-id=\"Lambda-функции,-генераторы,-декораторы,-аннотации-1\"><span class=\"toc-item-num\">1&nbsp;&nbsp;</span>Lambda функции, генераторы, декораторы, аннотации</a></span><ul class=\"toc-item\"><li><span><a href=\"#Анонимная-функция:-лямбда\" data-toc-modified-id=\"Анонимная-функция:-лямбда-1.1\"><span class=\"toc-item-num\">1.1&nbsp;&nbsp;</span>Анонимная функция: лямбда</a></span><ul class=\"toc-item\"><li><span><a href=\"#Зачем-использовать-лямбда-функции?\" data-toc-modified-id=\"Зачем-использовать-лямбда-функции?-1.1.1\"><span class=\"toc-item-num\">1.1.1&nbsp;&nbsp;</span>Зачем использовать лямбда-функции?</a></span></li><li><span><a href=\"#Лямбда-функции-и-функции-высшего-порядка\" data-toc-modified-id=\"Лямбда-функции-и-функции-высшего-порядка-1.1.2\"><span class=\"toc-item-num\">1.1.2&nbsp;&nbsp;</span>Лямбда-функции и функции высшего порядка</a></span><ul class=\"toc-item\"><li><span><a href=\"#Пример-с-filter()\" data-toc-modified-id=\"Пример-с-filter()-1.1.2.1\"><span class=\"toc-item-num\">1.1.2.1&nbsp;&nbsp;</span>Пример с <code>filter()</code></a></span></li><li><span><a href=\"#Пример-с-map()\" data-toc-modified-id=\"Пример-с-map()-1.1.2.2\"><span class=\"toc-item-num\">1.1.2.2&nbsp;&nbsp;</span>Пример с <code>map()</code></a></span></li><li><span><a href=\"#Пример-с-reduce()\" data-toc-modified-id=\"Пример-с-reduce()-1.1.2.3\"><span class=\"toc-item-num\">1.1.2.3&nbsp;&nbsp;</span>Пример с <code>reduce()</code></a></span></li></ul></li><li><span><a href=\"#Лямбда-и--list-comprehension\" data-toc-modified-id=\"Лямбда-и--list-comprehension-1.1.3\"><span class=\"toc-item-num\">1.1.3&nbsp;&nbsp;</span>Лямбда и  <code>list comprehension</code></a></span><ul class=\"toc-item\"><li><span><a href=\"#Лямбда-и-условные-операторы\" data-toc-modified-id=\"Лямбда-и-условные-операторы-1.1.3.1\"><span class=\"toc-item-num\">1.1.3.1&nbsp;&nbsp;</span>Лямбда и условные операторы</a></span></li><li><span><a href=\"#Лямбда-и-множественные-операторы\" data-toc-modified-id=\"Лямбда-и-множественные-операторы-1.1.3.2\"><span class=\"toc-item-num\">1.1.3.2&nbsp;&nbsp;</span>Лямбда и множественные операторы</a></span></li></ul></li></ul></li><li><span><a href=\"#Генераторы\" data-toc-modified-id=\"Генераторы-1.2\"><span class=\"toc-item-num\">1.2&nbsp;&nbsp;</span>Генераторы</a></span><ul class=\"toc-item\"><li><span><a href=\"#Функция-генератора\" data-toc-modified-id=\"Функция-генератора-1.2.1\"><span class=\"toc-item-num\">1.2.1&nbsp;&nbsp;</span>Функция генератора</a></span></li><li><span><a href=\"#Выражения-Generator-comprehension\" data-toc-modified-id=\"Выражения-Generator-comprehension-1.2.2\"><span class=\"toc-item-num\">1.2.2&nbsp;&nbsp;</span>Выражения <code>Generator comprehension</code></a></span><ul class=\"toc-item\"><li><span><a href=\"#Когда-использовать-генератор?\" data-toc-modified-id=\"Когда-использовать-генератор?-1.2.2.1\"><span class=\"toc-item-num\">1.2.2.1&nbsp;&nbsp;</span>Когда использовать генератор?</a></span></li></ul></li><li><span><a href=\"#Встроенные-функции-генераторы\" data-toc-modified-id=\"Встроенные-функции-генераторы-1.2.3\"><span class=\"toc-item-num\">1.2.3&nbsp;&nbsp;</span>Встроенные функции генераторы</a></span></li></ul></li><li><span><a href=\"#Декораторы\" data-toc-modified-id=\"Декораторы-1.3\"><span class=\"toc-item-num\">1.3&nbsp;&nbsp;</span>Декораторы</a></span><ul class=\"toc-item\"><li><span><a href=\"#Передача-декоратором-аргументов-в-функцию\" data-toc-modified-id=\"Передача-декоратором-аргументов-в-функцию-1.3.1\"><span class=\"toc-item-num\">1.3.1&nbsp;&nbsp;</span>Передача декоратором аргументов в функцию</a></span></li><li><span><a href=\"#Декораторы-с-аргументами\" data-toc-modified-id=\"Декораторы-с-аргументами-1.3.2\"><span class=\"toc-item-num\">1.3.2&nbsp;&nbsp;</span>Декораторы с аргументами</a></span></li></ul></li><li><span><a href=\"#Документирование-функции\" data-toc-modified-id=\"Документирование-функции-1.4\"><span class=\"toc-item-num\">1.4&nbsp;&nbsp;</span>Документирование функции</a></span></li><li><span><a href=\"#Аннотации-типов\" data-toc-modified-id=\"Аннотации-типов-1.5\"><span class=\"toc-item-num\">1.5&nbsp;&nbsp;</span>Аннотации типов</a></span><ul class=\"toc-item\"><li><span><a href=\"#Новое-в-Python-3.9\" data-toc-modified-id=\"Новое-в-Python-3.9-1.5.1\"><span class=\"toc-item-num\">1.5.1&nbsp;&nbsp;</span>Новое в <code>Python 3.9</code></a></span></li></ul></li></ul></li></ul></div>"
   ]
  },
  {
   "cell_type": "markdown",
   "metadata": {},
   "source": [
    "***\n",
    "***\n",
    "\n",
    "## Рекурсивные функции"
   ]
  },
  {
   "cell_type": "markdown",
   "metadata": {},
   "source": [
    "**Рекурсия** — это не особенность ```Python```. Это общепринятая и часто используемая техника в Computer Science, когда функция вызывает сама себя. \n",
    "\n",
    "Самый известный пример — вычисление факториала $$n! = n \\cdot n-1 \\cdot n-2 \\cdot \\dots \\cdot 2 \\cdot 1$$. \n",
    "\n",
    "Зная, что $0! = 1$, факториал можно записать следующим образом:"
   ]
  },
  {
   "cell_type": "code",
   "execution_count": null,
   "metadata": {},
   "outputs": [],
   "source": [
    "def factorial(n):\n",
    "    if n != 0:\n",
    "        return n * factorial(n-1)\n",
    "    else:\n",
    "        return 1"
   ]
  },
  {
   "cell_type": "code",
   "execution_count": null,
   "metadata": {},
   "outputs": [],
   "source": [
    "factorial(56)"
   ]
  },
  {
   "cell_type": "markdown",
   "metadata": {},
   "source": [
    "Важно, чтобы в ней было была конечная инструкция, иначе она никогда не закончится. \n",
    "\n",
    "Реализация вычисления факториала выше, например, не является надежной. \n",
    "\n",
    "Если указать отрицательное значение, функция будет вызывать себя бесконечно. \n",
    "\n",
    "Нужно написать так:"
   ]
  },
  {
   "cell_type": "code",
   "execution_count": null,
   "metadata": {},
   "outputs": [],
   "source": [
    "factorial(-56)        # RecursionError: maximum recursion depth exceeded in comparison"
   ]
  },
  {
   "cell_type": "markdown",
   "metadata": {},
   "source": [
    "Нужно написать так:"
   ]
  },
  {
   "cell_type": "code",
   "execution_count": null,
   "metadata": {},
   "outputs": [],
   "source": [
    "def factorial(n):\n",
    "    assert n > 0, \"Вы ввели отрицательное значение\"\n",
    "    if n != 0:\n",
    "        return n * factorial(n-1)\n",
    "    else:\n",
    "        return 1"
   ]
  },
  {
   "cell_type": "code",
   "execution_count": null,
   "metadata": {},
   "outputs": [],
   "source": [
    "factorial(-56)"
   ]
  },
  {
   "cell_type": "markdown",
   "metadata": {},
   "source": [
    "> Важно!\n",
    "Рекурсия позволяет писать простые и элегантные функции, но это не гарантирует эффективность и высокую скорость исполнения.\n",
    "\n",
    "Если рекурсия содержит баги (например, длится бесконечно), функции может не хватить памяти. \n",
    "\n",
    "Задать максимальное значение рекурсий можно с помощью модуля ```sys```."
   ]
  },
  {
   "cell_type": "markdown",
   "metadata": {},
   "source": [
    "### Снежинка Коха"
   ]
  },
  {
   "cell_type": "code",
   "execution_count": null,
   "metadata": {},
   "outputs": [],
   "source": [
    "import turtle\n",
    "\n",
    "t = turtle.Turtle()\n",
    "wn = turtle.Screen()\n",
    "wn.bgcolor('black')\n",
    "\n",
    "t.color(\"orange\")\n",
    "t.pensize(2)\n",
    "t.penup()\n",
    "t.setpos(-450, 250)\n",
    "t.pendown()\n",
    "t.speed(9999)\n",
    "\n",
    "def triangle(size):\n",
    "    for angle in [-120, -120, 0]:\n",
    "        koch(t, order, size)\n",
    "        t.left(angle)\n",
    "\n",
    "def koch(t, order, size):\n",
    "    if order == 0:\n",
    "        t.forward(size)\n",
    "    else:\n",
    "        for angle in [60, -120, 60, 0]:\n",
    "            koch(t, order - 1, size // 3)\n",
    "            t.left(angle)\n",
    "\n",
    "size = 500\n",
    "order = 3\n",
    "triangle(size)\n",
    "\n",
    "wn.exitonclick()"
   ]
  },
  {
   "cell_type": "markdown",
   "metadata": {},
   "source": [
    "### Дракон Хартера — Хейтуэя"
   ]
  },
  {
   "cell_type": "code",
   "execution_count": null,
   "metadata": {},
   "outputs": [],
   "source": [
    "import turtle\n",
    "\n",
    "turtle.hideturtle()\n",
    "turtle.tracer(0)\n",
    "turtle.penup()\n",
    "turtle.setpos(-100, -150)\n",
    "turtle.pendown()\n",
    "\n",
    "axiom, tempAx, logic, count = 'FX', '', {'X': 'X+YF+', 'Y': '−FX−Y'}, 16\n",
    "\n",
    "for i in range(count):\n",
    "    for j in axiom:\n",
    "        tempAx += logic[j] if j in logic else j\n",
    "    axiom, tempAx = tempAx, ''\n",
    "\n",
    "for k in axiom:\n",
    "    if k == 'F':\n",
    "        turtle.forward(2.5)\n",
    "    elif k == '+':\n",
    "        turtle.right(90)\n",
    "    elif k == '−':\n",
    "        turtle.left(90)\n",
    "\n",
    "turtle.update()\n",
    "turtle.mainloop()"
   ]
  },
  {
   "cell_type": "markdown",
   "metadata": {},
   "source": [
    "# Замыкания (closure)"
   ]
  },
  {
   "cell_type": "markdown",
   "metadata": {},
   "source": [
    "__Замыкание (closure)__ или фабричная функция это функция определяемая и возвращаемая другой функцией, при этом замыкание получает доступ к значениям и объектам в области видимости \"родительской\" (или объемлющей) функции независимо от того из какой области видимости происходит вызов замыкания."
   ]
  },
  {
   "cell_type": "code",
   "execution_count": null,
   "metadata": {},
   "outputs": [],
   "source": [
    "def outers(): \n",
    "    n = 2\n",
    "    def closure(): \n",
    "        return n ** 2 \n",
    "    return closure\n",
    "\n",
    "\n",
    "closure_foo = outers()      # Вызываем внешнюю функцию, возвращаемая функция (замыкание) присваивается переменной \n",
    "print(closure_foo)          # <function outers.<locals>.closure at 0x7f254d6fe170> \n",
    "num = closure_foo()         # Вызываем замыкание, результат присваивается переменной \n",
    "print(num)                  # 4 \n",
    "\n",
    "# Второй вариант вызова замыкания \n",
    "print(outers()())           # 4"
   ]
  },
  {
   "cell_type": "markdown",
   "metadata": {},
   "source": [
    "На примере видно, что функция ```closure``` имеет доступ к переменной ```n``` определенной в родительской функции, несмотря на то, что интерпретатор уже не находится в соответствующей зоне видимости.\n",
    "Второй вариант вызова замыкания не сложно понять, если проследить эволюцию значений:\n",
    "\n",
    "Скобки после имени функции говорят интерпретатору о том, что ее необходимо вызвать. После вызова ```outers()```, на ее место возвращается замыкание ```closure```, к которому добавляется оставшаяся пара скобок. \n",
    "Замыкание вызывается, возвращая на свое место результат."
   ]
  },
  {
   "cell_type": "markdown",
   "metadata": {},
   "source": [
    "> Важной особенностью замыканий является тот факт, что они имеют доступ к самим объектам из области видимости родительской функции, а не к их копиям или состояниям существующим на момент определения замыкания."
   ]
  },
  {
   "cell_type": "code",
   "execution_count": null,
   "metadata": {},
   "outputs": [],
   "source": [
    "def outers(lst):\n",
    "    def closure():\n",
    "        return lst[0] * 2\n",
    "    return closure\n",
    "\n",
    "\n",
    "x = ['a']\n",
    "closure_foo = outers(x)    # Вызываем внешнюю функцию, передав ей список в качестве аргумента\n",
    "print(closure_foo())       # aa\n",
    "\n",
    "x[0] = 'b'                 # меняем единственный элемент списка\n",
    "print(closure_foo())       # bb"
   ]
  },
  {
   "cell_type": "markdown",
   "metadata": {},
   "source": [
    "В указанном примере содержимое списка ```x``` меняется после определения замыкания, однако результат вызова замыкания показывает, что ему доступно актуальное содержимое списка.\n",
    "Однако важно понимать и другую особенность, замыкание \"запоминает\" именно те объекты и значения, что были доступны родительской функции в момент его определения, что позволяет использовать сразу несколько экземпляров замыканий, отличных друг от друга."
   ]
  },
  {
   "cell_type": "code",
   "execution_count": null,
   "metadata": {},
   "outputs": [],
   "source": [
    "def multiplier(factor):\n",
    "    def closure(x):\n",
    "        return factor * x\n",
    "    return closure\n",
    "\n",
    "double = multiplier(2)\n",
    "triple = multiplier(3)\n",
    "\n",
    "print(double(5))  # 10 результат аналогичен вызову multiplier(2)(5)\n",
    "print(triple(4))  # 12 результат аналогичен вызову multiplier(3)(4)"
   ]
  },
  {
   "cell_type": "code",
   "execution_count": null,
   "metadata": {},
   "outputs": [],
   "source": [
    "print(multiplier(2)(5))  \n",
    "print(multiplier(2)(4))"
   ]
  },
  {
   "cell_type": "markdown",
   "metadata": {},
   "source": [
    "В данном примере механизм замыканий используется для определения нескольких схожих функций (```double``` и ```triple```), что позволяет избежать дублирования кода. \n",
    "Кроме того, этот пример призван продемонстрировать, что разные экземпляры одного замыкания будут иметь доступ к разным значениям из области видимости родительской функции.\n",
    "\n",
    "Так же для создания замыкания может использоваться анонимная функция."
   ]
  },
  {
   "cell_type": "markdown",
   "metadata": {},
   "source": [
    "# Lambda функции, генераторы, декораторы, аннотации"
   ]
  },
  {
   "cell_type": "markdown",
   "metadata": {},
   "source": [
    "## Анонимная функция: лямбда\n",
    "\n",
    "**Лямбда-функция** — это короткая однострочная, анонимная функция. \n",
    "\n",
    "Лямбда-функции могут иметь любое количество аргументов, но у каждой может быть только одно выражение. Выражение вычисляется и возвращается. \n",
    "\n",
    "Эти функции могут быть использованы везде, где требуется объект-функция.\n",
    "\n",
    "**Лямбда-функция имеет следующий синтаксис:**\n",
    "\n",
    "```python\n",
    "lambda аргументы: выражение\n",
    "```\n",
    "\n",
    "Такие выражения содержат лишь одну инструкцию, поэтому ключевые слова требующие выделения отдельных блоков кода, например, ```for``` и ```while``` использовать нельзя. \n",
    "\n",
    "Лямбда-функции также можно присваивать переменным:\n",
    "\n",
    "```python\n",
    "multiplication = lambda x, y: x * y\n",
    "```\n",
    "\n",
    "что равносильно коду:\n",
    "\n",
    "```python\n",
    "def multiplication(x, y):\n",
    "    return x * y\n",
    "```\n",
    "\n",
    "В отличие от функций, здесь не используется ключевое слово ```return```. Результат работы и так возвращается.\n",
    "\n",
    "С помощью ```type()``` можно проверить тип:\n",
    "\n",
    "```python\n",
    ">>> type(product)\n",
    "function\n",
    "```\n",
    "> Лямбда-функции это всего лишь элегантный способ записи, когда она содержит одну инструкцию.\n",
    "\n",
    "На практике эти лямбда-функции используются в тех случаях, когда необходимо простое выражение передать куда-то в качестве объекта функции."
   ]
  },
  {
   "cell_type": "code",
   "execution_count": null,
   "metadata": {},
   "outputs": [],
   "source": [
    "def power(x=3, y=2):\n",
    "    return x ** y"
   ]
  },
  {
   "cell_type": "code",
   "execution_count": null,
   "metadata": {},
   "outputs": [],
   "source": [
    "power = lambda x=3, y=2: x ** y\n",
    "\n",
    "print(power())\n",
    "print(power(5.))\n",
    "print(power(3, 3))"
   ]
  },
  {
   "cell_type": "code",
   "execution_count": null,
   "metadata": {},
   "outputs": [],
   "source": [
    "power = lambda x=3, y=2: x ** y\n",
    "square = power\n",
    "\n",
    "print(square())\n",
    "print(square(5.))\n",
    "print(square(3, 3))"
   ]
  },
  {
   "cell_type": "code",
   "execution_count": null,
   "metadata": {},
   "outputs": [],
   "source": [
    "power = lambda x, y, pow=2: x ** pow + y\n",
    "[power(x, 2, 3) for x in [0,1,2]]"
   ]
  },
  {
   "cell_type": "markdown",
   "metadata": {},
   "source": [
    "* Лямбда-функция может иметь любое количество аргументов, но вычисляет и возвращает только одно значение\n",
    "\n",
    "* Лямбда-функции применимы везде, где требуются объекты-функции \n",
    "\n",
    "* Вы должны помнить, что  синтаксически лямбда-функция ограничена, позволяет представить всего одно выражение\n",
    "\n",
    "* Они имеют множество вариантов применения в конкретных областях программирования, наряду  с другими типами выражений, используемых в функциях."
   ]
  },
  {
   "cell_type": "markdown",
   "metadata": {},
   "source": [
    "### Зачем использовать лямбда-функции?\n",
    "\n",
    "Силу ```lambda-функции``` лучше видно, когда вы используете ее как анонимную функцию внутри другой функции. Скажем, у вас есть определение функции, которое принимает один аргумент, и этот аргумент будет умножен на неизвестное число:\n",
    "\n",
    "```python\n",
    "def myfunc(n):  \n",
    "    return lambda a: a * n\n",
    "```\n",
    "\n",
    "Используйте это определение функции для создания функции, которая всегда удваивает число, которое вы отправляете:\n",
    "\n",
    "```python\n",
    "def myfunc(n):\n",
    "    return lambda a: a * n\n",
    "\n",
    "mydoubler = myfunc(2)\n",
    "print(mydoubler(11))\n",
    "```\n",
    "\n",
    "Вывод:\n",
    "```\n",
    "22\n",
    "```\n",
    "\n",
    "Или используйте то же самое определение функции, чтобы сделать функцию, которая всегда утраивает число:\n",
    "\n",
    "```python\n",
    "def myfunc(n):\n",
    "    return lambda a: a * n\n",
    "\n",
    "mytripler = myfunc(3)\n",
    "print(mytripler(11))\n",
    "```\n",
    "Вывод:\n",
    "```\n",
    "33\n",
    "```"
   ]
  },
  {
   "cell_type": "code",
   "execution_count": null,
   "metadata": {},
   "outputs": [],
   "source": [
    "def myfunc(n):\n",
    "    return lambda  a: a * n\n",
    "\n",
    "mydoubler = myfunc(2)\n",
    "mytripler = myfunc(3)\n",
    "\n",
    "print(mydoubler)\n",
    "print(mytripler)\n",
    "\n",
    "print(mydoubler(11))\n",
    "print(mytripler(11))"
   ]
  },
  {
   "cell_type": "markdown",
   "metadata": {},
   "source": [
    "Используйте ```lambda-функцию```, когда анонимная функция нужна в определенной части кода, но не по всем скрипте."
   ]
  },
  {
   "cell_type": "markdown",
   "metadata": {},
   "source": [
    "### Лямбда-функции и функции высшего порядка\n",
    "\n",
    "Мы используем лямбда-функцию, когда нам ненадолго требуется безымянная функция.\n",
    "\n",
    "В ```Python``` мы часто используем их как аргумент функции высшего порядка (функции, которая принимает другие функции в качестве аргументов).  Лямбда-функции используют вместе с такими встроенными функциями как ```filter()```, ```map()```, ```reduce()``` и др.\n",
    "\n",
    "Давайте рассмотрим еще несколько распространенных вариантов использования лямбда-функций."
   ]
  },
  {
   "cell_type": "markdown",
   "metadata": {},
   "source": [
    "#### Пример с ```filter()```\n",
    "\n",
    "Функция ```filter()``` в ```Python``` принимает в качестве аргументов функцию и список.\n",
    "\n",
    "Функция **вызывается со всеми элементами в списке**, и в результате возвращается новый список, содержащий элементы, **для которых функция результирует в ```True```**.\n",
    "\n",
    "Вот пример использования функции ```filter()``` для отбора четных чисел из списка."
   ]
  },
  {
   "cell_type": "code",
   "execution_count": null,
   "metadata": {},
   "outputs": [],
   "source": [
    "my_list = [1, 3, 4, 6, 10, 11, 15, 12, 14]\n",
    "\n",
    "def function(x):\n",
    "    return True\n",
    "\n",
    "new_list = list(filter(function, my_list))\n",
    "\n",
    "print(new_list)"
   ]
  },
  {
   "cell_type": "code",
   "execution_count": null,
   "metadata": {},
   "outputs": [],
   "source": [
    "my_list = [1, 3, 4, 6, 10, 11, 15, 12, 14]\n",
    "\n",
    "def is_odd(x):\n",
    "    return x % 2 == 0\n",
    "\n",
    "new_list = list(filter(is_odd, my_list))\n",
    "\n",
    "print(new_list)"
   ]
  },
  {
   "cell_type": "code",
   "execution_count": null,
   "metadata": {},
   "outputs": [],
   "source": [
    "my_list = [1, 3, 4, 6, 10, 11, 15, 12, 14]\n",
    "\n",
    "filt_obj = filter(lambda x: (x % 2 == 0), my_list)\n",
    "\n",
    "print(filt_obj, type(filt_obj))\n",
    "\n",
    "print(next(filt_obj))\n",
    "print(\"*********\")\n",
    "\n",
    "for element in filt_obj:\n",
    "    print(element)"
   ]
  },
  {
   "cell_type": "code",
   "execution_count": null,
   "metadata": {},
   "outputs": [],
   "source": [
    "my_list = [1, 3, 4, 6, 10, 11, 15, 12, 14]\n",
    "\n",
    "new_list = list(filter(lambda x: (x % 2 == 0), my_list))\n",
    "\n",
    "print(new_list)"
   ]
  },
  {
   "cell_type": "code",
   "execution_count": null,
   "metadata": {},
   "outputs": [],
   "source": [
    "my_list = [1, 3, 4, 6, 10, 11, 15, 12, 14]\n",
    "\n",
    "new_list = list(filter(lambda x: (x % 2 == 0 and x > 10) , my_list))\n",
    "\n",
    "print(new_list)"
   ]
  },
  {
   "cell_type": "markdown",
   "metadata": {},
   "source": [
    "#### Пример с ```map()```\n",
    "\n",
    "Функция ```map()``` принимает в качестве аргументов функцию и список.\n",
    "\n",
    "Функция **вызывается со всеми элементами в списке**, и в результате возвращается новый список, содержащий элементы, **возвращенные данной функцией для каждого исходного элемента**.\n",
    "\n",
    "Ниже пример использования функции ```map()``` для удвоения всех элементов списка."
   ]
  },
  {
   "cell_type": "code",
   "execution_count": null,
   "metadata": {},
   "outputs": [],
   "source": [
    "current_list = [1, 3, 4, 6, 10, 11, 15, 12, 14]\n",
    "\n",
    "def doubler(x):\n",
    "    return x * 2\n",
    "    \n",
    "new_list = list(map(doubler, current_list))\n",
    "\n",
    "print(new_list)"
   ]
  },
  {
   "cell_type": "code",
   "execution_count": null,
   "metadata": {},
   "outputs": [],
   "source": [
    "current_list = [1, 3, 4, 6, 10, 11, 15, 12, 14]\n",
    "\n",
    "map_obj = map(lambda x: x * 2 , current_list)\n",
    "\n",
    "print(map_obj, type(map_obj))\n",
    "\n",
    "for element in map_obj:\n",
    "    print(element)"
   ]
  },
  {
   "cell_type": "code",
   "execution_count": null,
   "metadata": {},
   "outputs": [],
   "source": [
    "current_list = [1, 3, 4, 6, 10, 11, 15, 12, 14]\n",
    "\n",
    "new_list = list(map(lambda x: x * 2, current_list))\n",
    "\n",
    "print(new_list)"
   ]
  },
  {
   "cell_type": "markdown",
   "metadata": {},
   "source": [
    "#### Пример с ```reduce()```\n",
    "\n",
    "Функция ```reduce()``` принимает в качестве аргументов функцию и список. \n",
    "\n",
    "Функция вызывается с помощью лямбда-функции и итерируемого объекта  и возвращается новый уменьшенный результат. \n",
    "\n",
    "Так выполняется повторяющаяся операция **над парами итерируемых объектов**. \n",
    "\n",
    "Функция ```reduce()``` входит в состав модуля ```functools```."
   ]
  },
  {
   "cell_type": "code",
   "execution_count": null,
   "metadata": {},
   "outputs": [],
   "source": [
    "from functools import reduce\n",
    "\n",
    "current_list = [5, 15, 20, 30, 50, 55, 75, 60, 70]\n",
    "\n",
    "summa = reduce((lambda x, y: x + y), current_list)\n",
    "\n",
    "print(summa)\n",
    "print(\"***************\")\n",
    "print(sum(current_list))"
   ]
  },
  {
   "cell_type": "markdown",
   "metadata": {},
   "source": [
    "Здесь результаты предыдущих двух элементов суммируются со  следующим элементом, и это продолжается до конца списка, вот так:\n",
    "\n",
    "```\n",
    "5 + 15 + 20 + 30 + 50 + 55 + 75 + 60 + 70\n",
    "20 + 20 + 30 + 50 + 55 + 75 + 60 + 70\n",
    "40 + 30 + 50 + 55 + 75 + 60 + 70\n",
    "70 + 50 + 55 + 75 + 60 + 70\n",
    "120 + 55 + 75 + 60 + 70\n",
    "175 + 75 + 60 + 70\n",
    "250 + 60 + 70\n",
    "310 + 70\n",
    "380\n",
    "```"
   ]
  },
  {
   "cell_type": "markdown",
   "metadata": {},
   "source": [
    "### Лямбда и  ```list comprehension```\n",
    "\n",
    "В этом примере мы будем использовать лямбда-функцию с ```list comprehension``` и лямбда-функцию с циклом ```for```. \n",
    "Мы выведем на экран таблицу из 10 элементов."
   ]
  },
  {
   "cell_type": "code",
   "execution_count": null,
   "metadata": {},
   "outputs": [],
   "source": [
    "tables = [lambda x = i: x * 10 for i in range(1, 11)]\n",
    "\n",
    "for table in tables:\n",
    "    print(table())"
   ]
  },
  {
   "cell_type": "markdown",
   "metadata": {},
   "source": [
    "#### Лямбда и условные операторы\n",
    "\n",
    "Давайте рассмотрим использование условий ```if-else``` в лямбда-функции. Как вы знаете, ```Python``` позволяет нам использовать однострочные условия, и  именно их мы можем помещать в лямбда-функцию для обработки возвращаемого результата.\n",
    "\n",
    "Например, есть две цифры, и вы должны определить, какая из них представляет наибольшее число."
   ]
  },
  {
   "cell_type": "code",
   "execution_count": null,
   "metadata": {},
   "outputs": [],
   "source": [
    "max_number = lambda a, b: a if a > b else b\n",
    "\n",
    "print(max_number(3, 5))"
   ]
  },
  {
   "cell_type": "markdown",
   "metadata": {},
   "source": [
    "Этот метод позволяет вам добавлять условия в лямбда-функции."
   ]
  },
  {
   "cell_type": "markdown",
   "metadata": {},
   "source": [
    "#### Лямбда и множественные операторы\n",
    "\n",
    "Лямбда-функции не допускают использования нескольких операторов, однако мы можем создать две лямбда-функции, а затем вызвать вторую лямбда-функцию в качестве параметра для первой функции. \n",
    "\n",
    "Давайте попробуем найти второй по величине элемент, используя лямбду."
   ]
  },
  {
   "cell_type": "code",
   "execution_count": null,
   "metadata": {},
   "outputs": [],
   "source": [
    "current_list = [[10, 6, 9],\n",
    "                [0, 14, 16, 80],\n",
    "                [8, 12, 30, 44],\n",
    "               ]\n",
    "\n",
    "sorted_list = lambda x: (sorted(i) for i in x)\n",
    "\n",
    "second_largest = lambda x, func: [y[len(y)-2] for y in func(x)]"
   ]
  },
  {
   "cell_type": "code",
   "execution_count": null,
   "metadata": {},
   "outputs": [],
   "source": [
    "print(*sorted_list(current_list))"
   ]
  },
  {
   "cell_type": "code",
   "execution_count": null,
   "metadata": {},
   "outputs": [],
   "source": [
    "result = second_largest(current_list, sorted_list)\n",
    "\n",
    "print(result)"
   ]
  },
  {
   "cell_type": "markdown",
   "metadata": {},
   "source": [
    "В предыдущем примере, мы создали лямбда-функцию, которая:\n",
    "\n",
    "* Сортирует каждый вложенный список в заданном списке. \n",
    "* Затем этот список проходит как параметр для второй лямбда-функции, которая возвращает элемент $n-2$ из отсортированного списка, где  $n$ — длина вложенного списка."
   ]
  },
  {
   "cell_type": "markdown",
   "metadata": {},
   "source": [
    "## Декораторы\n",
    "\n",
    "**Декораторы** — это, по сути, \"обёртки\", которые ***дают нам возможность изменить поведение функции, не изменяя её код***."
   ]
  },
  {
   "cell_type": "code",
   "execution_count": null,
   "metadata": {},
   "outputs": [],
   "source": [
    "def my_shiny_new_decorator(function_to_decorate):\n",
    "    # Внутри себя декоратор определяет функцию-\"обёртку\". Она будет обёрнута вокруг декорируемой,\n",
    "    # получая возможность исполнять произвольный код до и после неё.\n",
    "    \n",
    "    def the_wrapper_around_the_original_function():\n",
    "        print(\"Я - код, который отработает до вызова функции\")\n",
    "        function_to_decorate() # Сама функция\n",
    "        print(\"А я - код, срабатывающий после\")\n",
    "        \n",
    "    # Вернём эту функцию\n",
    "    return the_wrapper_around_the_original_function\n",
    "\n",
    "# Представим теперь, что у нас есть функция, которую мы не планируем больше трогать.\n",
    "def stand_alone_function():\n",
    "    print(\"Я простая одинокая функция, ты ведь не посмеешь меня изменять?\")"
   ]
  },
  {
   "cell_type": "code",
   "execution_count": null,
   "metadata": {},
   "outputs": [],
   "source": [
    "stand_alone_function()"
   ]
  },
  {
   "cell_type": "code",
   "execution_count": null,
   "metadata": {},
   "outputs": [],
   "source": [
    "# Однако, чтобы изменить её поведение, мы можем декорировать её, то есть просто передать декоратору,\n",
    "# который обернет исходную функцию в любой код, который нам потребуется, и вернёт новую,\n",
    "# готовую к использованию функцию:\n",
    "\n",
    "stand_alone_function_decorated = my_shiny_new_decorator(stand_alone_function)\n",
    "stand_alone_function_decorated()"
   ]
  },
  {
   "cell_type": "markdown",
   "metadata": {},
   "source": [
    "Наверное, теперь мы бы хотели, чтобы каждый раз, во время вызова ```stand_alone_function```, вместо неё вызывалась ```stand_alone_function_decorated```. Для этого просто перезапишем ```stand_alone_function```:"
   ]
  },
  {
   "cell_type": "code",
   "execution_count": null,
   "metadata": {},
   "outputs": [],
   "source": [
    "stand_alone_function = my_shiny_new_decorator(stand_alone_function)\n",
    "\n",
    "stand_alone_function()"
   ]
  },
  {
   "cell_type": "markdown",
   "metadata": {},
   "source": [
    "Собственно, это и есть декораторы. Вот так можно было записать предыдущий пример, используя синтаксис декораторов:"
   ]
  },
  {
   "cell_type": "code",
   "execution_count": null,
   "metadata": {},
   "outputs": [],
   "source": [
    "@my_shiny_new_decorator\n",
    "def another_stand_alone_function():\n",
    "    print(\"Оставь меня в покое\")"
   ]
  },
  {
   "cell_type": "code",
   "execution_count": null,
   "metadata": {},
   "outputs": [],
   "source": [
    "another_stand_alone_function()"
   ]
  },
  {
   "cell_type": "markdown",
   "metadata": {},
   "source": [
    "То есть, декораторы в ```python``` — это просто синтаксический сахар для конструкций вида:\n",
    "\n",
    "```python\n",
    "another_stand_alone_function = my_shiny_new_decorator(another_stand_alone_function)\n",
    "```\n",
    "\n",
    "При этом, естественно, можно использовать несколько декораторов для одной функции, например так:"
   ]
  },
  {
   "cell_type": "code",
   "execution_count": null,
   "metadata": {},
   "outputs": [],
   "source": [
    "def make_bold(fn):\n",
    "    def wrapped():\n",
    "        return \"<b>\" + fn() + \"</b>\"\n",
    "    return wrapped\n",
    " \n",
    "def make_italic(fn):\n",
    "    def wrapped():\n",
    "        return \"<i>\" + fn() + \"</i>\"\n",
    "    return wrapped\n",
    " \n",
    "@make_bold\n",
    "@make_italic\n",
    "def hello():\n",
    "    return \"Hello!\"\n",
    " \n",
    "print(hello())"
   ]
  },
  {
   "cell_type": "markdown",
   "metadata": {},
   "source": [
    "### Передача декоратором аргументов в функцию\n",
    "\n",
    "Однако, все декораторы, которые мы рассматривали, не имели одного очень важного функционала — передачи аргументов декорируемой функции. \n",
    "\n",
    "Собственно, это тоже несложно сделать:"
   ]
  },
  {
   "cell_type": "code",
   "execution_count": null,
   "metadata": {},
   "outputs": [],
   "source": [
    "def benchmark(func):\n",
    "    \"\"\"\n",
    "    Декоратор, выводящий время, которое заняло\n",
    "    выполнение декорируемой функции.\n",
    "    \"\"\"\n",
    "    import time\n",
    "    def wrapper(*args, **kwargs):\n",
    "        t = time.time() \n",
    "        res = func(*args, **kwargs)\n",
    "        print(func.__name__, format(time.time() - t, \".40f\"))\n",
    "        time.sleep(1)\n",
    "        return res\n",
    "    return wrapper\n",
    "\n",
    "def logging(func):\n",
    "    \"\"\"\n",
    "    Декоратор, логирующий работу кода.\n",
    "    (хорошо, он просто выводит вызовы, но тут могло быть и логирование!)\n",
    "    \"\"\"\n",
    "    def wrapper(*args, **kwargs):\n",
    "        res = func(*args, **kwargs)\n",
    "        print(func.__name__, args, kwargs)\n",
    "        return res\n",
    "    return wrapper\n",
    "\n",
    "def counter(func):\n",
    "    \"\"\"\n",
    "    Декоратор, считающий и выводящий количество вызовов\n",
    "    декорируемой функции.\n",
    "    \"\"\"\n",
    "    def wrapper(*args, **kwargs):\n",
    "        wrapper.count += 1\n",
    "        res = func(*args, **kwargs)\n",
    "        print(f\"{func.__name__} была вызвана: {wrapper.count}x\")\n",
    "        return res\n",
    "    wrapper.count = 0\n",
    "    return wrapper\n"
   ]
  },
  {
   "cell_type": "code",
   "execution_count": null,
   "metadata": {},
   "outputs": [],
   "source": [
    "@benchmark\n",
    "@logging\n",
    "@counter\n",
    "def reverse_string(string):\n",
    "    return ''.join(reversed(string))"
   ]
  },
  {
   "cell_type": "code",
   "execution_count": null,
   "metadata": {},
   "outputs": [],
   "source": [
    "print(reverse_string(\"А роза упала на лапу Азора\"))"
   ]
  },
  {
   "cell_type": "markdown",
   "metadata": {},
   "source": [
    "### Декораторы с аргументами"
   ]
  },
  {
   "cell_type": "markdown",
   "metadata": {},
   "source": [
    "Иногда бывает нужно передать аргументы декораторам. В шаблоне декоратора общего назначения, имя написанное после символа @, относится к объекту функции, который может быть вызван другой функцией.\n",
    "\n",
    "Чтобы получить декоратор, в который можно передать аргументы, нужно из функции с параметрами вернуть функциональный объект, который может действовать как декоратор.\n",
    "\n",
    "```python\n",
    "def func_param(param=4):\n",
    "    def decorator(func):\n",
    "        # Создать и вернуть функцию-обертку\n",
    "        ...\n",
    "    return decorator\n",
    "```\n",
    "\n",
    "Обычно декоратор создает и возвращает внутреннюю функцию-обертку, следовательно полный пример даст внутреннюю функцию внутри внутренней функции. Звучит запутанно (смотрите ниже как проще создать декоратор с аргументами, используя класс)... Для тех, кто хочет понять, как все это работает, будем разбираться на реальном примере.\n",
    "\n",
    "Создаваемый декоратор @repeater() будет повторять декорируемую функцию, переданное в качестве аргумента, количество раз.\n",
    "\n",
    "```python\n",
    "import functools\n",
    "\n",
    "def repeater(repeat=1):\n",
    "    \"\"\"Повторение выполнения кода\"\"\"\n",
    "    def decorator(func):\n",
    "        @functools.wraps(func)\n",
    "        def wrapper(*args, **kwargs):\n",
    "            for i in range(repeat):\n",
    "                print(f'{i+1}: ', end='')\n",
    "                val = func(*args, **kwargs)\n",
    "            return val\n",
    "        return wrapper\n",
    "    return decorator\n",
    "```"
   ]
  },
  {
   "cell_type": "markdown",
   "metadata": {},
   "source": [
    "Самая внешняя функция ```repeater()```, которая принимает аргументы, возвращает ссылку на функцию декоратор ```decorator()```.\n",
    "\n",
    "В самой функции ```repeater()``` происходит несколько тонких вещей:\n",
    "\n",
    "1. Определение внутренней функции decorator() означает, что внешняя функция repeater() будет ссылаться на объект функции decorator. В простых декораторах без параметров, имя функции decorator() используется без скобок для ссылки на объект функции.\n",
    "\n",
    "```python\n",
    "@decorator\n",
    "def func():\n",
    "   ...\n",
    "```\n",
    "Добавление внешней функции необходимо при определении декораторов, которые принимают аргументы, что бы использовать скобки, для передачи параметров декоратора.\n",
    "\n",
    "```python\n",
    "@repeater(repeat=3)\n",
    "def func():\n",
    "   ...\n",
    "```\n",
    "\n",
    "2. Аргумент ```repeat```, явно не используется в самой функции ```repeater()```, но при передаче параметра создается замыкание, где значение ```repeat``` сохраняется до тех пор, пока оно не будет использовано позже функцией ```wrapper()```.\n",
    "\n",
    "Применим декоратор ```repeater()``` к функции ```say()```:"
   ]
  },
  {
   "cell_type": "code",
   "execution_count": null,
   "metadata": {},
   "outputs": [],
   "source": [
    "import functools\n",
    "\n",
    "def repeater(repeat=1):\n",
    "    \"\"\"Повторение выполнения кода\"\"\"\n",
    "    def decorator(func):\n",
    "        @functools.wraps(func)\n",
    "        def wrapper(*args, **kwargs):\n",
    "            for i in range(repeat):\n",
    "                print(f'{i+1}: ', end='')\n",
    "                val = func(*args, **kwargs)\n",
    "            return val\n",
    "        return wrapper\n",
    "    return decorator"
   ]
  },
  {
   "cell_type": "code",
   "execution_count": null,
   "metadata": {},
   "outputs": [],
   "source": [
    "@repeater(repeat=3)\n",
    "def say(name):\n",
    "    print(f'Hello {name}!')\n",
    "    \n",
    "say('Андрей')"
   ]
  },
  {
   "cell_type": "markdown",
   "metadata": {},
   "source": [
    "> Следующий пример будет создавать требуемую задержку выполнения кода. Такое поведение иногда требуется для мониторинга доступности какого нибудь ресурса. Декоратор назовем delayed."
   ]
  },
  {
   "cell_type": "code",
   "execution_count": null,
   "metadata": {},
   "outputs": [],
   "source": [
    "import functools\n",
    "import time\n",
    "\n",
    "def delayed(delay=1):\n",
    "    \"\"\"Задержка перед вызовом функции\"\"\"\n",
    "    def decorator(func):\n",
    "        @functools.wraps(func)\n",
    "        def wrapper(*args, **kwargs):\n",
    "            print(f'Спим {delay} сек.')\n",
    "            time.sleep(delay)\n",
    "            val = func(*args, **kwargs)\n",
    "            return val\n",
    "        return wrapper\n",
    "    return decorator\n",
    "\n",
    "@delayed(delay=2.5)\n",
    "def countdown(int_num):\n",
    "    if int_num < 1:\n",
    "        return\n",
    "    else:\n",
    "        print(int_num)\n",
    "    countdown(int_num - 1)    \n",
    "        \n",
    "countdown(3)"
   ]
  },
  {
   "cell_type": "markdown",
   "metadata": {},
   "source": [
    "***\n",
    "***"
   ]
  }
 ],
 "metadata": {
  "kernelspec": {
   "display_name": "Python 3 (ipykernel)",
   "language": "python",
   "name": "python3"
  },
  "language_info": {
   "codemirror_mode": {
    "name": "ipython",
    "version": 3
   },
   "file_extension": ".py",
   "mimetype": "text/x-python",
   "name": "python",
   "nbconvert_exporter": "python",
   "pygments_lexer": "ipython3",
   "version": "3.12.0"
  },
  "toc": {
   "base_numbering": 1,
   "nav_menu": {},
   "number_sections": true,
   "sideBar": true,
   "skip_h1_title": false,
   "title_cell": "Table of Contents",
   "title_sidebar": "Contents",
   "toc_cell": true,
   "toc_position": {},
   "toc_section_display": true,
   "toc_window_display": false
  }
 },
 "nbformat": 4,
 "nbformat_minor": 4
}
