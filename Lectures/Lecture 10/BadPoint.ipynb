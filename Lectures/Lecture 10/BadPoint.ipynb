{
 "cells": [
  {
   "cell_type": "markdown",
   "id": "b9a53fd5-f417-43ff-9c21-3bbc4d63d562",
   "metadata": {},
   "source": [
    "# Класс точки\n",
    "\n",
    "## Задание\n",
    "\n",
    "**Написать собственный класс ```Point``` (```Точка```).**\n",
    "\n",
    "В качестве необходимых атрибутов класс ```Point``` должен имплементировать:\n",
    "\n",
    "* Уникальный для каждой точки идентификатор ```id```, определяющий порядковый номер создаваемой точки (Можно реализовать через инкременитруемый счетчик в *статической переменной ```count```* реализованный на уровне класса);\n",
    "* Координаты ```x```, ```y```, ```z``` (для плоских координат ```z``` можно принимать по умолчанию равной ```0```);\n",
    "* Имя точки ```name``` (для \"безымянных\" точек можно передавать по умолчанию тип ```None```) **Заданные имена точек должны быть уникальны!** (Можно реализовать на уровне проверки вхождения имени в *статическую коллекцию ```names```* реализованную на уровне класса). \n",
    "\n",
    "> **Выполните в классе проверку на корректность вводимых атрибутов.**\n",
    "\n",
    "> **```Дополнительно```** Реализуйте метод класса, позволяющий построить график со всеми созданными точками и их подписанными именами.\n",
    "\n",
    "## Тут все просто!\n",
    "\n",
    "Начнем с самого понятного - напишем болванку для класса Point"
   ]
  },
  {
   "cell_type": "code",
   "execution_count": null,
   "id": "79f78f66-6a00-4b0d-ab32-6154a7ef550d",
   "metadata": {},
   "outputs": [],
   "source": [
    "class Point:\n",
    "    pass"
   ]
  },
  {
   "cell_type": "code",
   "execution_count": null,
   "id": "152315ab-c6dc-47c0-935b-969d377ced19",
   "metadata": {},
   "outputs": [],
   "source": [
    "p = Point()\n",
    "print(p)"
   ]
  },
  {
   "cell_type": "markdown",
   "id": "fd1598cd-7d97-4f5f-8771-fa37d4375bdb",
   "metadata": {},
   "source": [
    "Добавим в него метод для инициации координат:"
   ]
  },
  {
   "cell_type": "code",
   "execution_count": null,
   "id": "2074ab03-6657-4455-8a54-ea23a2074f04",
   "metadata": {},
   "outputs": [],
   "source": [
    "class Point:  \n",
    "      \n",
    "    def __init__(self, x, y, z):  \n",
    "        self.x = x  \n",
    "        self.y = y  \n",
    "        self.z = z"
   ]
  },
  {
   "cell_type": "markdown",
   "id": "93bbcef4-8545-4294-b5f6-f7991ae28f06",
   "metadata": {},
   "source": [
    "Нас просили: \"для плоских координат ```z``` можно принимать по умолчанию равной ```0```\""
   ]
  },
  {
   "cell_type": "code",
   "execution_count": null,
   "id": "9a960a61-7619-4e62-978e-783bbf4d4695",
   "metadata": {},
   "outputs": [],
   "source": [
    "class Point:  \n",
    "      \n",
    "    def __init__(self, x, y, z=0):  \n",
    "        self.x = x  \n",
    "        self.y = y  \n",
    "        self.z = z"
   ]
  },
  {
   "cell_type": "markdown",
   "id": "e9ec7ca5-f327-419e-8e16-33db71023583",
   "metadata": {},
   "source": [
    "Далее для каждой точки идентификатор ```id```, определяющий порядковый номер создаваемой точки (Можно реализовать через инкриминируемый счетчик в *статической переменной ```count```* реализованный на уровне класса);"
   ]
  },
  {
   "cell_type": "code",
   "execution_count": null,
   "id": "2fc8aa25-03fc-4792-94c0-439d8b08c879",
   "metadata": {},
   "outputs": [],
   "source": [
    "class Point:  \n",
    "  \n",
    "    count = 0  \n",
    "  \n",
    "    def __init__(self, x, y, z):  \n",
    "        Point.count += 1  \n",
    "        self.id_ = Point.count  \n",
    "        self.x = x  \n",
    "        self.y = y  \n",
    "        self.z = z"
   ]
  },
  {
   "cell_type": "markdown",
   "id": "aee74205-145f-49bb-a50d-a737816113d8",
   "metadata": {},
   "source": [
    "Добавим возможность указать имя точки ```name``` (для \"безымянных\" точек можно передавать по умолчанию тип ```None```) **Заданные имена точек должны быть уникальны!** (Можно реализовать на уровне проверки вхождения имени в *статическую коллекцию ```names```* реализованную на уровне класса)."
   ]
  },
  {
   "cell_type": "code",
   "execution_count": null,
   "id": "5a702da6-ef81-41d9-96f1-c8962563cf46",
   "metadata": {},
   "outputs": [],
   "source": [
    "class Point:\n",
    "\n",
    "    count = 0\n",
    "    names = []\n",
    "\n",
    "    def __init__(self, x, y, z=0, name=None):\n",
    "        Point.count += 1\n",
    "        self.id_ = Point.count\n",
    "        self.x = x\n",
    "        self.y = y\n",
    "        self.z = z\n",
    "        self.name = self.check_name(name)\n",
    "\n",
    "    def check_name(self, name):\n",
    "        if name in self.names:\n",
    "            raise ValueError(\"Точка с таким именемм уже есть!\")\n",
    "        else:\n",
    "            if name is None:\n",
    "                return None\n",
    "            self.names.append(name)\n",
    "            return name"
   ]
  },
  {
   "cell_type": "markdown",
   "id": "6a740da9-0c7a-4687-ba51-dbdb0be89187",
   "metadata": {},
   "source": [
    "В первом приближении все :)\n",
    "\n",
    "Переопределим еще стандартный метод ```__str__(self)``` определяющий как объект будет приводиться к типу ```str```\n"
   ]
  },
  {
   "cell_type": "code",
   "execution_count": null,
   "id": "5d5fcc8e-f086-4657-ba7a-2a62674cfb41",
   "metadata": {},
   "outputs": [],
   "source": [
    "class Point:  \n",
    "  \n",
    "    count = 0  \n",
    "    names = []  \n",
    "  \n",
    "    def __init__(self, x, y, z=0, name=None):  \n",
    "        Point.count += 1  \n",
    "        self.id_ = Point.count  \n",
    "        self.x = x  \n",
    "        self.y = y  \n",
    "        self.z = z  \n",
    "        self.name = self.check_name(name)  \n",
    "  \n",
    "    def check_name(self, name):  \n",
    "        if name in self.names:  \n",
    "            raise ValueError(\"Точка с таким именемм уже есть!\")  \n",
    "        else:  \n",
    "            if name is None:  \n",
    "                return None  \n",
    "            self.names.append(name)  \n",
    "            return name  \n",
    "  \n",
    "    def __str__(self):  \n",
    "        if self.name is None:  \n",
    "            return f\"Point (id={self.id_}, x={self.x}, y={self.y}, z={self.z})\"  \n",
    "        return f\"Point (id={self.id_}, name={self.name}, x={self.x}, y={self.y}, z={self.z})\""
   ]
  },
  {
   "cell_type": "markdown",
   "id": "b352d51a-12fa-4c43-b1de-5046dba7f7f9",
   "metadata": {},
   "source": [
    "Проверим, что получилось:"
   ]
  },
  {
   "cell_type": "code",
   "execution_count": null,
   "id": "f72c12bf-2bc0-4dfd-bccd-a64d8f30789c",
   "metadata": {},
   "outputs": [],
   "source": [
    "p1 = Point(10, 10)\n",
    "print(p1)\n",
    "\n",
    "p2 = Point(20, 20, 20)\n",
    "print(p2)\n",
    "\n",
    "p3 = Point(30, 30, 30, \"Point_3\")\n",
    "print(p3)"
   ]
  },
  {
   "cell_type": "markdown",
   "id": "268f87c1-c874-4200-a181-c1add015f712",
   "metadata": {},
   "source": [
    "Вроде все нормально... \n",
    "А если создать еще одну точку с повторяющимся именем?"
   ]
  },
  {
   "cell_type": "code",
   "execution_count": null,
   "id": "62443bc3-bb68-49cd-b491-5949db400e2e",
   "metadata": {},
   "outputs": [],
   "source": [
    "p3 = Point(30, 30, 30, \"Point_3\")\n",
    "print(p3)\n",
    "\n",
    "p4 = Point(40, 40, 40, \"Point_3\")\n",
    "print(p4)"
   ]
  },
  {
   "cell_type": "markdown",
   "id": "c86f43b7-16e2-489d-ada8-fbef51d6ba2f",
   "metadata": {},
   "source": [
    "И получим закономерную ошибку:\n",
    "\n",
    "```\n",
    "ValueError(\"Точка с таким именемм уже есть!\") \n",
    "```\n",
    "\n",
    "А если вместо числа в качестве координаты передать что-то другое?"
   ]
  },
  {
   "cell_type": "code",
   "execution_count": null,
   "id": "1d80f233-eb75-4a0a-95bb-0eaa3d657800",
   "metadata": {},
   "outputs": [],
   "source": [
    "p2 = Point(\"Двадцать\", 20, 20)\n",
    "print(p2)"
   ]
  },
  {
   "cell_type": "markdown",
   "id": "88e9e6b3-ed7c-4c81-b074-ec4f58895510",
   "metadata": {},
   "source": [
    "\n",
    "И все сработало, хотя, очевидно, что так быть не должно...\n",
    "\n",
    "Добавим проверку типа данных для вводимых координат по аналогии с проверкой имени!"
   ]
  },
  {
   "cell_type": "code",
   "execution_count": null,
   "id": "6d496a63-446d-4095-a919-4460cd89590f",
   "metadata": {},
   "outputs": [],
   "source": [
    "class Point:\n",
    "\n",
    "    count = 0\n",
    "    names = []\n",
    "\n",
    "    def __init__(self, x, y, z=0, name=None):\n",
    "        self.id_ = self.count + 1\n",
    "        Point.count += 1\n",
    "        self.x = self.check_xyz_data(x)\n",
    "        self.y = self.check_xyz_data(y)\n",
    "        self.z = self.check_xyz_data(z)\n",
    "        self.name = self.check_name(name)\n",
    "\n",
    "    def check_name(self, name):\n",
    "        if name in self.names:\n",
    "            raise ValueError(f\"Точка с именем {name} уже есть!\")\n",
    "        else:\n",
    "            if name is None:\n",
    "                return None\n",
    "            self.names.append(name)\n",
    "            return name\n",
    "\n",
    "    def check_xyz_data(self, value):\n",
    "        if isinstance(value, float):\n",
    "            return value\n",
    "        elif isinstance(value, int):\n",
    "            return float(value)\n",
    "        else:\n",
    "            raise ValueError(f\"Должно быть число! Передан тип: {type(value)} - {value}\")\n",
    "\n",
    "    def __str__(self):\n",
    "        if self.name is None:\n",
    "            return f\"Point (id={self.id_}, x={self.x}, y={self.y}, x={self.z})\"\n",
    "        return f\"Point (id={self.id_}, name={self.name}, x={self.x}, y={self.y}, x={self.z})\""
   ]
  },
  {
   "cell_type": "markdown",
   "id": "cbcde469-d2ea-4c13-90c6-a29b33da9ceb",
   "metadata": {},
   "source": [
    "Теперь при создании точки:"
   ]
  },
  {
   "cell_type": "code",
   "execution_count": null,
   "id": "eb2c4401-002c-41cf-93f4-4b9065a4f50e",
   "metadata": {},
   "outputs": [],
   "source": [
    "p2 = Point(\"Двадцать\", 20, 20)\n",
    "print(p2)"
   ]
  },
  {
   "cell_type": "markdown",
   "id": "fc70d095-0a81-4016-983a-794b87a2e45d",
   "metadata": {},
   "source": [
    "мы получим исключение:\n",
    " \n",
    "```\n",
    "ValueError: Должно быть число! Передан тип: <class 'str'> - Двадцать\n",
    "```\n",
    "\n",
    "Вроде все нормально, но что будет если попробовать \"сломать\" точку уже после ее создания? "
   ]
  },
  {
   "cell_type": "code",
   "execution_count": null,
   "id": "88b83508-01cc-4e87-b30e-e92ca4a4ac6c",
   "metadata": {},
   "outputs": [],
   "source": [
    "p2 = Point(20, 20, 20)\n",
    "p2.x = \"Двадцать\"\n",
    "print(p2)\n",
    "\n",
    "p3 = Point(30, 30, 30, \"Point_3\")\n",
    "print(p3)\n",
    "\n",
    "p4 = Point(40, 40, 40)\n",
    "p4.name = \"Point_3\"\n",
    "print(p4)"
   ]
  },
  {
   "cell_type": "markdown",
   "id": "202a26b2-b31f-44d4-be8f-1c90f6b603f3",
   "metadata": {},
   "source": [
    "и получим:\n",
    "\n",
    "```\n",
    "Point (id=1, x=Двадцать, y=20.0, x=20.0)\n",
    "Point (id=2, name=Point_3, x=30.0, y=30.0, x=30.0)\n",
    "Point (id=3, name=Point_3, x=40.0, y=40.0, x=40.0)\n",
    "```\n",
    "\n",
    "Мда....\n",
    "\n",
    "Ну что же придется с этим разобраться с помощью инкапсуляции атрибутов...\n"
   ]
  },
  {
   "cell_type": "code",
   "execution_count": null,
   "id": "a7411284-d429-4aec-81dd-ed195a5302a9",
   "metadata": {},
   "outputs": [],
   "source": [
    "class Point:\n",
    "\n",
    "    _count = 0\n",
    "    _names = []\n",
    "\n",
    "    def __init__(self, x, y, z=0, name=None):\n",
    "        self.id_ = self._count + 1\n",
    "        Point._count += 1\n",
    "        self._x = self._check_xyz_data(x)\n",
    "        self._y = self._check_xyz_data(y)\n",
    "        self._z = self._check_xyz_data(z)\n",
    "        self._name = self._check_name(name)\n",
    "\n",
    "    @property\n",
    "    def x(self):\n",
    "        return self._x\n",
    "\n",
    "    @property\n",
    "    def y(self):\n",
    "        return self._y\n",
    "\n",
    "    @property\n",
    "    def z(self):\n",
    "        return self._z\n",
    "\n",
    "    @property\n",
    "    def name(self):\n",
    "        return self._name\n",
    "\n",
    "    @x.setter\n",
    "    def x(self, value):\n",
    "        self._x = self._check_xyz_data(value)\n",
    "\n",
    "    @y.setter\n",
    "    def y(self, value):\n",
    "        self._y = self._check_xyz_data(value)\n",
    "\n",
    "    @z.setter\n",
    "    def z(self, value):\n",
    "        self._z = self._check_xyz_data(value)\n",
    "\n",
    "    @name.setter\n",
    "    def name(self, value):\n",
    "        self._name = self._check_name(value)\n",
    "\n",
    "    def _check_name(self, name):\n",
    "        if name in self._names:\n",
    "            raise ValueError(f\"Точка с именем {name} уже есть!\")\n",
    "        else:\n",
    "            if name is None:\n",
    "                return None\n",
    "            self._names.append(name)\n",
    "            return name\n",
    "\n",
    "    def _check_xyz_data(self, value):\n",
    "        if isinstance(value, float):\n",
    "            return value\n",
    "        elif isinstance(value, int):\n",
    "            return float(value)\n",
    "        else:\n",
    "            raise ValueError(f\"Должно быть число! Передан тип: {type(value)} - {value}\")\n",
    "\n",
    "    def __str__(self):\n",
    "        if self._name is None:\n",
    "            return f\"Point (id={self.id_}, x={self._x}, y={self._y}, x={self._z})\"\n",
    "        return f\"Point (id={self.id_}, name={self._name}, x={self._x}, y={self._y}, x={self._z})\""
   ]
  },
  {
   "cell_type": "markdown",
   "id": "281e7717-97f7-490d-a854-5dc67a313f2c",
   "metadata": {},
   "source": [
    "Теперь при попытке переопределить атрибут будет выполняться проверка через методы `_check_name` и `_check_xyz_data`\n",
    "\n",
    "Попробуем изменить координату точки:\n"
   ]
  },
  {
   "cell_type": "code",
   "execution_count": null,
   "id": "4962875c-eb4d-4bdd-bf8d-55b3da595876",
   "metadata": {},
   "outputs": [],
   "source": [
    "p2 = Point(20, 20, 20)\n",
    "p2.x = \"Двадцать\"\n",
    "print(p2)"
   ]
  },
  {
   "cell_type": "markdown",
   "id": "061ed1ed-4247-4300-8f9d-9e2d48d7ba21",
   "metadata": {},
   "source": [
    "и получим:\n",
    "\n",
    "```\n",
    "ValueError: Должно быть число! Передан тип: <class 'str'> - Двадцать\n",
    "```\n",
    "\n",
    "а изменив имя:"
   ]
  },
  {
   "cell_type": "code",
   "execution_count": null,
   "id": "fda1988d-1868-4dcf-b456-827a94336251",
   "metadata": {},
   "outputs": [],
   "source": [
    "p3 = Point(30, 30, 30,) \n",
    "p3._x = \"aasscvb`\"\n",
    "print(p3)  \n",
    "  \n",
    "# p4 = Point(40, 40, 40)  \n",
    "# p4.name = \"Point_3\"  \n",
    "# print(p4)"
   ]
  },
  {
   "cell_type": "markdown",
   "id": "1d042909-714d-4ae2-b3ba-8314cdfab4e2",
   "metadata": {},
   "source": [
    "\n",
    "```\n",
    "Point (id=1, name=Point_3, x=30.0, y=30.0, x=30.0)\n",
    "ValueError: Точка с именем Point_3 уже есть!\n",
    "```\n",
    "\n",
    "Теперь точно все нормально!\n",
    "\n",
    "Выполним допольнительно задание:\n",
    "\n",
    "> **```Дополнительно```** Реализуйте метод класса, позволяющий построить график со всеми созданными точками и их подписанными именами.\n",
    "\n",
    "Для этого нам нужно создать статичную переменную в которой будут храниться все создаваемые точки:\n",
    "\n",
    "```python\n",
    "class Point:  \n",
    "  \n",
    "    _count = 0  \n",
    "    _names = []  \n",
    "    _points = []  \n",
    "  \n",
    "    def __init__(self, x, y, z=0, name=None):  \n",
    "        self.id_ = self._count + 1  \n",
    "        Point._count += 1  \n",
    "        self._x = self._check_xyz_data(x)  \n",
    "        self._y = self._check_xyz_data(y)  \n",
    "        self._z = self._check_xyz_data(z)  \n",
    "        self._name = self._check_name(name)  \n",
    "        self._points.append(self)\n",
    "    ...\n",
    "```\n",
    "\n",
    "\n",
    "А теперь мы можем написать метод для построения графика:\n",
    "\n",
    "```python\n",
    "@classmethod  \n",
    "def plot_points(cls):  \n",
    "    fig, ax = plt.subplots()  \n",
    "    x, y = [], []  \n",
    "    for point in cls._points:  \n",
    "        x.append(point.x)  \n",
    "        y.append(point.y)  \n",
    "        if point.name is not None:  \n",
    "            ax.text(point.x, point.y, point.name)  \n",
    "    ax.scatter(x, y)  \n",
    "    ax.set_xlabel(\"X\")  \n",
    "    ax.set_ylabel(\"Y\")  \n",
    "    ax.grid()  \n",
    "    plt.axis(\"equal\")  \n",
    "    plt.show()\n",
    "```"
   ]
  },
  {
   "cell_type": "markdown",
   "id": "c54cf946-3e1d-43d6-b52e-38afb93e1d00",
   "metadata": {},
   "source": [
    "Все вместе будет:"
   ]
  },
  {
   "cell_type": "code",
   "execution_count": null,
   "id": "a3b3e640-45d7-432a-b68d-0fe4b419c46d",
   "metadata": {},
   "outputs": [],
   "source": [
    "from matplotlib import pyplot as plt\n",
    "\n",
    "\n",
    "class Point:\n",
    "\n",
    "    _count = 0\n",
    "    _names = []\n",
    "    _points = []\n",
    "\n",
    "    def __init__(self, x, y, z=0, name=None):\n",
    "        self.id_ = self._count + 1\n",
    "        Point._count += 1\n",
    "        self._x = self._check_xyz_data(x)\n",
    "        self._y = self._check_xyz_data(y)\n",
    "        self._z = self._check_xyz_data(z)\n",
    "        self._name = self._check_name(name)\n",
    "        self._points.append(self)\n",
    "\n",
    "    @classmethod\n",
    "    def plot_points(cls):\n",
    "        fig, ax = plt.subplots()\n",
    "        x, y = [], []\n",
    "        for point in cls._points:\n",
    "            x.append(point.x)\n",
    "            y.append(point.y)\n",
    "            if point.name is not None:\n",
    "                ax.text(point.x, point.y, point.name)\n",
    "        ax.scatter(x, y)\n",
    "        ax.set_xlabel(\"X\")\n",
    "        ax.set_ylabel(\"Y\")\n",
    "        ax.grid()\n",
    "        plt.axis(\"equal\")\n",
    "        plt.show()\n",
    "\n",
    "    @property\n",
    "    def x(self):\n",
    "        return self._x\n",
    "\n",
    "    @property\n",
    "    def y(self):\n",
    "        return self._y\n",
    "\n",
    "    @property\n",
    "    def z(self):\n",
    "        return self._z\n",
    "\n",
    "    @property\n",
    "    def name(self):\n",
    "        return self._name\n",
    "\n",
    "    @x.setter\n",
    "    def x(self, value):\n",
    "        self._x = self._check_xyz_data(value)\n",
    "\n",
    "    @y.setter\n",
    "    def y(self, value):\n",
    "        self._y = self._check_xyz_data(value)\n",
    "\n",
    "    @z.setter\n",
    "    def z(self, value):\n",
    "        self._z = self._check_xyz_data(value)\n",
    "\n",
    "    @name.setter\n",
    "    def name(self, value):\n",
    "        self._name = self._check_name(value)\n",
    "\n",
    "    def _check_name(self, name):\n",
    "        if name in self._names:\n",
    "            raise ValueError(f\"Точка с именем {name} уже есть!\")\n",
    "        else:\n",
    "            if name is None:\n",
    "                return None\n",
    "            self._names.append(name)\n",
    "            return name\n",
    "\n",
    "    def _check_xyz_data(self, value):\n",
    "        if isinstance(value, float):\n",
    "            return value\n",
    "        elif isinstance(value, int):\n",
    "            return float(value)\n",
    "        else:\n",
    "            raise ValueError(f\"Должно быть число! Передан тип: {type(value)} - {value}\")\n",
    "\n",
    "    def __str__(self):\n",
    "        if self._name is None:\n",
    "            return f\"Point (id={self.id_}, x={self._x}, y={self._y}, x={self._z})\"\n",
    "        return f\"Point (id={self.id_}, name={self._name}, x={self._x}, y={self._y}, x={self._z})\""
   ]
  },
  {
   "cell_type": "code",
   "execution_count": null,
   "id": "cd71848a-7a07-46eb-b03f-8ee6f4045f3b",
   "metadata": {},
   "outputs": [],
   "source": [
    "p1 = Point(10, 10)\n",
    "# print(p1)\n",
    "\n",
    "# p3 = Point(12, 43, 30, \"Point_1\")\n",
    "# print(p3)\n",
    "\n",
    "# p4 = Point(32, 30, 30)\n",
    "# print(p4)\n",
    "\n",
    "# p2 = Point(20, 12, 20)\n",
    "# print(p2)\n",
    "\n",
    "# p3 = Point(34, 30, 30, \"Point_3\")\n",
    "# print(p3)\n",
    "\n",
    "p4 = Point(40, 34, 40)\n",
    "print(p4)\n",
    "\n",
    "p4 = Point(20, 25, 40)\n",
    "print(p4)\n",
    "\n",
    "# Point.plot_points()\n",
    "p4.plot_points()"
   ]
  },
  {
   "cell_type": "code",
   "execution_count": null,
   "id": "89fe440b-8cf1-4055-8b64-685c57fcfcc4",
   "metadata": {},
   "outputs": [],
   "source": []
  }
 ],
 "metadata": {
  "kernelspec": {
   "display_name": "Python 3 (ipykernel)",
   "language": "python",
   "name": "python3"
  },
  "language_info": {
   "codemirror_mode": {
    "name": "ipython",
    "version": 3
   },
   "file_extension": ".py",
   "mimetype": "text/x-python",
   "name": "python",
   "nbconvert_exporter": "python",
   "pygments_lexer": "ipython3",
   "version": "3.12.0"
  }
 },
 "nbformat": 4,
 "nbformat_minor": 5
}
