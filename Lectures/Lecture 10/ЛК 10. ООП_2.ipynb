{
 "cells": [
  {
   "cell_type": "markdown",
   "metadata": {},
   "source": [
    "# Объектно-ориентированное программирование. Часть 2"
   ]
  },
  {
   "cell_type": "markdown",
   "metadata": {},
   "source": [
    "## Абстрактные классы"
   ]
  },
  {
   "cell_type": "markdown",
   "metadata": {},
   "source": [
    "'<img src=\"img/scale_1200-2.png\" >'\n",
    "\n",
    "> **Абстрактный класс** в объектно-ориентированном программировании — базовый класс, который не предполагает создания экземпляров. \n",
    "\n",
    "* **Абстрактные классы** реализуют на практике один из принципов ООП — ```полиморфизм```. \n",
    "\n",
    "* **Абстрактный класс** может содержать (и не содержать) абстрактные методы и свойства. \n",
    "\n",
    "* **Абстрактный метод** не реализуется для класса, в котором описан, однако должен быть реализован для его неабстрактных потомков.\n",
    "\n",
    "* **Абстрактные классы** представляют собой наиболее общие абстракции, то есть имеющие наибольший объём и наименьшее содержание.\n",
    "\n",
    "В одних языках создавать экземпляры абстрактных классов запрещено, в других это допускается (например, ```Delphi```), но обращение к абстрактному методу объекта этого класса в процессе выполнения программы приведёт к ошибке. \n",
    "\n",
    "Во многих языках допустимо объявить любой класс абстрактным, даже если в нём нет абстрактных методов (например, ```Java```), именно для запрета создания экземпляров. \n",
    "\n",
    "Абстрактный класс можно рассматривать в качестве ```интерфейса``` к семейству классов, порождённому им, но, в отличие от классического интерфейса, **абстрактный класс может иметь определённые методы, а также свойства**."
   ]
  },
  {
   "cell_type": "markdown",
   "metadata": {},
   "source": [
    "> **Абстрактным** называется класс, который содержит один и более абстрактных методов. \n",
    "\n",
    "> Абстрактным называется объявленный, но не реализованный метод. \n",
    "\n",
    "> Абстрактные классы не могут быть инстанциированы, от них нужно унаследовать, реализовать все их абстрактные методы и только тогда можно создать экземпляр такого класса. \n",
    "\n",
    "**В ```Python``` отсутствует встроенная поддержка абстрактных классов, для этой цели используется модуль ```abc (Abstract Base Class)```**\n",
    "\n",
    "Возьмем для примера, шахматы. У всех шахматных фигур есть общий функционал, например - возможность фигуры ходить и быть отображенной на доске. Исходя из этого, мы можем создать абстрактный класс ```Фигура```, определить в нем ```абстрактный метод``` (в нашем случае - ```ход```, поскольку каждая фигура ходит по-своему) и реализовать общий функционал (```отрисовка на доске```)."
   ]
  },
  {
   "cell_type": "code",
   "execution_count": null,
   "metadata": {},
   "outputs": [],
   "source": [
    "from abc import ABC, abstractmethod\n",
    " \n",
    "class ChessPiece(ABC):\n",
    "    # общий метод, который будут использовать все наследники этого класса\n",
    "    def draw(self):\n",
    "        print(\"Drew a chess piece\")\n",
    " \n",
    "    # абстрактный метод, который будет необходимо переопределять для каждого подкласса\n",
    "    @abstractmethod\n",
    "    def move(self):\n",
    "        pass"
   ]
  },
  {
   "cell_type": "code",
   "execution_count": null,
   "metadata": {},
   "outputs": [],
   "source": [
    "a = ChessPiece()   # TypeError: Can't instantiate abstract class ChessPiece with abstract methods move"
   ]
  },
  {
   "cell_type": "code",
   "execution_count": null,
   "metadata": {},
   "outputs": [],
   "source": [
    "class Queen(ChessPiece):\n",
    "    pass"
   ]
  },
  {
   "cell_type": "code",
   "execution_count": null,
   "metadata": {},
   "outputs": [],
   "source": [
    "q = Queen()"
   ]
  },
  {
   "cell_type": "code",
   "execution_count": null,
   "metadata": {},
   "outputs": [],
   "source": [
    "class Queen(ChessPiece):\n",
    "    def move(self):\n",
    "        print(\"Moved Queen to e2e4\")"
   ]
  },
  {
   "cell_type": "code",
   "execution_count": null,
   "metadata": {},
   "outputs": [],
   "source": [
    "class Knight(ChessPiece):\n",
    "    def move(self):\n",
    "        print(\"Moved Knight to b1c3\")"
   ]
  },
  {
   "cell_type": "code",
   "execution_count": null,
   "metadata": {},
   "outputs": [],
   "source": [
    "# Мы можем создать экземпляр класса\n",
    "q = Queen()\n",
    "# И нам доступны все методы класса\n",
    "q.draw()\n",
    "q.move()"
   ]
  },
  {
   "cell_type": "code",
   "execution_count": null,
   "metadata": {},
   "outputs": [],
   "source": [
    "k = Knight()\n",
    "k.draw()\n",
    "k.move()"
   ]
  },
  {
   "cell_type": "markdown",
   "metadata": {},
   "source": [
    "> **Обратите внимание**, абстрактный метод может быть реализован сразу в абстрактном классе, однако, декоратор ```@abstractmethod```, обяжет программистов, реализующих подкласс либо реализовать собственную версию абстрактного метода, либо дополнить существующую. В таком случае, мы можем переопределять метод как в обычном наследовании, а вызывать родительский метод при помощи ```super()```."
   ]
  },
  {
   "cell_type": "code",
   "execution_count": null,
   "metadata": {},
   "outputs": [],
   "source": [
    "from abc import ABC, abstractmethod\n",
    " \n",
    "class BasicABC(ABC):\n",
    "    @abstractmethod\n",
    "    def hello(self):\n",
    "        print(\"Hello from Basic class\")\n",
    "\n",
    "class Basic(BasicABC):\n",
    "    def hello(self):\n",
    "        super().hello()\n",
    "        \n",
    "class Advanced(BasicABC):\n",
    "    def hello(self):\n",
    "        super().hello()\n",
    "        print(\"Enriched functionality\")"
   ]
  },
  {
   "cell_type": "code",
   "execution_count": null,
   "metadata": {},
   "outputs": [],
   "source": [
    "b = Basic()\n",
    "b.hello()"
   ]
  },
  {
   "cell_type": "code",
   "execution_count": null,
   "metadata": {},
   "outputs": [],
   "source": [
    "a = Advanced()\n",
    "a.hello()"
   ]
  },
  {
   "cell_type": "markdown",
   "metadata": {},
   "source": [
    "Таким образом, используя концепцию **абстрактных классов**, мы можем улучшить качество архитектуры приложения, уменьшить объем работы и при этом, обеспечить легкость дальнейшей поддержки кода."
   ]
  },
  {
   "cell_type": "markdown",
   "metadata": {},
   "source": [
    "## Обзор наследования в Python\n",
    "\n",
    "Все в ```Python``` является объектом. Модули — это объекты, определения классов и функции — это объекты, и, конечно, объекты, созданные из классов, тоже являются объектами.\n",
    "\n",
    "Наследование является обязательной функцией каждого объектно-ориентированного языка программирования. Это означает, что ```Python``` поддерживает наследование, и это один из немногих языков, который поддерживает **множественное наследование**.\n",
    "\n",
    "Когда вы пишете код ```Python``` с использованием классов, вы используете наследование, даже если вы не знаете, что используете его."
   ]
  },
  {
   "cell_type": "markdown",
   "metadata": {},
   "source": [
    "### Объект Супер Класс\n",
    "\n",
    "Самый простой способ увидеть наследование в ```Python``` — это написать самый простой из возможных классов:"
   ]
  },
  {
   "cell_type": "code",
   "execution_count": null,
   "metadata": {},
   "outputs": [],
   "source": [
    "class MyClass:\n",
    "    pass"
   ]
  },
  {
   "cell_type": "code",
   "execution_count": null,
   "metadata": {},
   "outputs": [],
   "source": [
    "c = MyClass()\n",
    "dir(c)"
   ]
  },
  {
   "cell_type": "markdown",
   "metadata": {},
   "source": [
    "Мы объявили класс ```MyClass```, который мало что делает, но он проиллюстрирует самые основные концепции наследования. Теперь, когда у нас объявлен класс, мы можем использовать функцию ```dir()``` для получения списка его членов:"
   ]
  },
  {
   "cell_type": "code",
   "execution_count": null,
   "metadata": {},
   "outputs": [],
   "source": [
    "o = object()\n",
    "dir(o)"
   ]
  },
  {
   "cell_type": "markdown",
   "metadata": {},
   "source": [
    "```dir()``` возвращает список всех членов в указанном объекте. Мы не объявили ни одного члена в ```MyClass```, так откуда этот список?"
   ]
  },
  {
   "cell_type": "markdown",
   "metadata": {},
   "source": [
    "Как видите, два списка практически идентичны. В ```MyClass``` есть несколько дополнительных членов, таких как ```__dict__``` и ```__weakref__```, но каждый отдельный член класса ```object``` также присутствует в ```MyClass```.\n",
    "\n",
    "Это потому, что каждый класс, который вы создаете в ```Python```, неявно происходит от ```object```. Мы могли бы быть более явным и написать: \n",
    "\n",
    "```python\n",
    "class MyClass (object):\n",
    "```\n",
    "но это избыточно и не нужно."
   ]
  },
  {
   "cell_type": "markdown",
   "metadata": {},
   "source": [
    "## Множественное наследование в ```Python```"
   ]
  },
  {
   "cell_type": "markdown",
   "metadata": {},
   "source": [
    "Язык программирования ```Python``` поддерживает и возможность **множественного наследования**. \n",
    "\n",
    "> То есть, возможность у класса потомка наследовать функционал не от одного, а от нескольких родителей. \n",
    "\n",
    "Благодаря этому мы можем создавать сложные структуры, сохраняя простой и легко-поддерживаемый код.\n",
    "\n",
    "Например, у нас есть класс автомобиля:"
   ]
  },
  {
   "cell_type": "code",
   "execution_count": null,
   "metadata": {},
   "outputs": [],
   "source": [
    "class Auto:\n",
    "    def ride(self):\n",
    "        print(\"Riding on a ground\")"
   ]
  },
  {
   "cell_type": "markdown",
   "metadata": {},
   "source": [
    "Так же у нас есть класс для лодки:"
   ]
  },
  {
   "cell_type": "code",
   "execution_count": null,
   "metadata": {},
   "outputs": [],
   "source": [
    "class Boat:\n",
    "    def swim(self):\n",
    "        print(\"Sailing in the ocean\")"
   ]
  },
  {
   "cell_type": "markdown",
   "metadata": {},
   "source": [
    "Теперь, если нам нужно запрограммировать автомобиль-амфибию, который будет плавать в воде и ездить по земле, мы вместо написания нового класса, можем просто унаследовать от уже существующих:"
   ]
  },
  {
   "cell_type": "code",
   "execution_count": null,
   "metadata": {},
   "outputs": [],
   "source": [
    "class Amphibian(Auto, Boat):\n",
    "    pass\n",
    " \n",
    "a = Amphibian()\n",
    "a.ride()\n",
    "a.swim()"
   ]
  },
  {
   "cell_type": "markdown",
   "metadata": {},
   "source": [
    "> Обратите внимание, что инстанс класса ```Amphibian```, будет одновременно инстансом класса ```Auto``` и ```Boat```, то есть:"
   ]
  },
  {
   "cell_type": "code",
   "execution_count": null,
   "metadata": {},
   "outputs": [],
   "source": [
    "a = Amphibian()\n",
    "\n",
    "print(isinstance(a, Auto))\n",
    "print(isinstance(a, Boat))\n",
    "print(isinstance(a, Amphibian))"
   ]
  },
  {
   "cell_type": "code",
   "execution_count": null,
   "metadata": {},
   "outputs": [],
   "source": [
    "a = Amphibian()\n",
    "\n",
    "print(a == Auto)\n",
    "print(a == Boat)\n",
    "print(a == Amphibian)"
   ]
  },
  {
   "cell_type": "code",
   "execution_count": null,
   "metadata": {},
   "outputs": [],
   "source": [
    "a = Amphibian()\n",
    "\n",
    "print(type(a) == Auto)\n",
    "print(type(a) == Boat)\n",
    "print(type(a) == Amphibian)"
   ]
  },
  {
   "cell_type": "markdown",
   "metadata": {},
   "source": [
    "## Порядок разрешения методов (*Method Resolution Order / MRO*) в ```Python```. Ромбовидное наследование (*The Diamond Problem*)"
   ]
  },
  {
   "cell_type": "markdown",
   "metadata": {},
   "source": [
    "Итак, классы-наследники могут использовать родительские методы. Но что, если у нескольких родителей будут одинаковые методы? \n",
    "Какой метод в таком случае будет использовать наследник? \n",
    "\n",
    "Рассмотрим классический пример:"
   ]
  },
  {
   "cell_type": "code",
   "execution_count": null,
   "metadata": {},
   "outputs": [],
   "source": [
    "class A:\n",
    "    def hi(self):\n",
    "        print(\"A\")\n",
    "\n",
    "class B(A):\n",
    "    def hi(self):\n",
    "        print(\"B\")\n",
    "\n",
    "class C(A):\n",
    "    def hi(self):\n",
    "        print(\"C\")\n",
    "        \n",
    "class D(C, B):\n",
    "    pass\n",
    " \n",
    "d = D()\n",
    "d.hi()"
   ]
  },
  {
   "cell_type": "markdown",
   "metadata": {},
   "source": [
    "Эта ситуация, так называемое **ромбовидное наследование (diamond problem)** решается в ```Python``` путем установления порядка разрешения методов. \n",
    "\n",
    "В ```Python3``` для определения порядка используется **алгоритм поиска в ширину**, то есть сначала интерпретатор будет искать метод ```hi``` в классе ```B```, если его там нету - в классе ```С```, потом ```A```. \n",
    "\n",
    "В ```Python2``` используется **алгоритм поиска в глубину**, то есть в данном случае - сначала ```B```, потом - ```А```, потом ```С```. \n",
    "\n",
    "В ```Python3``` можно посмотреть в каком порядке будут проинспектированы родительские классы при помощи метода класса ```mro()```:"
   ]
  },
  {
   "cell_type": "code",
   "execution_count": null,
   "metadata": {},
   "outputs": [],
   "source": [
    "D.mro()"
   ]
  },
  {
   "cell_type": "markdown",
   "metadata": {},
   "source": [
    "Если вам необходимо использовать метод конкретного родителя, например ```hi()``` класса ```С```, нужно напрямую вызвать его по имени класса, передав ```self``` в качестве аргумента:"
   ]
  },
  {
   "cell_type": "code",
   "execution_count": null,
   "metadata": {},
   "outputs": [],
   "source": [
    "class D(B, C):\n",
    "    def call_hi(self):\n",
    "        A.hi(self)\n",
    "        super().hi()\n",
    "\n",
    "d = D()\n",
    "d.call_hi()"
   ]
  },
  {
   "cell_type": "markdown",
   "metadata": {},
   "source": [
    "## Примеси (*Mixins*) в ```Python```\n",
    "\n",
    "Использование множественного наследования, позволяет нам создавать, так называемые, **классы-примеси** или **миксины**.\n",
    "\n",
    "Представим, что мы программируем класс для автомобиля. Мы хотим, чтобы у нас была возможность слушать музыку в машине. Конечно, можно просто добавить метод ```play_music()``` в класс ```Car```:"
   ]
  },
  {
   "cell_type": "code",
   "execution_count": null,
   "metadata": {},
   "outputs": [],
   "source": [
    "class Car:\n",
    "    def ride(self):\n",
    "        print(\"Riding a car\")\n",
    " \n",
    "    def play_music(self, song):\n",
    "        print(f\"Now playing: {song}\")"
   ]
  },
  {
   "cell_type": "code",
   "execution_count": null,
   "metadata": {},
   "outputs": [],
   "source": [
    "c = Car()\n",
    "c.ride()\n",
    "c.play_music(\"Queen - Bohemian Rhapsody\")"
   ]
  },
  {
   "cell_type": "markdown",
   "metadata": {},
   "source": [
    "Но что если, у нас есть еще и телефон, радио или любой другой девайс, с которого мы будем слушать музыку. В таком случае, лучше вынести функционал проигрывания музыки в отдельный класс-миксин:"
   ]
  },
  {
   "cell_type": "code",
   "execution_count": null,
   "metadata": {},
   "outputs": [],
   "source": [
    "class MusicPlayerMixin:\n",
    "    def play_music(self, song):\n",
    "        print(f\"Now playing: {song}\")"
   ]
  },
  {
   "cell_type": "markdown",
   "metadata": {},
   "source": [
    "Мы можем \"домешивать\" этот класс в любой, где нужна функция проигрывания музыки:"
   ]
  },
  {
   "cell_type": "code",
   "execution_count": null,
   "metadata": {},
   "outputs": [],
   "source": [
    "class Smartphone(MusicPlayerMixin):\n",
    "    pass\n",
    "\n",
    "class Radio(MusicPlayerMixin):\n",
    "    pass\n",
    " \n",
    "class Amphibian(Auto, Boat, MusicPlayerMixin):\n",
    "    pass\n",
    "\n",
    "r = Radio()\n",
    "r.play_music(\"weqwf\")"
   ]
  },
  {
   "cell_type": "code",
   "execution_count": null,
   "metadata": {},
   "outputs": [],
   "source": [
    "class Car:\n",
    "\n",
    "    def __init__(self):\n",
    "        self.mpm = MusicPlayerMixin()\n",
    "        \n",
    "    def ride(self):\n",
    "        print(\"Riding a car\")\n",
    " \n",
    "    def play_music(self, song):\n",
    "        self.mpm.play_music(song)\n",
    "\n",
    "c = Car()\n",
    "\n",
    "c.play_music(\"adsv\")"
   ]
  },
  {
   "cell_type": "markdown",
   "metadata": {},
   "source": [
    "## Наследование и композиция"
   ]
  },
  {
   "cell_type": "markdown",
   "metadata": {},
   "source": [
    "**Наследование** (Inheritance) и **композиция** (composition) — это две важные концепции в объектно-ориентированном программировании, которые моделируют отношения между двумя классами. \n",
    "\n",
    "Они являются строительными блоками объектно-ориентированного проектирования (object oriented design) и помогают программистам писать повторно используемый код.\n",
    "\n",
    "**Наследование** и **композиция** являются двумя основными понятиями в объектно-ориентированном программировании, которые моделируют отношения между двумя классами. Они определяют дизайн приложения и определяют, как приложение должно развиваться по мере добавления новых функций или изменения требований.\n",
    "\n",
    "Оба они реализуют повторное использование кода, но делают это по-разному."
   ]
  },
  {
   "cell_type": "markdown",
   "metadata": {},
   "source": [
    "### Наследование\n",
    "\n",
    "> **Модели наследования — это отношения.**\n",
    "\n",
    "Это означает, что когда у вас есть класс ```Derived```, который наследуется от базового класса ```Base```, вы создали отношение, в котором ```Derived``` является специализированной версией ```Base```."
   ]
  },
  {
   "cell_type": "markdown",
   "metadata": {},
   "source": [
    "> **Примечание. в отношениях наследования:**\n",
    "\n",
    "* Классы, которые наследуются от другого, называются производными классами, подклассами или подтипами.\n",
    "* Классы, из которых получены другие классы, называются базовыми классами или суперклассами.\n",
    "* Считается, что производный класс порождает, наследует или расширяет базовый класс.\n",
    "\n",
    "Допустим, у вас есть базовый класс ```Animal```, и вы создаете его для создания класса ```Horse```. В наследственных отношениях говорится, что ```Horse``` — это ```Animal```. Это означает, что ```Horse``` наследует интерфейс и реализацию ```Animal```, и объекты ```Horse``` могут использоваться для замены объектов ```Animal``` в приложении.\n",
    "\n",
    "Это известно как **принцип подстановки Лисков**. \n",
    "\n",
    "> Принцип гласит, что **«в компьютерной программе, если ```S``` является подтипом ```T```, объекты типа ```T``` могут быть заменены объектами типа ```S``` без изменения каких-либо требуемых свойств программы»**."
   ]
  },
  {
   "cell_type": "markdown",
   "metadata": {},
   "source": [
    "### Композиция "
   ]
  },
  {
   "cell_type": "markdown",
   "metadata": {},
   "source": [
    "> **Композиция** — это концепция, которая моделирует отношения. \n",
    "\n",
    "Она позволяет создавать сложные типы, комбинируя объекты других типов. Это означает, что класс ```Composite``` может *содержать объект другого класса* ```Component```."
   ]
  },
  {
   "cell_type": "markdown",
   "metadata": {},
   "source": [
    "Как вы можете видеть, когда мы вызываем MyError, в выводе правильно указывается тип возникшей ошибки."
   ]
  }
 ],
 "metadata": {
  "kernelspec": {
   "display_name": "Python 3 (ipykernel)",
   "language": "python",
   "name": "python3"
  },
  "language_info": {
   "codemirror_mode": {
    "name": "ipython",
    "version": 3
   },
   "file_extension": ".py",
   "mimetype": "text/x-python",
   "name": "python",
   "nbconvert_exporter": "python",
   "pygments_lexer": "ipython3",
   "version": "3.12.0"
  },
  "toc": {
   "base_numbering": 1,
   "nav_menu": {},
   "number_sections": true,
   "sideBar": true,
   "skip_h1_title": false,
   "title_cell": "Table of Contents",
   "title_sidebar": "Contents",
   "toc_cell": true,
   "toc_position": {},
   "toc_section_display": true,
   "toc_window_display": false
  }
 },
 "nbformat": 4,
 "nbformat_minor": 4
}
