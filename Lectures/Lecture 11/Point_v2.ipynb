{
 "cells": [
  {
   "cell_type": "code",
   "execution_count": null,
   "id": "9676cba7-60c7-431e-b323-86b51f8e8f75",
   "metadata": {},
   "outputs": [],
   "source": [
    "from matplotlib import pyplot as plt"
   ]
  },
  {
   "cell_type": "markdown",
   "id": "f8414ecc-07f0-4efd-bc91-342e35fb23f8",
   "metadata": {},
   "source": [
    "## Предыдущее решение"
   ]
  },
  {
   "cell_type": "code",
   "execution_count": null,
   "id": "add1901f-d711-4915-90aa-5d41853f65d5",
   "metadata": {},
   "outputs": [],
   "source": [
    "class Point:\n",
    "\n",
    "    _count = 0\n",
    "    _names = []\n",
    "    _points = []\n",
    "\n",
    "    def __init__(self, x, y, z=0, name=None):\n",
    "        self.id_ = self._count + 1\n",
    "        Point._count += 1\n",
    "        self._x = self._check_xyz_data(x)\n",
    "        self._y = self._check_xyz_data(y)\n",
    "        self._z = self._check_xyz_data(z)\n",
    "        self._name = self._check_name(name)\n",
    "        self._points.append(self)\n",
    "\n",
    "    @classmethod\n",
    "    def plot_points(cls):\n",
    "        fig, ax = plt.subplots()\n",
    "        x, y = [], []\n",
    "        for point in cls._points:\n",
    "            x.append(point.x)\n",
    "            y.append(point.y)\n",
    "            if point.name is not None:\n",
    "                ax.text(point.x, point.y, point.name)\n",
    "        ax.scatter(x, y)\n",
    "        ax.set_xlabel(\"X\")\n",
    "        ax.set_ylabel(\"Y\")\n",
    "        ax.grid()\n",
    "        plt.axis(\"equal\")\n",
    "        plt.show()\n",
    "\n",
    "    @property\n",
    "    def x(self):\n",
    "        return self._x\n",
    "\n",
    "    @property\n",
    "    def y(self):\n",
    "        return self._y\n",
    "\n",
    "    @property\n",
    "    def z(self):\n",
    "        return self._z\n",
    "\n",
    "    @property\n",
    "    def name(self):\n",
    "        return self._name\n",
    "\n",
    "    @x.setter\n",
    "    def x(self, value):\n",
    "        self._x = self._check_xyz_data(value)\n",
    "\n",
    "    @y.setter\n",
    "    def y(self, value):\n",
    "        self._y = self._check_xyz_data(value)\n",
    "\n",
    "    @z.setter\n",
    "    def z(self, value):\n",
    "        self._z = self._check_xyz_data(value)\n",
    "\n",
    "    @name.setter\n",
    "    def name(self, value):\n",
    "        self._name = self._check_name(value)\n",
    "\n",
    "    def _check_name(self, name):\n",
    "        if name in self._names:\n",
    "            raise ValueError(f\"Точка с именем {name} уже есть!\")\n",
    "        else:\n",
    "            if name is None:\n",
    "                return None\n",
    "            self._names.append(name)\n",
    "            return name\n",
    "\n",
    "    def _check_xyz_data(self, value):\n",
    "        if isinstance(value, float):\n",
    "            return value\n",
    "        elif isinstance(value, int):\n",
    "            return float(value)\n",
    "        else:\n",
    "            raise ValueError(f\"Должно быть число! Передан тип: {type(value)} - {value}\")\n",
    "\n",
    "    def __str__(self):\n",
    "        if self._name is None:\n",
    "            return f\"Point (id={self.id_}, x={self._x}, y={self._y}, x={self._z})\"\n",
    "        return f\"Point (id={self.id_}, name={self._name}, x={self._x}, y={self._y}, x={self._z})\""
   ]
  },
  {
   "cell_type": "code",
   "execution_count": null,
   "id": "28a6a24f-f8d6-4e35-b3fd-913d7e9d792b",
   "metadata": {},
   "outputs": [],
   "source": [
    "# p1 = Point(10, 10)\n",
    "# print(p1)\n",
    "\n",
    "# p3 = Point(12, 43, 30, \"Point_1\")\n",
    "# print(p3)\n",
    "\n",
    "# p4 = Point(32, 30, 30)\n",
    "# print(p4)\n",
    "\n",
    "# p2 = Point(20, 12, 20)\n",
    "# print(p2)\n",
    "\n",
    "# p3 = Point(34, 30, 30, \"Point_3\")\n",
    "# print(p3)\n",
    "\n",
    "# p4 = Point(40, 34, 40)\n",
    "# print(p4)\n",
    "\n",
    "# Point.plot_points()"
   ]
  },
  {
   "cell_type": "markdown",
   "id": "8a634897-5de9-40bc-b3ca-03c3f365fb6e",
   "metadata": {},
   "source": [
    "---\n",
    "---"
   ]
  },
  {
   "cell_type": "markdown",
   "id": "b49fbee8-82f5-471c-9dcb-ba952f08ac26",
   "metadata": {},
   "source": [
    "## Разделение на интерфейсы"
   ]
  },
  {
   "cell_type": "code",
   "execution_count": null,
   "id": "764d84d4-eefc-474a-b939-513253d0e37a",
   "metadata": {},
   "outputs": [],
   "source": [
    "class IDble:\n",
    "    __count = 0\n",
    "\n",
    "    def __init__(self):\n",
    "        self.__class__.__count += 1\n",
    "        self._id_ = self.__class__.__count\n",
    "\n",
    "    @property\n",
    "    def id(self):\n",
    "        return self._id_"
   ]
  },
  {
   "cell_type": "code",
   "execution_count": null,
   "id": "3e92bfc1-8324-4351-a15a-8e2157ad35a3",
   "metadata": {},
   "outputs": [],
   "source": [
    "class Namable:\n",
    "\n",
    "    __names = set()\n",
    "\n",
    "    def __init__(self, name):\n",
    "        self._name = self._check_name(name)\n",
    "\n",
    "    def _check_name(self, name):\n",
    "        if name in self.__names:\n",
    "            raise ValueError(f\"Точка с именем {name} уже есть!\")\n",
    "        else:\n",
    "            if name is None:\n",
    "                return None\n",
    "            self.__names.add(name)\n",
    "            return name\n",
    "\n",
    "    @property\n",
    "    def name(self):\n",
    "        return self._name\n",
    "\n",
    "    @name.setter\n",
    "    def name(self, value):\n",
    "        self._name = self._check_name(value)\n"
   ]
  },
  {
   "cell_type": "code",
   "execution_count": null,
   "id": "9411a78e-9e58-4609-9a95-16d63ab467ce",
   "metadata": {},
   "outputs": [],
   "source": [
    "class Point:\n",
    "\n",
    "    def __init__(self, x, y, z=0):\n",
    "        self._x = self._check_xyz_data(x)\n",
    "        self._y = self._check_xyz_data(y)\n",
    "        self._z = self._check_xyz_data(z)\n",
    "\n",
    "    @property\n",
    "    def x(self):\n",
    "        return self._x\n",
    "\n",
    "    @property\n",
    "    def y(self):\n",
    "        return self._y\n",
    "\n",
    "    @property\n",
    "    def z(self):\n",
    "        return self._z\n",
    "\n",
    "    @x.setter\n",
    "    def x(self, value):\n",
    "        self._x = self._check_xyz_data(value)\n",
    "\n",
    "    @y.setter\n",
    "    def y(self, value):\n",
    "        self._y = self._check_xyz_data(value)\n",
    "\n",
    "    @z.setter\n",
    "    def z(self, value):\n",
    "        self._z = self._check_xyz_data(value)\n",
    "\n",
    "    @staticmethod\n",
    "    def _check_xyz_data(value):\n",
    "        if isinstance(value, float):\n",
    "            return value\n",
    "        elif isinstance(value, int):\n",
    "            return float(value)\n",
    "        else:\n",
    "            raise ValueError(f\"Должно быть число! Передан тип: {type(value)} - {value}\")\n",
    "\n",
    "    def __str__(self):\n",
    "        return f\"Point (x={self._x}, y={self._y}, x={self._z})\"\n"
   ]
  },
  {
   "cell_type": "code",
   "execution_count": null,
   "id": "a9d76c2a-d88d-40d9-928f-99e3c14c324e",
   "metadata": {},
   "outputs": [],
   "source": [
    "class GodPoint(Point, IDble, Namable):\n",
    "\n",
    "    def __init__(self, x, y, z=0, name=None):\n",
    "        Point.__init__(self, x, y, z)\n",
    "        IDble.__init__(self)\n",
    "        Namable.__init__(self, name)\n",
    "\n",
    "    def __str__(self):\n",
    "        if self._name is None:\n",
    "            return f\"{self.__class__.__name__} (id={self.id}, \" \\\n",
    "                   f\"x={self._x}, y={self._y}, x={self._z})\"\n",
    "        return f\"{self.__class__.__name__} (id={self.id}, name={self._name}, \" \\\n",
    "               f\"x={self._x}, y={self._y}, x={self._z})\""
   ]
  },
  {
   "cell_type": "code",
   "execution_count": null,
   "id": "3bfc3050-d2d7-48ea-b6a3-38e57da3ac85",
   "metadata": {},
   "outputs": [],
   "source": [
    "# p1 = GodPoint(10, 10)\n",
    "# print(p1)\n",
    "\n",
    "# p3 = GodPoint(12, 43, 30, \"Point_1\")\n",
    "# print(p3)\n",
    "\n",
    "# p4 = GodPoint(32, 30, 30)\n",
    "# print(p4)\n",
    "\n",
    "# p2 = GodPoint(20, 12, 20)\n",
    "# print(p2)\n",
    "\n",
    "# p3 = GodPoint(34, 30, 30, \"Point_3\")\n",
    "# print(p3)\n",
    "\n",
    "# p4 = GodPoint(40, 34, 40)\n",
    "# print(p4)\n",
    "\n",
    "# Point.plot_points()"
   ]
  },
  {
   "cell_type": "markdown",
   "id": "271149ec-c109-415a-8e4a-8c874111cbe6",
   "metadata": {},
   "source": [
    "---\n",
    "---"
   ]
  },
  {
   "cell_type": "markdown",
   "id": "f53e820f-5552-4904-a4c3-c7fd6d455a41",
   "metadata": {},
   "source": [
    "## Композиция в отрезок"
   ]
  },
  {
   "cell_type": "code",
   "execution_count": null,
   "id": "c471d697-b6fd-47a7-abe5-1af9d45eebe5",
   "metadata": {},
   "outputs": [],
   "source": [
    "class Line(IDble):\n",
    "\n",
    "    def __init__(self, start_point: GodPoint, end_point: Point):\n",
    "        self.start_point = start_point\n",
    "        self.end_point = end_point\n",
    "        IDble.__init__(self)\n",
    "\n",
    "    def __str__(self):\n",
    "        return f\"{self.__class__.__name__} (id={self.id}, start_point={self.start_point}, \"\\\n",
    "               f\"end_point={self.end_point})\""
   ]
  },
  {
   "cell_type": "code",
   "execution_count": null,
   "id": "c30eb084-5305-4506-a916-73943a3c8a19",
   "metadata": {},
   "outputs": [],
   "source": [
    "p1 = Point(10, 10)\n",
    "print(p1)\n",
    "\n",
    "p2 = GodPoint(12, 43, 30)\n",
    "print(p2)\n",
    "\n",
    "line = Line(start_point=p1, end_point=p2)\n",
    "print(line)"
   ]
  },
  {
   "cell_type": "markdown",
   "id": "ce34e405-fb23-4143-9d56-e82f0a28e63d",
   "metadata": {},
   "source": [
    "---\n",
    "---"
   ]
  },
  {
   "cell_type": "markdown",
   "id": "78bca38d-2ece-4b8d-8dcf-2de5f83d9617",
   "metadata": {},
   "source": [
    "## Вариант решения проблемы с графиком"
   ]
  },
  {
   "cell_type": "code",
   "execution_count": null,
   "id": "b73fb7d8-8dee-42a7-8ccb-3b0662aad421",
   "metadata": {},
   "outputs": [],
   "source": [
    "class Graphic:\n",
    "\n",
    "    _drawable_obj = []\n",
    "\n",
    "    @classmethod\n",
    "    def plot(cls):\n",
    "        fig, ax = plt.subplots()\n",
    "        for obj in cls._drawable_obj:\n",
    "            obj.add_obj_to_ax(ax)\n",
    "        ax.set_xlabel(\"X\")\n",
    "        ax.set_ylabel(\"Y\")\n",
    "        ax.grid()\n",
    "        plt.axis(\"equal\")\n",
    "        plt.show()\n",
    "\n",
    "    @classmethod\n",
    "    def add_obj(cls, obj):\n",
    "        cls._drawable_obj.append(obj)\n",
    "\n",
    "    @classmethod\n",
    "    def del_obj(cls, obj):\n",
    "        cls._drawable_obj.remove(obj)"
   ]
  },
  {
   "cell_type": "code",
   "execution_count": null,
   "id": "b832c870-2ed3-4285-9147-b7abeefec4c2",
   "metadata": {},
   "outputs": [],
   "source": [
    "from abc import abstractmethod\n",
    "\n",
    "class Drawable:\n",
    "\n",
    "    def __init__(self):\n",
    "        Graphic.add_obj(self)\n",
    "\n",
    "    @abstractmethod\n",
    "    def add_obj_to_ax(self, ax):\n",
    "        pass"
   ]
  },
  {
   "cell_type": "code",
   "execution_count": null,
   "id": "e3c8b2b9-a94d-4be7-a924-5207b53ae70a",
   "metadata": {},
   "outputs": [],
   "source": [
    "class DrawableGodPoint(GodPoint, Drawable):\n",
    "\n",
    "    def __init__(self, x, y, z=0, name=None):\n",
    "        GodPoint.__init__(self, x, y, z, name)\n",
    "        Drawable.__init__(self)\n",
    "\n",
    "    def add_obj_to_ax(self, ax):\n",
    "        ax.scatter(self.x, self.y)\n",
    "        if self.name is not None:\n",
    "            ax.text(self.x, self.y, self.name)"
   ]
  },
  {
   "cell_type": "code",
   "execution_count": null,
   "id": "39d5d1f5-167e-4845-a2e6-c4043f4b6d43",
   "metadata": {},
   "outputs": [],
   "source": [
    "class DrawableLine(Line, Drawable):\n",
    "\n",
    "    def __init__(self, start_point: DrawableGodPoint, end_point: DrawableGodPoint):\n",
    "        super().__init__(start_point, end_point)\n",
    "        Drawable.__init__(self)\n",
    "\n",
    "    def add_obj_to_ax(self, ax):\n",
    "        ax.plot([self.start_point.x, self.end_point.x],\n",
    "                [self.start_point.y, self.end_point.y])"
   ]
  },
  {
   "cell_type": "code",
   "execution_count": null,
   "id": "b7b57ffd-3089-4613-a091-76329cf60ee6",
   "metadata": {},
   "outputs": [],
   "source": [
    "p1 = DrawableGodPoint(10, 10)\n",
    "print(p1)\n",
    "\n",
    "p3 = DrawableGodPoint(12, 43, 30, \"Point_1\")\n",
    "print(p3)\n",
    "\n",
    "p4 = DrawableGodPoint(32, 30, 30)\n",
    "print(p4)\n",
    "\n",
    "p2 = DrawableGodPoint(20, 12, 20)\n",
    "print(p2)\n",
    "\n",
    "p3 = DrawableGodPoint(34, 30, 30, \"Point_3\")\n",
    "print(p3)\n",
    "\n",
    "p4 = DrawableGodPoint(40, 34, 40)\n",
    "print(p4)\n",
    "\n",
    "line = DrawableLine(start_point=p1, end_point=p2)\n",
    "\n",
    "Graphic.plot()"
   ]
  },
  {
   "cell_type": "markdown",
   "id": "12e74fda-e8ab-420b-a41b-98440788b9e5",
   "metadata": {},
   "source": [
    "---\n",
    "---"
   ]
  },
  {
   "cell_type": "code",
   "execution_count": null,
   "id": "6777cc05-7559-48cd-9ab0-f471946b1fd7",
   "metadata": {},
   "outputs": [],
   "source": [
    "class Circle:\n",
    "\n",
    "    def __init__(self, c_point: Point, radius):\n",
    "        self._c_point = c_point\n",
    "        self._radius = radius\n",
    "\n",
    "    @property\n",
    "    def x0(self):\n",
    "        return self._c_point.x\n",
    "\n",
    "    @property\n",
    "    def y0(self):\n",
    "        return self._c_point.y\n",
    "\n",
    "    @property\n",
    "    def r(self):\n",
    "        return self._radius\n",
    "\n",
    "    def __str__(self):\n",
    "        return f\"Circle (x0={self.x0}, y0={self.y0}, R={self.r})\"\n",
    "\n",
    "    def add_obj_to_ax(self, ax):\n",
    "        circle = plt.Circle((self.x0, self.y0), self.r, color='blue', fill=False, linewidth=2)\n",
    "        ax.add_patch(circle)"
   ]
  },
  {
   "cell_type": "code",
   "execution_count": null,
   "id": "b0f68fa2-bef4-4394-9c55-cff4b7d704a7",
   "metadata": {},
   "outputs": [],
   "source": [
    "cp = Point(10, 10)\n",
    "\n",
    "circle = Circle(cp, 5)\n",
    "print(circle)"
   ]
  },
  {
   "cell_type": "code",
   "execution_count": null,
   "id": "8568b4d8-bca6-41f9-a622-c2c1f7ecc05e",
   "metadata": {},
   "outputs": [],
   "source": [
    "Graphic.plot()"
   ]
  },
  {
   "cell_type": "code",
   "execution_count": null,
   "id": "657834f9-3a1c-4709-b3fa-173ad74d6aed",
   "metadata": {},
   "outputs": [],
   "source": [
    "Graphic.add_obj(circle)\n",
    "Graphic.plot()"
   ]
  },
  {
   "cell_type": "code",
   "execution_count": null,
   "id": "3635140b-7d19-4cb9-8bd9-1d2b8720a6d1",
   "metadata": {},
   "outputs": [],
   "source": [
    "Graphic.del_obj(circle)\n",
    "Graphic.plot()"
   ]
  },
  {
   "cell_type": "code",
   "execution_count": null,
   "id": "0ab108e0-4d64-45fb-826c-65f005a8d94e",
   "metadata": {},
   "outputs": [],
   "source": []
  }
 ],
 "metadata": {
  "kernelspec": {
   "display_name": "Python 3 (ipykernel)",
   "language": "python",
   "name": "python3"
  },
  "language_info": {
   "codemirror_mode": {
    "name": "ipython",
    "version": 3
   },
   "file_extension": ".py",
   "mimetype": "text/x-python",
   "name": "python",
   "nbconvert_exporter": "python",
   "pygments_lexer": "ipython3",
   "version": "3.12.0"
  }
 },
 "nbformat": 4,
 "nbformat_minor": 5
}
