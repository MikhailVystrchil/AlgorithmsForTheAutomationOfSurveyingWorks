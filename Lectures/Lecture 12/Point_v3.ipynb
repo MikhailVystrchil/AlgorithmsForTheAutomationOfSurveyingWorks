{
 "cells": [
  {
   "cell_type": "markdown",
   "id": "a05b9981-1264-4df5-88d0-c30f68ed2b77",
   "metadata": {},
   "source": [
    "# Опять страдаем с точкой\n",
    "\n",
    "## Работа с `__setattr__`"
   ]
  },
  {
   "cell_type": "code",
   "execution_count": 1,
   "id": "c46012bd-a51d-411c-ac49-8a91fbbca45e",
   "metadata": {},
   "outputs": [],
   "source": [
    "class Point:\n",
    "\n",
    "    def __init__(self, x, y, z=0):\n",
    "        self.x = x\n",
    "        self.y = y\n",
    "        self.z = z\n",
    "\n",
    "    def __setattr__(self, name, value):\n",
    "        if name in [\"x\", \"y\", \"z\"]:\n",
    "            value = self._check_xyz_data(value)\n",
    "        super().__setattr__(name, value)\n",
    "\n",
    "    @staticmethod\n",
    "    def _check_xyz_data(value):\n",
    "        if isinstance(value, float):\n",
    "            return value\n",
    "        elif isinstance(value, int):\n",
    "            return float(value)\n",
    "        else:\n",
    "            raise ValueError(f\"Должно быть число! Передан тип: {type(value)} - {value}\")"
   ]
  },
  {
   "cell_type": "code",
   "execution_count": 4,
   "id": "c4924194-fd9b-445c-8bfe-3586bac9b958",
   "metadata": {},
   "outputs": [
    {
     "name": "stdout",
     "output_type": "stream",
     "text": [
      "<__main__.Point object at 0x1047a39e0>\n",
      "<__main__.Point object at 0x1049850a0>\n"
     ]
    },
    {
     "ename": "ValueError",
     "evalue": "Должно быть число! Передан тип: <class 'str'> - Тридцать",
     "output_type": "error",
     "traceback": [
      "\u001b[0;31m---------------------------------------------------------------------------\u001b[0m",
      "\u001b[0;31mValueError\u001b[0m                                Traceback (most recent call last)",
      "Cell \u001b[0;32mIn[4], line 10\u001b[0m\n\u001b[1;32m      7\u001b[0m p3 \u001b[38;5;241m=\u001b[39m Point(\u001b[38;5;241m30\u001b[39m, \u001b[38;5;241m30\u001b[39m, \u001b[38;5;241m30\u001b[39m)\n\u001b[1;32m      8\u001b[0m \u001b[38;5;28mprint\u001b[39m(p3)\n\u001b[0;32m---> 10\u001b[0m \u001b[43mp3\u001b[49m\u001b[38;5;241;43m.\u001b[39;49m\u001b[43mx\u001b[49m \u001b[38;5;241m=\u001b[39m \u001b[38;5;124m\"\u001b[39m\u001b[38;5;124mТридцать\u001b[39m\u001b[38;5;124m\"\u001b[39m\n\u001b[1;32m     11\u001b[0m \u001b[38;5;66;03m# print(p3)\u001b[39;00m\n\u001b[1;32m     13\u001b[0m p2 \u001b[38;5;241m=\u001b[39m Point(\u001b[38;5;241m20\u001b[39m, \u001b[38;5;241m20\u001b[39m, \u001b[38;5;241m20\u001b[39m)\n",
      "Cell \u001b[0;32mIn[1], line 10\u001b[0m, in \u001b[0;36mPoint.__setattr__\u001b[0;34m(self, name, value)\u001b[0m\n\u001b[1;32m      8\u001b[0m \u001b[38;5;28;01mdef\u001b[39;00m \u001b[38;5;21m__setattr__\u001b[39m(\u001b[38;5;28mself\u001b[39m, name, value):\n\u001b[1;32m      9\u001b[0m     \u001b[38;5;28;01mif\u001b[39;00m name \u001b[38;5;129;01min\u001b[39;00m [\u001b[38;5;124m\"\u001b[39m\u001b[38;5;124mx\u001b[39m\u001b[38;5;124m\"\u001b[39m, \u001b[38;5;124m\"\u001b[39m\u001b[38;5;124my\u001b[39m\u001b[38;5;124m\"\u001b[39m, \u001b[38;5;124m\"\u001b[39m\u001b[38;5;124mz\u001b[39m\u001b[38;5;124m\"\u001b[39m]:\n\u001b[0;32m---> 10\u001b[0m         value \u001b[38;5;241m=\u001b[39m \u001b[38;5;28;43mself\u001b[39;49m\u001b[38;5;241;43m.\u001b[39;49m\u001b[43m_check_xyz_data\u001b[49m\u001b[43m(\u001b[49m\u001b[43mvalue\u001b[49m\u001b[43m)\u001b[49m\n\u001b[1;32m     11\u001b[0m     \u001b[38;5;28msuper\u001b[39m()\u001b[38;5;241m.\u001b[39m\u001b[38;5;21m__setattr__\u001b[39m(name, value)\n",
      "Cell \u001b[0;32mIn[1], line 20\u001b[0m, in \u001b[0;36mPoint._check_xyz_data\u001b[0;34m(value)\u001b[0m\n\u001b[1;32m     18\u001b[0m     \u001b[38;5;28;01mreturn\u001b[39;00m \u001b[38;5;28mfloat\u001b[39m(value)\n\u001b[1;32m     19\u001b[0m \u001b[38;5;28;01melse\u001b[39;00m:\n\u001b[0;32m---> 20\u001b[0m     \u001b[38;5;28;01mraise\u001b[39;00m \u001b[38;5;167;01mValueError\u001b[39;00m(\u001b[38;5;124mf\u001b[39m\u001b[38;5;124m\"\u001b[39m\u001b[38;5;124mДолжно быть число! Передан тип: \u001b[39m\u001b[38;5;132;01m{\u001b[39;00m\u001b[38;5;28mtype\u001b[39m(value)\u001b[38;5;132;01m}\u001b[39;00m\u001b[38;5;124m - \u001b[39m\u001b[38;5;132;01m{\u001b[39;00mvalue\u001b[38;5;132;01m}\u001b[39;00m\u001b[38;5;124m\"\u001b[39m)\n",
      "\u001b[0;31mValueError\u001b[0m: Должно быть число! Передан тип: <class 'str'> - Тридцать"
     ]
    }
   ],
   "source": [
    "p1 = Point(10, 10)\n",
    "print(p1)\n",
    "\n",
    "# p2 = Point(\"Двадцать\", 20, 20)\n",
    "# print(p2)\n",
    "\n",
    "p3 = Point(30, 30, 30)\n",
    "print(p3)\n",
    "    \n",
    "# p3.x = \"Тридцать\"\n",
    "# print(p3)\n",
    "\n",
    "p2 = Point(20, 20, 20)\n",
    "# p2.x = \"Двадцать\"\n",
    "# print(p2)"
   ]
  },
  {
   "cell_type": "code",
   "execution_count": 5,
   "id": "e29f7139-91c8-4c01-beb8-f1c0bd7fb1f2",
   "metadata": {},
   "outputs": [],
   "source": [
    "class Point:\n",
    "\n",
    "    def __init__(self, x, y, z=0.0):\n",
    "        self._x = x\n",
    "        self._y = y\n",
    "        self._z = z\n",
    "\n",
    "    def __setattr__(self, name, value):\n",
    "        if name in [\"_x\", \"_y\", \"_z\"]:\n",
    "            value = self._check_xyz_data(value)\n",
    "        super().__setattr__(name, value)\n",
    "\n",
    "    @property\n",
    "    def x(self):\n",
    "        return self._x\n",
    "\n",
    "    @property\n",
    "    def y(self):\n",
    "        return self._y\n",
    "\n",
    "    @property\n",
    "    def z(self):\n",
    "        return self._z\n",
    "\n",
    "    @x.setter\n",
    "    def x(self, value):\n",
    "        self._x = value\n",
    "\n",
    "    @y.setter\n",
    "    def y(self, value):\n",
    "        self._y = value\n",
    "\n",
    "    @z.setter\n",
    "    def z(self, value):\n",
    "        self._z = value\n",
    "\n",
    "    @staticmethod\n",
    "    def _check_xyz_data(value):\n",
    "        if isinstance(value, float):\n",
    "            return value\n",
    "        elif isinstance(value, int):\n",
    "            return float(value)\n",
    "        else:\n",
    "            raise ValueError(f\"Должно быть число! Передан тип: {type(value)} - {value}\")"
   ]
  },
  {
   "cell_type": "code",
   "execution_count": 6,
   "id": "4234a3d9-4846-47e0-aa9d-e940670109b4",
   "metadata": {},
   "outputs": [
    {
     "name": "stdout",
     "output_type": "stream",
     "text": [
      "<__main__.Point object at 0x104995eb0>\n",
      "<__main__.Point object at 0x104994500>\n"
     ]
    }
   ],
   "source": [
    "p1 = Point(10, 10)\n",
    "print(p1)\n",
    "\n",
    "# p2 = Point(\"Двадцать\", 20, 20)\n",
    "# print(p2)\n",
    "\n",
    "p3 = Point(30, 30, 30)\n",
    "print(p3)\n",
    "    \n",
    "# p3.x = \"Тридцать\"\n",
    "# print(p3)\n",
    "\n",
    "p2 = Point(20, 20, 20)\n",
    "# p2.x = \"Двадцать\"\n",
    "# print(p2)"
   ]
  },
  {
   "cell_type": "markdown",
   "id": "68036166-d562-43a0-937f-2dae2ff32d01",
   "metadata": {},
   "source": [
    "---\n",
    "---"
   ]
  },
  {
   "cell_type": "markdown",
   "id": "f3b987ae-05f0-4491-abee-ec17b2600ee4",
   "metadata": {},
   "source": [
    "## Работа с `__str__` и `__repr__`"
   ]
  },
  {
   "cell_type": "code",
   "execution_count": 7,
   "id": "f7ca6711-55ff-4a84-808f-e8d52ca479dd",
   "metadata": {},
   "outputs": [],
   "source": [
    "class Point:\n",
    "\n",
    "    def __init__(self, x, y, z=0):\n",
    "        self.x = self._check_xyz_data(x)\n",
    "        self.y = self._check_xyz_data(y)\n",
    "        self.z = self._check_xyz_data(z)\n",
    "\n",
    "    def __setattr__(self, name, value):\n",
    "        if name in [\"x\", \"y\", \"z\"]:\n",
    "            value = self._check_xyz_data(value)\n",
    "        super().__setattr__(name, value)\n",
    "\n",
    "    def __str__(self):\n",
    "        return f\"Point (x={self.x}, y={self.y}, x={self.z})\"\n",
    "\n",
    "    # def __repr__(self):\n",
    "    #     return f\"({self.x}, {self.y}, {self.z})\"\n",
    "\n",
    "    @staticmethod\n",
    "    def _check_xyz_data(value):\n",
    "        if isinstance(value, float):\n",
    "            return value\n",
    "        elif isinstance(value, int):\n",
    "            return float(value)\n",
    "        else:\n",
    "            raise ValueError(f\"Должно быть число! Передан тип: {type(value)} - {value}\")"
   ]
  },
  {
   "cell_type": "code",
   "execution_count": 8,
   "id": "bfac1855-692a-4f0d-87dd-537b57855692",
   "metadata": {},
   "outputs": [
    {
     "name": "stdout",
     "output_type": "stream",
     "text": [
      "Point (x=10.0, y=10.0, x=0.0)\n",
      "Point (x=20.0, y=20.0, x=20.0)\n",
      "Point (x=30.0, y=30.0, x=30.0)\n",
      "[<__main__.Point object at 0x104996b70>, <__main__.Point object at 0x10483d8e0>, <__main__.Point object at 0x1044bc6b0>]\n"
     ]
    }
   ],
   "source": [
    "p1 = Point(10, 10)\n",
    "print(p1)\n",
    "\n",
    "p2 = Point(20, 20, 20)\n",
    "print(p2)\n",
    "\n",
    "p3 = Point(30, 30, 30)\n",
    "print(p3)\n",
    "\n",
    "point_list = [p1, p2, p3]\n",
    "print(point_list)"
   ]
  },
  {
   "cell_type": "markdown",
   "id": "f2f75b59-0444-4702-800c-ac41a6b7adac",
   "metadata": {},
   "source": [
    "---\n",
    "---"
   ]
  },
  {
   "cell_type": "markdown",
   "id": "df963967-e600-4067-b5ca-842e5bebb94a",
   "metadata": {},
   "source": [
    "## Работа с `__eq__`"
   ]
  },
  {
   "cell_type": "code",
   "execution_count": 9,
   "id": "0dd46d07-f719-402e-8e9e-3b9c115fb672",
   "metadata": {},
   "outputs": [],
   "source": [
    "class Point:\n",
    "\n",
    "    def __init__(self, x, y, z=0.0):\n",
    "        self.x = self._check_xyz_data(x)\n",
    "        self.y = self._check_xyz_data(y)\n",
    "        self.z = self._check_xyz_data(z)\n",
    "\n",
    "    def __setattr__(self, name, value):\n",
    "        if name in [\"x\", \"y\", \"z\"]:\n",
    "            value = self._check_xyz_data(value)\n",
    "        super().__setattr__(name, value)\n",
    "\n",
    "    def __str__(self):\n",
    "        return f\"Point (x={self.x}, y={self.y}, x={self.z})\"\n",
    "\n",
    "    def __repr__(self):\n",
    "        return f\"({self.x}, {self.y}, {self.z})\"\n",
    "\n",
    "    # def __eq__(self, other):\n",
    "    #     return self.x == other.x and self.y == other.y and self.x == other.z\n",
    "\n",
    "    @staticmethod\n",
    "    def _check_xyz_data(value):\n",
    "        if isinstance(value, float):\n",
    "            return value\n",
    "        elif isinstance(value, int):\n",
    "            return float(value)\n",
    "        else:\n",
    "            raise ValueError(f\"Должно быть число! Передан тип: {type(value)} - {value}\")"
   ]
  },
  {
   "cell_type": "code",
   "execution_count": null,
   "id": "304ec697-1924-40a7-a7e3-7c8d5322d0b1",
   "metadata": {},
   "outputs": [],
   "source": [
    "p1 = Point(10, 10)\n",
    "print(p1)\n",
    "\n",
    "p2 = Point(20, 20, 20)\n",
    "print(p2)\n",
    "\n",
    "p3 = Point(30, 30, 30)\n",
    "print(p3)\n",
    "\n",
    "p4 = Point(30.0, 30.0, 30.0)\n",
    "print(p4)\n",
    "\n",
    "print(\"*\" * 50)\n",
    "\n",
    "print(p1 == p2, p1 is p2)\n",
    "print(p3 == p4, p3 is p4)"
   ]
  },
  {
   "cell_type": "markdown",
   "id": "9191e01f-aa01-495f-bf7f-883beb444736",
   "metadata": {},
   "source": [
    "---\n",
    "---"
   ]
  },
  {
   "cell_type": "markdown",
   "id": "d950cb6d-3789-4cfb-bbb4-39d137a4efad",
   "metadata": {},
   "source": [
    "## Работа с `__hash__`"
   ]
  },
  {
   "cell_type": "code",
   "execution_count": 13,
   "id": "9d6af61c-552a-4f68-8fcb-d779404c2670",
   "metadata": {},
   "outputs": [],
   "source": [
    "import timeit\n",
    "from sys import getsizeof\n",
    "\n",
    "\n",
    "class Point:\n",
    "\n",
    "    def __init__(self, x, y, z=0.0):\n",
    "        self.x = x\n",
    "        self.y = y\n",
    "        self.z = z\n",
    "\n",
    "    def __setattr__(self, name, value):\n",
    "        if name in [\"x\", \"y\", \"z\"]:\n",
    "            value = self._check_xyz_data(value)\n",
    "        super().__setattr__(name, value)\n",
    "\n",
    "    def __str__(self):\n",
    "        return f\"Point (x={self.x}, y={self.y}, x={self.z})\"\n",
    "\n",
    "    def __repr__(self):\n",
    "        return f\"({self.x}, {self.y}, {self.z})\"\n",
    "\n",
    "    def __eq__(self, other):\n",
    "        print(f\"проверяем на равенство точки: {self} - {other}\")\n",
    "        return self.x == other.x and self.y == other.y and self.x == other.z\n",
    "\n",
    "    def __hash__(self):\n",
    "        # return 1\n",
    "        return int(self.x + self.y + self.z)\n",
    "        # return int(self.x * self.y * self.z)\n",
    "\n",
    "    @staticmethod\n",
    "    def _check_xyz_data(value):\n",
    "        if isinstance(value, float):\n",
    "            return value\n",
    "        elif isinstance(value, int):\n",
    "            return float(value)\n",
    "        else:\n",
    "            raise ValueError(f\"Должно быть число! Передан тип: {type(value)} - {value}\")"
   ]
  },
  {
   "cell_type": "code",
   "execution_count": 14,
   "id": "852b52a6-252d-4fec-a3c6-8e9c55925a9a",
   "metadata": {},
   "outputs": [
    {
     "name": "stdout",
     "output_type": "stream",
     "text": [
      "p1 Point (x=10.0, y=10.0, x=0.0)\n",
      "p2 Point (x=20.0, y=20.0, x=20.0)\n",
      "p3 Point (x=30.0, y=30.0, x=30.0)\n",
      "p4 Point (x=30.0, y=30.0, x=30.0)\n",
      "**************************************************\n",
      "проверяем на равенство точки: Point (x=30.0, y=30.0, x=30.0) - Point (x=30.0, y=30.0, x=30.0)\n",
      "{(30.0, 30.0, 30.0), (10.0, 10.0, 0.0), (20.0, 20.0, 20.0)}\n",
      "**************************************************\n"
     ]
    }
   ],
   "source": [
    "p1 = Point(10, 10)\n",
    "print(\"p1\", p1)\n",
    "\n",
    "p2 = Point(20, 20, 20)\n",
    "print(\"p2\", p2)\n",
    "\n",
    "p3 = Point(30, 30, 30)\n",
    "print(\"p3\", p3)\n",
    "\n",
    "p4 = Point(30.0, 30.0, 30.0)\n",
    "print(\"p4\", p4)\n",
    "\n",
    "print(\"*\" * 50)\n",
    "\n",
    "set_ = {p1, p2, p3, p4}\n",
    "print(set_)\n",
    "\n",
    "print(\"*\" * 50)\n",
    "\n",
    "# dict_ = {p1: repr(p1),\n",
    "#          p2: repr(p2),\n",
    "#          p3: repr(p3),\n",
    "#          p4: repr(p4),\n",
    "#         }\n",
    "# print(dict_)\n",
    "         "
   ]
  },
  {
   "cell_type": "markdown",
   "id": "9675ba68-1c2c-4616-ad40-d0a72c4972e4",
   "metadata": {},
   "source": [
    "---\n",
    "---"
   ]
  },
  {
   "cell_type": "markdown",
   "id": "7634864b-b21a-4472-910f-c46fa1051ca4",
   "metadata": {},
   "source": [
    "# Повышение производительности"
   ]
  },
  {
   "cell_type": "code",
   "execution_count": 22,
   "id": "d4a97922-2c09-4d12-b0d6-e00aa795368c",
   "metadata": {},
   "outputs": [],
   "source": [
    "class Point:\n",
    "\n",
    "    __slots__ = [\"x\", \"y\", \"z\"]\n",
    "\n",
    "    def __init__(self, x, y, z=0.0):\n",
    "        self.x = x\n",
    "        self.y = y\n",
    "        self.z = z\n",
    "\n",
    "    # def __setattr__(self, name, value):\n",
    "    #     if name in [\"x\", \"y\", \"z\"]:\n",
    "    #         value = self._check_xyz_data(value)\n",
    "    #     super().__setattr__(name, value)\n",
    "\n",
    "    def __str__(self):\n",
    "        return f\"Point (x={self.x}, y={self.y}, x={self.z})\"\n",
    "\n",
    "    def __repr__(self):\n",
    "        return f\"({self.x}, {self.y}, {self.z})\"\n",
    "\n",
    "    def __eq__(self, other):\n",
    "        return self.x == other.x and self.y == other.y and self.x == other.z\n",
    "\n",
    "    def __hash__(self):\n",
    "        return int(self.x * self.y * self.z)\n",
    "\n",
    "    @staticmethod\n",
    "    def _check_xyz_data(value):\n",
    "        if isinstance(value, float):\n",
    "            return value\n",
    "        elif isinstance(value, int):\n",
    "            return float(value)\n",
    "        else:\n",
    "            raise ValueError(f\"Должно быть число! Передан тип: {type(value)} - {value}\")"
   ]
  },
  {
   "cell_type": "code",
   "execution_count": 18,
   "id": "988b392c-ae51-4919-8c44-74c957c2a5c4",
   "metadata": {},
   "outputs": [
    {
     "name": "stdout",
     "output_type": "stream",
     "text": [
      "0.19815138803096488\n"
     ]
    }
   ],
   "source": [
    "import timeit\n",
    "\n",
    "code_str = \"Point(30.0, 30.0, 30.0)\"\n",
    "time1 = timeit.timeit(code_str, setup=\"from __main__ import Point\", number=1_000_000)\n",
    "print(time1)"
   ]
  },
  {
   "cell_type": "code",
   "execution_count": 19,
   "id": "65aacd88-b6b5-4a3e-a0ff-ed66fe08aac6",
   "metadata": {},
   "outputs": [
    {
     "name": "stdout",
     "output_type": "stream",
     "text": [
      "8448728\n"
     ]
    }
   ],
   "source": [
    "from sys import getsizeof\n",
    "\n",
    "point_list = [Point(30, 30, 30) for _ in range(1_000_000)]\n",
    "print(getsizeof(point_list))"
   ]
  },
  {
   "cell_type": "code",
   "execution_count": 23,
   "id": "a0a3ba30-fb21-4b34-9113-6148aa30975c",
   "metadata": {},
   "outputs": [
    {
     "name": "stdout",
     "output_type": "stream",
     "text": [
      "asizeof: 64448824 vs 8448728\n"
     ]
    }
   ],
   "source": [
    "import sys\n",
    "from pympler import asizeof\n",
    "    \n",
    "point_list = [Point(10, 20, 30) for _ in range(10 ** 6)]\n",
    "print(f\"asizeof: {asizeof.asizeof(point_list)} vs {sys.getsizeof(point_list)}\")"
   ]
  },
  {
   "cell_type": "code",
   "execution_count": 26,
   "id": "ee88629e-3f7c-4594-b34e-b0b0d6374930",
   "metadata": {},
   "outputs": [
    {
     "name": "stdout",
     "output_type": "stream",
     "text": [
      "['x', 'y', 'z']\n"
     ]
    },
    {
     "ename": "AttributeError",
     "evalue": "'Point' object has no attribute 'name'",
     "output_type": "error",
     "traceback": [
      "\u001b[0;31m---------------------------------------------------------------------------\u001b[0m",
      "\u001b[0;31mAttributeError\u001b[0m                            Traceback (most recent call last)",
      "Cell \u001b[0;32mIn[26], line 5\u001b[0m\n\u001b[1;32m      3\u001b[0m \u001b[38;5;28mprint\u001b[39m(p\u001b[38;5;241m.\u001b[39m\u001b[38;5;18m__slots__\u001b[39m)\n\u001b[1;32m      4\u001b[0m \u001b[38;5;66;03m# print(p.__dict__)\u001b[39;00m\n\u001b[0;32m----> 5\u001b[0m \u001b[43mp\u001b[49m\u001b[38;5;241;43m.\u001b[39;49m\u001b[43mname\u001b[49m \u001b[38;5;241m=\u001b[39m \u001b[38;5;241m123\u001b[39m\n",
      "\u001b[0;31mAttributeError\u001b[0m: 'Point' object has no attribute 'name'"
     ]
    }
   ],
   "source": [
    "p = Point(10, 20, 30)\n",
    "\n",
    "print(p.__slots__)\n",
    "# print(p.__dict__)\n",
    "p.name = 123"
   ]
  },
  {
   "cell_type": "markdown",
   "id": "dfdb5941-0090-4d6a-8e9d-8f8696273095",
   "metadata": {},
   "source": [
    "---\n",
    "---"
   ]
  },
  {
   "cell_type": "markdown",
   "id": "bb424c5e-093b-4708-8b23-c8bf96002446",
   "metadata": {},
   "source": [
    "# Класс ScanPoint"
   ]
  },
  {
   "cell_type": "code",
   "execution_count": 33,
   "id": "74297193-eccd-4735-bd70-9991d598d32e",
   "metadata": {},
   "outputs": [],
   "source": [
    "class Point:\n",
    "\n",
    "    __slots__ = [\"x\", \"y\", \"z\"]\n",
    "\n",
    "    def __init__(self, x, y, z=0.0):\n",
    "        self.x = x\n",
    "        self.y = y\n",
    "        self.z = z\n",
    "\n",
    "    def __str__(self):\n",
    "        return f\"Point (x={self.x}, y={self.y}, x={self.z})\"\n",
    "\n",
    "    def __repr__(self):\n",
    "        return f\"({self.x}, {self.y}, {self.z})\"\n",
    "\n",
    "    def __eq__(self, other):\n",
    "        return self.x == other.x and self.y == other.y and self.x == other.z\n",
    "\n",
    "    def __hash__(self):\n",
    "        return int(self.x * self.y * self.z)"
   ]
  },
  {
   "cell_type": "markdown",
   "id": "01fe2e60-12fd-4d59-a359-b2b14e815f2a",
   "metadata": {},
   "source": [
    "---"
   ]
  },
  {
   "cell_type": "code",
   "execution_count": 34,
   "id": "19a3ec90-806b-415d-88d4-241dce2f3b49",
   "metadata": {},
   "outputs": [],
   "source": [
    "class Color:\n",
    "    __slots__ = [\"r\", \"g\", \"b\"]\n",
    "\n",
    "    def __init__(self, r, g, b):\n",
    "        self.r = r\n",
    "        self.g = g\n",
    "        self.b = b\n",
    "\n",
    "    @property\n",
    "    def rgb(self):\n",
    "        return self.r, self.g, self.b\n",
    "\n",
    "    def __repr__(self):\n",
    "        return f\"({self.r}, {self.g}, {self.b})\"\n"
   ]
  },
  {
   "cell_type": "code",
   "execution_count": 29,
   "id": "28ac0b5a-1d70-4671-baba-71b46dfef944",
   "metadata": {},
   "outputs": [
    {
     "name": "stdout",
     "output_type": "stream",
     "text": [
      "(255, 0, 0)\n",
      "(255, 0, 0)\n"
     ]
    }
   ],
   "source": [
    "c = Color(255, 0, 0)\n",
    "print(c)\n",
    "print(c.rgb)"
   ]
  },
  {
   "cell_type": "code",
   "execution_count": 30,
   "id": "064d21ee-81e0-4903-af75-143abc16ef6c",
   "metadata": {},
   "outputs": [
    {
     "name": "stdout",
     "output_type": "stream",
     "text": [
      "<class 'tuple'> (255, 0, 0)\n"
     ]
    }
   ],
   "source": [
    "c = Color(255, 0, 0)\n",
    "\n",
    "rgb = c.rgb\n",
    "\n",
    "print(type(rgb), rgb)"
   ]
  },
  {
   "cell_type": "markdown",
   "id": "9a7c860b-0e97-419e-adaa-c25713c3533a",
   "metadata": {},
   "source": [
    "---"
   ]
  },
  {
   "cell_type": "markdown",
   "id": "f70378d0-6367-4fe2-9c6a-958053728c9e",
   "metadata": {},
   "source": [
    "## Через наследование"
   ]
  },
  {
   "cell_type": "code",
   "execution_count": 37,
   "id": "cb58c7ca-6a70-43a9-881d-1095164be5ca",
   "metadata": {},
   "outputs": [],
   "source": [
    "class ScanPoint(Point, Color):\n",
    "    __slots__ = [\"x\", \"y\", \"z\", \"r\", \"g\", \"b\"]\n",
    "\n",
    "    def __init__(self, x, y, z, color):\n",
    "        Point.__init__(self, x, y, z)\n",
    "        Color.__init__(self, color[0], color[1], color[2])\n",
    "\n",
    "    def __str__(self):\n",
    "        return f\"ScanPoint (x={self.x}, y={self.y}, x={self.z}, color=({self.r}, {self.g}, {self.b}))\""
   ]
  },
  {
   "cell_type": "code",
   "execution_count": 38,
   "id": "9702d2a5-319a-43a1-bb34-313528474feb",
   "metadata": {},
   "outputs": [
    {
     "name": "stdout",
     "output_type": "stream",
     "text": [
      "ScanPoint (x=10, y=20, x=30, color=(255, 0, 0))\n"
     ]
    }
   ],
   "source": [
    "sp = ScanPoint(10, 20, 30, [255, 0, 0])\n",
    "print(sp)"
   ]
  },
  {
   "cell_type": "code",
   "execution_count": 39,
   "id": "0e61798c-5efd-4d53-983a-9cb2b209e6d5",
   "metadata": {},
   "outputs": [
    {
     "data": {
      "text/plain": [
       "255"
      ]
     },
     "execution_count": 39,
     "metadata": {},
     "output_type": "execute_result"
    }
   ],
   "source": [
    "sp.r"
   ]
  },
  {
   "cell_type": "code",
   "execution_count": null,
   "id": "56b05352-b1a2-4a61-a653-3a9f2668acda",
   "metadata": {},
   "outputs": [],
   "source": [
    "[ScanPoint(10, 20, 30, [255, 0, 0]), ScanPoint(100, 200, 300, [255, 255, 255])]"
   ]
  },
  {
   "cell_type": "code",
   "execution_count": null,
   "id": "a371bdba-65d6-4768-8570-a84078fcfd1f",
   "metadata": {},
   "outputs": [],
   "source": [
    "ScanPoint.__mro__"
   ]
  },
  {
   "cell_type": "code",
   "execution_count": null,
   "id": "e687bedc-e98f-4893-af21-d96e90bb37c8",
   "metadata": {},
   "outputs": [],
   "source": [
    "# print(sp.__dict__)\n",
    "print(sp.__slots__)"
   ]
  },
  {
   "cell_type": "markdown",
   "id": "45b357ce-7249-41d6-a0c7-94cc96bf35f1",
   "metadata": {},
   "source": [
    "---"
   ]
  },
  {
   "cell_type": "markdown",
   "id": "7aaadfe1-65ac-4613-b3a3-0c60f02c7108",
   "metadata": {},
   "source": [
    "## Через композицию"
   ]
  },
  {
   "cell_type": "code",
   "execution_count": 40,
   "id": "a5710283-c435-4d4e-91f6-f96a5a79c198",
   "metadata": {},
   "outputs": [],
   "source": [
    "class ScanPoint(Point):\n",
    "    __slots__ = [\"color\"]\n",
    "\n",
    "    def __init__(self, x, y, z, color):\n",
    "        super().__init__(x, y, z)\n",
    "        self.color = Color(*color)\n",
    "\n",
    "    def __str__(self):\n",
    "        return f\"{self.__class__.__name__} (xyz={repr(self)}, color={self.color.rgb})\""
   ]
  },
  {
   "cell_type": "code",
   "execution_count": null,
   "id": "4e00b4d9-b8b0-4796-ad1c-2ac970dcd480",
   "metadata": {},
   "outputs": [],
   "source": [
    "sp = ScanPoint(10, 20, 30, [255, 0, 0])\n",
    "print(sp)"
   ]
  },
  {
   "cell_type": "code",
   "execution_count": null,
   "id": "fcdca06e-7e5a-4739-b73f-20ed0ab2114e",
   "metadata": {},
   "outputs": [],
   "source": [
    "sp.x"
   ]
  },
  {
   "cell_type": "code",
   "execution_count": null,
   "id": "610c712d-89e9-425f-bf87-cabd766bedf1",
   "metadata": {},
   "outputs": [],
   "source": [
    "[ScanPoint(10, 20, 30, [255, 0, 0]), ScanPoint(100, 200, 300, [255, 255, 255])]"
   ]
  },
  {
   "cell_type": "code",
   "execution_count": null,
   "id": "047dfe42-8d6f-48ae-b500-e3a1f3458ab9",
   "metadata": {},
   "outputs": [],
   "source": [
    "ScanPoint.__mro__"
   ]
  },
  {
   "cell_type": "code",
   "execution_count": null,
   "id": "8ca5498c-4f66-468a-90b4-7771d7ae2896",
   "metadata": {},
   "outputs": [],
   "source": [
    "# print(sp.__dict__)\n",
    "print(sp.__slots__)"
   ]
  },
  {
   "cell_type": "markdown",
   "id": "8f2767fa-e324-41f9-95dc-322be2fea432",
   "metadata": {},
   "source": [
    "---\n",
    "---"
   ]
  },
  {
   "cell_type": "markdown",
   "id": "3ba02ace-7a64-4396-8288-edf893c5fe92",
   "metadata": {},
   "source": [
    "# Скан"
   ]
  },
  {
   "cell_type": "code",
   "execution_count": null,
   "id": "638b129d-cf76-416b-8d32-b8ab0879955a",
   "metadata": {},
   "outputs": [],
   "source": [
    "class Scan:\n",
    "\n",
    "    def __init__(self):\n",
    "        self._points = []\n",
    "\n",
    "    def add_point(self, scan_point:ScanPoint):\n",
    "        self._points.append(scan_point)\n",
    "\n",
    "    def __repr__(self):\n",
    "        return f\"{self.__class__.__name__} (len={len(self)})\"\n",
    "\n",
    "    def __len__(self):\n",
    "        return len(self._points)\n",
    "\n",
    "    def __iter__(self):\n",
    "        return iter(self._points)"
   ]
  },
  {
   "cell_type": "code",
   "execution_count": null,
   "id": "b7425eab-0c79-4497-bae0-34b0183a2452",
   "metadata": {},
   "outputs": [],
   "source": [
    "sp1 = ScanPoint(10, 20, 30, (255, 0, 0))\n",
    "sp2 = ScanPoint(20, 20, 30, (255, 0, 0))\n",
    "sp3 = ScanPoint(30, 20, 30, (255, 0, 0))\n",
    "\n",
    "scan = Scan()\n",
    "[scan.add_point(point) for point in [sp1, sp2, sp3]]\n",
    "print(scan)\n",
    "\n",
    "print(\"=\" * 50)\n",
    "\n",
    "for point in scan:\n",
    "    print(point)"
   ]
  },
  {
   "cell_type": "code",
   "execution_count": null,
   "id": "ce04f9a5-6647-40c3-888a-fac6d83bb9a8",
   "metadata": {},
   "outputs": [],
   "source": []
  }
 ],
 "metadata": {
  "kernelspec": {
   "display_name": "Python 3 (ipykernel)",
   "language": "python",
   "name": "python3"
  },
  "language_info": {
   "codemirror_mode": {
    "name": "ipython",
    "version": 3
   },
   "file_extension": ".py",
   "mimetype": "text/x-python",
   "name": "python",
   "nbconvert_exporter": "python",
   "pygments_lexer": "ipython3",
   "version": "3.12.0"
  }
 },
 "nbformat": 4,
 "nbformat_minor": 5
}
