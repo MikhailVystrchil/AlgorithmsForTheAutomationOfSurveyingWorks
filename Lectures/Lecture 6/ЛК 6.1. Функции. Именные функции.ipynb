{
 "cells": [
  {
   "cell_type": "markdown",
   "id": "d7dbb973-eefd-4cc0-8916-0c017fd6667a",
   "metadata": {},
   "source": [
    "# Функции. Именные функции, инструкция ```def```"
   ]
  },
  {
   "cell_type": "markdown",
   "id": "9094d83c-53c1-4bf1-be37-4717eaa35bd7",
   "metadata": {},
   "source": [
    "Функции в ```Python``` - это основные строительные блоки программы, которые позволяют организовать код в логические блоки, повторно использовать его и упростить поддержку. В этом руководстве мы рассмотрим различные аспекты работы с функциями в ```Python```.\n",
    "\n",
    "## Определение функции\n",
    "\n",
    "Функция в ```Python``` определяется с помощью ключевого слова def, за которым следует имя функции, список параметров в скобках и двоеточие. Тело функции заключается в блок кода с отступом."
   ]
  },
  {
   "cell_type": "code",
   "execution_count": null,
   "id": "68b860c4-06fa-472a-83e3-e64f1a8b5144",
   "metadata": {},
   "outputs": [],
   "source": [
    "def f():\n",
    "    ..."
   ]
  },
  {
   "cell_type": "code",
   "execution_count": null,
   "id": "597f5a50-4d20-4ba2-bb61-ab7350b186c0",
   "metadata": {},
   "outputs": [],
   "source": [
    "f"
   ]
  },
  {
   "cell_type": "markdown",
   "id": "a1d60c31-660d-4813-a1a2-bab1c0b38a8a",
   "metadata": {},
   "source": [
    "> **Функция - тоже объект!!!**"
   ]
  },
  {
   "cell_type": "code",
   "execution_count": null,
   "id": "35ce8c8e-10e7-479d-9d4c-16b723d0cd1e",
   "metadata": {},
   "outputs": [],
   "source": [
    "f()"
   ]
  },
  {
   "cell_type": "code",
   "execution_count": null,
   "id": "c528d2de-1578-450e-afa6-7e3e9129baed",
   "metadata": {},
   "outputs": [],
   "source": [
    "print(f())"
   ]
  },
  {
   "cell_type": "code",
   "execution_count": null,
   "id": "a11e84b5-287a-44c0-a493-3e318b6c5e85",
   "metadata": {},
   "outputs": [],
   "source": [
    "def greet(name):\n",
    "    \"\"\"Приветствует пользователя по имени.\"\"\"\n",
    "    print(f\"Hello, {name}!\")"
   ]
  },
  {
   "cell_type": "code",
   "execution_count": null,
   "id": "9b2f560f-b84c-4bc8-beb5-e036e14c0fa7",
   "metadata": {},
   "outputs": [],
   "source": [
    "print(greet(\"Mike\"))"
   ]
  },
  {
   "cell_type": "markdown",
   "id": "c0377656-3d64-433f-97e2-de076e97ea96",
   "metadata": {},
   "source": [
    "***\n",
    "***\n",
    " \n",
    " __Параметры и аргументы__\n",
    "\n",
    "- __Параметры__ - это переменные, которые указываются в определении функции. \n",
    "- __Аргументы__ - это значения, которые передаются в функцию при ее вызове."
   ]
  },
  {
   "cell_type": "code",
   "execution_count": null,
   "id": "486a0cff-9146-423e-8648-4167bdac9b52",
   "metadata": {},
   "outputs": [],
   "source": [
    "def my_sum(x, y):\n",
    "    return x + y"
   ]
  },
  {
   "cell_type": "markdown",
   "id": "5076e33f-0850-4a8c-8cdc-8b29bae36e0d",
   "metadata": {},
   "source": [
    "Инструкция ```return``` говорит, что нужно вернуть значение. \n",
    "\n",
    "В нашем случае функция возвращает сумму ```x``` и ```y```.\n",
    "\n",
    "Теперь мы можем ее вызвать:"
   ]
  },
  {
   "cell_type": "code",
   "execution_count": null,
   "id": "90544b90-31dd-4b88-b355-f57e750e78d1",
   "metadata": {},
   "outputs": [],
   "source": [
    "my_sum(2, 3)"
   ]
  },
  {
   "cell_type": "code",
   "execution_count": null,
   "id": "16b65246-69f9-45f5-b81c-514242664e3f",
   "metadata": {},
   "outputs": [],
   "source": [
    "my_sum(\"ab\", \"cd\")"
   ]
  },
  {
   "cell_type": "code",
   "execution_count": null,
   "id": "16c158fb-ff4f-4b05-be78-e6369bf04ae1",
   "metadata": {},
   "outputs": [],
   "source": [
    "my_sum([1, 2, 3], 4)     # TypeError: can only concatenate list (not \"int\") to list"
   ]
  },
  {
   "cell_type": "code",
   "execution_count": null,
   "id": "065ba593-5818-4999-b3eb-8cf8aeaf6f81",
   "metadata": {},
   "outputs": [],
   "source": [
    "my_sum([1, 2, 3], [4])"
   ]
  },
  {
   "cell_type": "markdown",
   "id": "a5d0299e-94b9-4f2f-a5a2-b5dff9ce0e83",
   "metadata": {},
   "source": [
    "***\n",
    "***"
   ]
  },
  {
   "cell_type": "code",
   "execution_count": null,
   "id": "2545b12d-cbe9-437a-a25b-65d35e0f17f6",
   "metadata": {},
   "outputs": [],
   "source": [
    "def my_sum(x, y):\n",
    "    return x + y\n",
    "\n",
    "print(my_sum, type(my_sum), sep=\"\\t\")\n",
    "\n",
    "my_sum = my_sum(2, 3)\n",
    "\n",
    "print(my_sum, type(my_sum), sep=\"\\t\")\n",
    "\n",
    "my_sum(2, 3)           # TypeError: 'int' object is not callable"
   ]
  },
  {
   "cell_type": "markdown",
   "id": "2733576c-41de-4afd-916d-245f6bc3e8ba",
   "metadata": {},
   "source": [
    "***\n",
    "***\n",
    "\n",
    "> Если инструкции ```return``` нет, тогда по умолчанию функция будет возвращать объект ```None```"
   ]
  },
  {
   "cell_type": "code",
   "execution_count": null,
   "id": "c0bffcbe-5d08-4a69-94b0-5f0dfcf51df1",
   "metadata": {},
   "outputs": [],
   "source": [
    "def my_sum(x, y):\n",
    "    print(f\"Распечатанная из функции сумма: {x} + {y} = {x + y}\")\n",
    "\n",
    "result = my_sum(2, 3)\n",
    "\n",
    "print(result, type(result), sep=\"\\t\")"
   ]
  },
  {
   "cell_type": "markdown",
   "id": "8f9ae306-7e97-4fcc-9939-cb1e7c6c4f08",
   "metadata": {},
   "source": [
    "***\n",
    "***\n",
    "\n",
    "## Параметры и аргументы функции\n",
    "\n",
    "Функция может принимать произвольное количество аргументов или не принимать их вовсе. \n",
    "\n",
    "Также распространены функции с произвольным числом аргументов, функции с позиционными и именованными аргументами, обязательными и необязательными.\n",
    "\n",
    "В функции можно использовать неограниченное количество параметров, но число аргументов должно точно соответствовать параметрам. \n",
    "\n",
    "> **Параметр** — это имя в списке параметров в первой строке определения функции. Он получает свое значение при вызове. \n",
    "\n",
    "> **Аргумент** — это реальное значение или ссылка на него, переданное функции при вызове.\n",
    "\n",
    "Эти параметры представляют собой позиционные аргументы. Также ```Python``` предоставляет возможность определять значения по умолчанию, которые можно задавать с помощью аргументов-ключевых слов."
   ]
  },
  {
   "cell_type": "code",
   "execution_count": null,
   "id": "931ee0e0-6f60-4e44-8fc4-3e0fe1ac763b",
   "metadata": {},
   "outputs": [],
   "source": [
    "def func(a, b, c=3):      # c - необязательный аргумент\n",
    "    return a + b + c"
   ]
  },
  {
   "cell_type": "code",
   "execution_count": null,
   "id": "1e2f1670-d8b8-4081-bfbd-24c230c5c796",
   "metadata": {},
   "outputs": [],
   "source": [
    "result = func(1, 2)\n",
    "print(result)             # 1 + 2 + 3"
   ]
  },
  {
   "cell_type": "code",
   "execution_count": null,
   "id": "3514bb08-6897-422c-abeb-f3835cc438a2",
   "metadata": {},
   "outputs": [],
   "source": [
    "result = func(a=1, b=2)\n",
    "print(result)             # 1 + 2 + 3"
   ]
  },
  {
   "cell_type": "code",
   "execution_count": null,
   "id": "f45b74b4-a955-4884-baf1-a5e1cb73658f",
   "metadata": {},
   "outputs": [],
   "source": [
    "result = func(1, 2, 7)    # a=1, b=2, c=7\n",
    "print(result)             # 1 + 2 + 7"
   ]
  },
  {
   "cell_type": "code",
   "execution_count": null,
   "id": "ac401b0b-2ab9-4f69-9d5b-55bcf024e2f2",
   "metadata": {},
   "outputs": [],
   "source": [
    "result = func(\"a\", \"b\", \"c\")    # a=\"a\", b=\"a\", c=\"a\"\n",
    "print(result)             # 1 + 2 + 7"
   ]
  },
  {
   "cell_type": "code",
   "execution_count": null,
   "id": "0308fe8d-12aa-44f3-8784-580628a9b8af",
   "metadata": {},
   "outputs": [],
   "source": [
    "result = func(b=\"a\", a=\"b\", c=\"c\")    # a=\"a\", b=\"a\", c=\"a\"\n",
    "print(result)             # 1 + 2 + 7"
   ]
  },
  {
   "cell_type": "code",
   "execution_count": null,
   "id": "90c0550d-2c80-4abf-a404-24cd19d6a774",
   "metadata": {},
   "outputs": [],
   "source": [
    "result = func(a=1, c=2)\n",
    "print(result)             # TypeError: func() missing 1 required positional argument: 'b'"
   ]
  },
  {
   "cell_type": "code",
   "execution_count": null,
   "id": "2ec95bf3-30d8-4845-8771-7ca17cdf0a3e",
   "metadata": {},
   "outputs": [],
   "source": [
    "result = func(c=1, 2, 7)\n",
    "print(result)             # SyntaxError: positional argument follows keyword argument"
   ]
  },
  {
   "cell_type": "markdown",
   "id": "5427cd22-753e-4a21-885d-bc75a65f75a1",
   "metadata": {},
   "source": [
    "> **Если использовать необязательный параметр, тогда все, что указаны справа, должны быть параметрами по умолчанию.**"
   ]
  },
  {
   "cell_type": "code",
   "execution_count": null,
   "id": "1cd365ac-948c-4828-980e-e0e4e74c0d4c",
   "metadata": {},
   "outputs": [],
   "source": [
    "def func(c=3, a, b):      # SyntaxError: non-default argument follows default argument\n",
    "    return a + b + c"
   ]
  },
  {
   "cell_type": "markdown",
   "id": "e88b8fd2-9368-4124-ab80-04f939e6a524",
   "metadata": {},
   "source": [
    "***\n",
    "***\n",
    "\n",
    "> **Функция также может принимать переменное количество позиционных аргументов, тогда перед именем ставится ```*```:**"
   ]
  },
  {
   "cell_type": "code",
   "execution_count": null,
   "id": "128324bd-7151-4da3-b95f-a345f13af6a7",
   "metadata": {},
   "outputs": [],
   "source": [
    "def func(*args):\n",
    "    return args"
   ]
  },
  {
   "cell_type": "code",
   "execution_count": null,
   "id": "16336681-07fc-4de5-b90d-8d09b9a24d7d",
   "metadata": {},
   "outputs": [],
   "source": [
    "func(1, 2, 3, 'abc')"
   ]
  },
  {
   "cell_type": "code",
   "execution_count": null,
   "id": "34d7b3d2-4155-445c-9e70-a0e35d188dc0",
   "metadata": {},
   "outputs": [],
   "source": [
    "func()"
   ]
  },
  {
   "cell_type": "code",
   "execution_count": null,
   "id": "56e5d61d-1650-4279-8c04-6ea95ce005c2",
   "metadata": {},
   "outputs": [],
   "source": [
    "func(1)"
   ]
  },
  {
   "cell_type": "markdown",
   "id": "f2e8dfd6-33ac-4bb1-bc11-b52115c3e8a8",
   "metadata": {},
   "source": [
    "Как видно из примера, ```args``` - это кортеж из всех переданных аргументов функции, и с переменной можно работать также, как и с кортежем.\n",
    "\n",
    "> Функция может принимать и произвольное число именованных аргументов, тогда перед именем ставится ```**```:"
   ]
  },
  {
   "cell_type": "code",
   "execution_count": null,
   "id": "2671c409-69eb-4caf-86cd-abf24d8272b7",
   "metadata": {},
   "outputs": [],
   "source": [
    "def func(**kwargs):\n",
    "    return kwargs"
   ]
  },
  {
   "cell_type": "code",
   "execution_count": null,
   "id": "b8a837bc-c80a-4737-b970-5aa77fc8ae2c",
   "metadata": {},
   "outputs": [],
   "source": [
    "func(a=1, b=2, c=3)"
   ]
  },
  {
   "cell_type": "code",
   "execution_count": null,
   "id": "a742f3f5-1349-47a2-b1fd-34dab6e0f510",
   "metadata": {},
   "outputs": [],
   "source": [
    "func()"
   ]
  },
  {
   "cell_type": "code",
   "execution_count": null,
   "id": "766fdc4a-6316-494b-b425-bc0f1b8eef47",
   "metadata": {},
   "outputs": [],
   "source": [
    "func(a='python')"
   ]
  },
  {
   "cell_type": "code",
   "execution_count": null,
   "id": "eff378d5-4607-47d4-b011-dfade6567bdc",
   "metadata": {},
   "outputs": [],
   "source": [
    "func(1, 2, 3)            # TypeError: func() takes 0 positional arguments but 3 were given"
   ]
  },
  {
   "cell_type": "markdown",
   "id": "bd30f60f-cd2b-4733-9d1e-29ddda8e25c4",
   "metadata": {},
   "source": [
    "В переменной ```kwargs``` у нас хранится словарь, с которым мы, опять-таки, можем делать все, что нам заблагорассудится."
   ]
  },
  {
   "cell_type": "markdown",
   "id": "c884738f-7d49-4708-9e89-4ad5b655bf2e",
   "metadata": {},
   "source": [
    "Пока что функция возвращала только одно значение или не возвращала ничего (объект ```None```). \n",
    "\n",
    "А как насчет нескольких значений? Этого можно добиться с помощью запаковки. Технически, это все еще один объект. \n",
    "\n",
    "Например:"
   ]
  },
  {
   "cell_type": "code",
   "execution_count": null,
   "id": "c4ca8495-4be5-4287-b995-6aa6e6715a23",
   "metadata": {},
   "outputs": [],
   "source": [
    "def func(*args, **kwargs):\n",
    "    return args, kwargs\n",
    "\n",
    "func(1, 2, 3, a=\"a\", b=\"b\", c=\"c\")"
   ]
  },
  {
   "cell_type": "code",
   "execution_count": null,
   "id": "07d8f60a-825f-410e-9625-e52678a7ee00",
   "metadata": {},
   "outputs": [],
   "source": [
    "def func(**kwargs, *args): # SyntaxError: invalid syntax\n",
    "    return args, kwargs"
   ]
  },
  {
   "cell_type": "code",
   "execution_count": null,
   "id": "02605a7e-73b0-4f12-aeba-accaadbcb5bf",
   "metadata": {},
   "outputs": [],
   "source": [
    "def stats(data):\n",
    "    \"\"\"данные должны быть списком\"\"\"\n",
    "    _sum = sum(data)       # обратите внимание на подчеркивание, \n",
    "                           # чтобы избежать переименования встроенной функции sum\n",
    "    mean = _sum / float(len(data)) # обратите внимание на использование функции float, \n",
    "                                   # чтобы избежать деления на целое число\n",
    "    variance = sum([(x - mean) ** 2 / len(data) for x in data])\n",
    "    return mean, variance   # возвращаем — кортеж!\n",
    "\n",
    "m, v = stats([1, 2, 1])\n",
    "\n",
    "print(m, v, sep=\"\\n\")"
   ]
  },
  {
   "cell_type": "code",
   "execution_count": null,
   "id": "5a5c796d-cc93-4422-8dbb-a243a8ba714c",
   "metadata": {},
   "outputs": [],
   "source": [
    "def stats(*data):\n",
    "    \"\"\"данные не должны быть списком\"\"\"\n",
    "    _sum = sum(data)       \n",
    "    mean = _sum / float(len(data))\n",
    "    variance = sum([(x - mean) ** 2 / len(data) for x in data])\n",
    "    return mean, variance   \n",
    "\n",
    "m, v = stats(1, 2, 1)\n",
    "\n",
    "print(m, v, sep=\"\\n\")"
   ]
  },
  {
   "cell_type": "markdown",
   "id": "5c81a052-05eb-4f9c-95f5-7f6d62ee976b",
   "metadata": {},
   "source": [
    "***\n",
    "***\n",
    "\n",
    "## Вложенные функции"
   ]
  },
  {
   "cell_type": "markdown",
   "id": "c2c8d124-1795-4778-b000-55de73365866",
   "metadata": {},
   "source": [
    "Функции могут быть вложенными:\n",
    "\n",
    "```python\n",
    "def func1(a, b):\n",
    "    def inner_func(x):\n",
    "        return x*x*x\n",
    "\n",
    "    return inner_func(a) + inner_func(b)\n",
    "```\n",
    "\n",
    "Функции — это объекты, поэтому их можно присваивать переменным."
   ]
  },
  {
   "cell_type": "code",
   "execution_count": null,
   "id": "a99f8473-af72-40ac-ab19-d3c2fca5f7ab",
   "metadata": {},
   "outputs": [],
   "source": [
    "def func(a, b):\n",
    "    \n",
    "    def inner_func(x):\n",
    "        return x * x * x\n",
    "\n",
    "    return inner_func(a) + inner_func(b)\n",
    "\n",
    "print(func(2, 3))         # 35\n",
    "\n",
    "print(inner_func(2))      # NameError: name 'inner_func' is not defined"
   ]
  },
  {
   "cell_type": "code",
   "execution_count": null,
   "id": "348008ed-026e-4289-b811-1398bba6189f",
   "metadata": {},
   "outputs": [],
   "source": [
    "dir()"
   ]
  },
  {
   "cell_type": "code",
   "execution_count": null,
   "id": "67a3e8fe-421d-4403-9cb8-4ef4fbc45efa",
   "metadata": {},
   "outputs": [],
   "source": [
    "dir(func)"
   ]
  },
  {
   "cell_type": "code",
   "execution_count": null,
   "id": "838b4cc6-5cc2-4dd4-93eb-0ceadd6221f1",
   "metadata": {},
   "outputs": [],
   "source": [
    "def func(a, b):\n",
    "    print(dir())\n",
    "    def inner_func(x):\n",
    "        print(dir())\n",
    "        return x * x * x\n",
    "    print(dir())\n",
    "    return inner_func(a) + inner_func(b)\n",
    "\n",
    "print(func(2, 3))         # 35"
   ]
  },
  {
   "cell_type": "markdown",
   "id": "d5698be9-96f0-4956-8e3b-404f58454535",
   "metadata": {},
   "source": [
    "***\n",
    "***\n",
    "\n",
    "## Генераторы\n",
    "\n",
    "**Генератор** в ```Python``` — это функция с уникальными возможностями. Она позволяет приостановить или продолжить работу. \n",
    "\n",
    "**Генератор** возвращает **итератор**, по которому можно проходить пошагово, получая доступ к одному значению с каждой итерацией.\n",
    "\n",
    "**Генератор** отчасти решает проблему того, что **создание итератора в ```Python``` — достаточно громоздкая операция**. \n",
    "\n",
    "Для этого нужно написать класс и реализовать методы ```__iter__()``` и ```__next__()```. После этого требуется настроить внутренние состояния и вызывать исключение ```StopIteration```, когда больше нечего возвращать."
   ]
  },
  {
   "cell_type": "markdown",
   "id": "38ebc8e0-6fcd-4abf-abbe-20dc3e0b4e36",
   "metadata": {},
   "source": [
    "**Генератор** — это альтернативный и более простой способ возвращать **итераторы**. Процедура создания не отличается от объявления обычной функции.\n",
    "\n",
    "Есть два простых способа создания генераторов в ```Python```."
   ]
  },
  {
   "cell_type": "markdown",
   "id": "00947a4c-e4a3-4126-8108-04a7fe70e7d9",
   "metadata": {},
   "source": [
    "### Функция генератора\n",
    "\n",
    "Генератор создается по принципу обычной функции.\n",
    "\n",
    "Отличие заключается в том, что вместо ```return``` используется инструкция ```yield```. Она уведомляет интерпретатор ```Python``` о том, что это генератор, и возвращает итератор.\n",
    "\n",
    "Синтаксис функции генератора:\n",
    "\n",
    "```python\n",
    "def gen_func(args):\n",
    "    ...\n",
    "    while [cond]:\n",
    "        ...\n",
    "        yield [value]\n",
    "```\n",
    "\n",
    "```return``` всегда является последней инструкцией при вызове функции, в то время как ```yield``` временно приостанавливает исполнение, сохраняет состояние и затем может продолжить работу позже.\n",
    "\n",
    "Дальше простейший пример функции генератора ```Python```, которая определяет следующее значение в последовательности Фибоначчи.\n",
    "\n",
    "Демонстрация функции генератора ```Python```:"
   ]
  },
  {
   "cell_type": "code",
   "execution_count": null,
   "id": "c40f5ef6-8957-4d6e-9800-a3bcc5f946f5",
   "metadata": {},
   "outputs": [],
   "source": [
    "def fibonacci(xterms):\n",
    "    # первые два условия\n",
    "    x1 = 0\n",
    "    x2 = 1\n",
    "    count = 0\n",
    "\n",
    "    if xterms <= 0:\n",
    "        print(\"Укажите целое число больше 0\")\n",
    "    elif xterms == 1:\n",
    "        print(\"Последовательность Фибоначчи до\", xterms, \":\")\n",
    "        print(x1)\n",
    "    else:\n",
    "        while count < xterms:\n",
    "            xth = x1 + x2\n",
    "            x1 = x2\n",
    "            x2 = xth\n",
    "            count += 1\n",
    "            yield xth"
   ]
  },
  {
   "cell_type": "markdown",
   "id": "8e1d8c49-11fe-4e01-ae0d-7babbc60ffc4",
   "metadata": {},
   "source": [
    "В этом примере в функции генератора есть цикл ```while```, который вычисляет следующее значение Фибоначчи. Инструкция ```yield``` является частью цикла.\n",
    "\n",
    "После создания функции генератора вызываем ее, передав ```5``` в качестве аргумента. Она вернет только объект генератора."
   ]
  },
  {
   "cell_type": "code",
   "execution_count": null,
   "id": "b0e4deca-dd32-4a6a-a376-520b41a20fbe",
   "metadata": {},
   "outputs": [],
   "source": [
    "print(type(fibonacci))\n",
    "\n",
    "fib = fibonacci(5)\n",
    "\n",
    "print(fib, type(fib))"
   ]
  },
  {
   "cell_type": "markdown",
   "id": "b55865de-b1cd-4bf9-a6cd-f833c88aa862",
   "metadata": {},
   "source": [
    "Такая функция не будет выполняться до тех пор, пока не будет вызван метод ```next()``` с вернувшимся объектом в качестве аргумента (то есть ```fib```)."
   ]
  },
  {
   "cell_type": "code",
   "execution_count": null,
   "id": "39dc6c96-9608-4835-adad-19bbd7b530cb",
   "metadata": {},
   "outputs": [],
   "source": [
    "fib = fibonacci(5)\n",
    "\n",
    "print(next(fib))"
   ]
  },
  {
   "cell_type": "code",
   "execution_count": null,
   "id": "e78b80ab-7dc2-4c9b-b348-1fa2a038d16d",
   "metadata": {},
   "outputs": [],
   "source": [
    "print(next(fib))\n",
    "print(next(fib))\n",
    "print(next(fib))\n",
    "print(next(fib))"
   ]
  },
  {
   "cell_type": "code",
   "execution_count": null,
   "id": "6af38dc3-ce2f-49b7-b0da-01186ddf251b",
   "metadata": {},
   "outputs": [],
   "source": [
    "print(next(fib))"
   ]
  },
  {
   "cell_type": "code",
   "execution_count": null,
   "id": "544c98cb-2546-4cee-b712-ca688f0890a2",
   "metadata": {},
   "outputs": [],
   "source": [
    "fib = fibonacci(5)\n",
    "\n",
    "for number in fib:\n",
    "    print(number)\n",
    "    \n",
    "# print(next(fib))"
   ]
  },
  {
   "cell_type": "code",
   "execution_count": null,
   "id": "d9c68469-5909-4caf-9b87-d78f0eda5a77",
   "metadata": {},
   "outputs": [],
   "source": [
    "fib = fibonacci(5)\n",
    "print(list(fib))"
   ]
  },
  {
   "cell_type": "markdown",
   "id": "dbbd74e3-8c95-41be-ad2f-5aa13985d1a8",
   "metadata": {},
   "source": [
    "### Выражения ```Generator comprehension```\n",
    "\n",
    "Python позволяет писать ```Generator comprehension``` для создания анонимных функций генератора. Процесс напоминает создание лямбда-функций для создания анонимных функций.\n",
    "\n",
    "Синтаксис похож на используемый для ```List comprehension```. Однако там применяются квадратные скобки, а здесь — круглые.\n",
    "\n",
    "```python\n",
    "# Синтаксис выражения генератора\n",
    "gen_expr = (var**(1/2) for var in seq)\n",
    "```\n",
    "\n",
    "Еще одно отличие между ```List comprehension``` и ```Generator comprehension``` в том, что **при создании списков возвращается целый список**, а в случае **с генераторами — только одно значение за раз**.\n",
    "\n",
    "Пример выражение генератора ```Python```:"
   ]
  },
  {
   "cell_type": "code",
   "execution_count": null,
   "id": "b8990370-5272-4be5-8de9-0844e03ca433",
   "metadata": {},
   "outputs": [],
   "source": [
    "# Создаем список\n",
    "alist = [4, 16, 64, 256]\n",
    "\n",
    "# Вычислим квадратный корень, используя List comprehension\n",
    "out = [a ** (1/2) for a in alist]\n",
    "print(out, type(out))"
   ]
  },
  {
   "cell_type": "code",
   "execution_count": null,
   "id": "e357662a-ea47-4697-ba45-a791d2df5cc4",
   "metadata": {},
   "outputs": [],
   "source": [
    "# Создаем список\n",
    "alist = [4, 16, 64, 256]\n",
    "\n",
    "# Используем Generator comprehension, чтобы вычислить квадратный корень\n",
    "out = (a ** (1/2) for a in alist)\n",
    "print(out, type(out))"
   ]
  },
  {
   "cell_type": "code",
   "execution_count": null,
   "id": "25f82d15-c1fa-4e4d-96da-196ef7f53a21",
   "metadata": {},
   "outputs": [],
   "source": [
    "print(next(out))\n",
    "print(next(out))\n",
    "print(next(out))\n",
    "print(next(out))\n",
    "print(next(out))"
   ]
  },
  {
   "cell_type": "code",
   "execution_count": null,
   "id": "23ed53a5-3b6a-49fe-bb56-d0a1f2ca311f",
   "metadata": {},
   "outputs": [],
   "source": [
    "alist = [4, 16, 64, 256]\n",
    "out = (a **m(1/2) for a in alist)\n",
    "\n",
    "for number in out:\n",
    "    print(number)"
   ]
  },
  {
   "cell_type": "code",
   "execution_count": null,
   "id": "6e37ecb6-6b55-4f88-b333-f66fbcf5849c",
   "metadata": {},
   "outputs": [],
   "source": [
    "alist = [4, 16, 64, 256]\n",
    "out = (a ** (1/2) for a in alist)\n",
    "\n",
    "print(*out)"
   ]
  },
  {
   "cell_type": "code",
   "execution_count": null,
   "id": "9e8b16ad-e7ab-4847-b45a-64f649feeb41",
   "metadata": {},
   "outputs": [],
   "source": [
    "alist = [4, 16, 64, 256]\n",
    "list_out = [a ** (1/2) for a in alist]\n",
    "gen_out = (a ** (1/2) for a in alist)\n",
    "\n",
    "print(len(list_out), list_out[1])\n",
    "print(len(gen_out))\n",
    "# print(gen_out[0])"
   ]
  },
  {
   "cell_type": "markdown",
   "id": "3a238483-d7ff-4fa5-8074-085b175b14c7",
   "metadata": {},
   "source": [
    "#### Когда использовать генератор?\n",
    "\n",
    "Есть много ситуаций, когда генератор оказывается полезным. Вот некоторые из них:\n",
    "\n",
    "* Генераторы помогают обрабатывать большие объемы данных. Они позволяют производить так называемые ленивые вычисления. Подобным образом происходит потоковая обработка.\n",
    "* Генераторы можно устанавливать друг за другом и использовать их как Unix-каналы.\n",
    "* Генераторы позволяют настроить одновременное исполнение\n",
    "* Они часто используются для чтения крупных файлов. Это делает код чище и компактнее, разделяя процесс на более мелкие сущности.\n",
    "* Генераторы особенно полезны для веб-скрапинга и увеличения эффективности поиска. Они позволяют получить одну страницу, выполнить какую-то операцию и двигаться к следующей. Этот подход куда эффективнее чем получение всех страниц сразу и использование отдельного цикла для их обработки."
   ]
  },
  {
   "cell_type": "markdown",
   "id": "573aee26-3cc1-4e0c-93ec-7505edb4fc0c",
   "metadata": {},
   "source": [
    "***\n",
    "***"
   ]
  },
  {
   "cell_type": "markdown",
   "id": "98471e2d-cc6f-4aa0-b58c-0ddc8b62bcc3",
   "metadata": {},
   "source": [
    "## Документирование функций в Python\n",
    "\n",
    "__Документирование функций__ - это важная практика, которая делает код более понятным и удобным для сопровождения. В Python для документирования функций используется строка документации (```docstring```).\n",
    "\n",
    "_Что такое строка документации?_\n",
    "\n",
    "Строка документации (```docstring```) - это строка, которая следует сразу после определения функции и заключена в тройные кавычки (```\"\"\"``` или ```'''```). Она предоставляет информацию о назначении функции, ее параметрах, возвращаемых значениях и других важных деталях.\n",
    "\n",
    "### Синтаксис строки документации\n",
    "\n",
    "Строка документации может быть __однострочной__ или __многострочной__.\n",
    "\n",
    "- __Однострочная строка документации:__"
   ]
  },
  {
   "cell_type": "code",
   "execution_count": null,
   "id": "3c705b01-d49e-42eb-8608-a6b16df0e562",
   "metadata": {},
   "outputs": [],
   "source": [
    "def add(a, b):\n",
    "    \"\"\"Возвращает сумму двух чисел.\"\"\"\n",
    "    return a + b"
   ]
  },
  {
   "cell_type": "markdown",
   "id": "8f604e9e-1d28-4917-8ae7-11f3e4b4ecc5",
   "metadata": {},
   "source": [
    "- __Многострочная строка документации:__"
   ]
  },
  {
   "cell_type": "code",
   "execution_count": null,
   "id": "fd81c727-2641-4dad-989b-af63534aef39",
   "metadata": {},
   "outputs": [],
   "source": [
    "def add(a, b):\n",
    "    \"\"\"\n",
    "    Возвращает сумму двух чисел.\n",
    "\n",
    "    Параметры:\n",
    "    a (int): Первое слагаемое\n",
    "    b (int): Второе слагаемое\n",
    "\n",
    "    Возвращаемое значение:\n",
    "    int: Сумма a и b\n",
    "    \"\"\"\n",
    "    return a + b"
   ]
  },
  {
   "cell_type": "markdown",
   "id": "0cbf1270-19fb-4320-b940-3b664e05849d",
   "metadata": {},
   "source": [
    "#### Структура многострочной строки документации\n",
    "\n",
    "Хорошая строка документации обычно включает следующие разделы:\n",
    "\n",
    "- Краткое описание: Одно-два предложения, описывающие назначение функции.\n",
    "- Параметры: Описание каждого параметра функции, включая его тип и назначение.\n",
    "- Возвращаемое значение: Описание возвращаемого значения, включая его тип.\n",
    "- Исключения: Описание исключений, которые могут быть вызваны функцией.\n",
    "- Примеры использования: Примеры кода, демонстрирующие использование функции.\n",
    "\n",
    "__Пример документации функции:__"
   ]
  },
  {
   "cell_type": "code",
   "execution_count": null,
   "id": "8955f025-53bc-4d48-856a-4186252391cf",
   "metadata": {},
   "outputs": [],
   "source": [
    "def divide(a, b):\n",
    "    \"\"\"\n",
    "    Делит одно число на другое.\n",
    "\n",
    "    Параметры:\n",
    "    a (float): Делимое\n",
    "    b (float): Делитель\n",
    "\n",
    "    Возвращаемое значение:\n",
    "    float: Результат деления a на b\n",
    "\n",
    "    Исключения:\n",
    "    ZeroDivisionError: Если делитель равен нулю\n",
    "\n",
    "    Примеры:\n",
    "    >>> divide(10, 2)\n",
    "    5.0\n",
    "    >>> divide(10, 0)\n",
    "    Traceback (most recent call last):\n",
    "        ...\n",
    "    ZeroDivisionError: division by zero\n",
    "    \"\"\"\n",
    "    if b == 0:\n",
    "        raise ZeroDivisionError(\"division by zero\")\n",
    "    return a / b"
   ]
  },
  {
   "cell_type": "markdown",
   "id": "2611a3f3-9863-4f99-ad8c-5173d2921ce9",
   "metadata": {},
   "source": [
    "### Доступ к строке документации\n",
    "\n",
    "Строку документации можно получить с помощью атрибута ```__doc__```:"
   ]
  },
  {
   "cell_type": "code",
   "execution_count": null,
   "id": "4982003b-ea5d-4ac1-8b07-0f53f408f890",
   "metadata": {},
   "outputs": [],
   "source": [
    "print(divide.__doc__)"
   ]
  },
  {
   "cell_type": "markdown",
   "id": "e3b0b533-d032-4667-aa59-16240a7ffe26",
   "metadata": {},
   "source": [
    "### Инструменты для документирования\n",
    "\n",
    "Существуют инструменты, которые автоматически генерируют документацию на основе строк документации, например:\n",
    "\n",
    "- Sphinx: Популярный инструмент для создания документации на основе Python-кода.\n",
    "- pydoc: Встроенный инструмент Python для генерации документации.\n",
    "- Docstrings в IDE: Многие интегрированные среды разработки (IDE) поддерживают автодополнение и отображение строк документации при написании кода.\n",
    "Заключение\n",
    "\n",
    "__Документирование функций__ - это важный аспект написания качественного и поддерживаемого кода. Используя строки документации, вы помогаете другим разработчикам (и себе в будущем) понять, как работает ваш код и как его использовать."
   ]
  },
  {
   "cell_type": "markdown",
   "id": "6cf2ed48-c224-44b5-b344-3dab09f424d2",
   "metadata": {},
   "source": [
    "***\n",
    "***"
   ]
  },
  {
   "cell_type": "markdown",
   "id": "9bd5a707-cab5-4029-8563-e1615fafe480",
   "metadata": {},
   "source": [
    "## Аннотации типов\n",
    "\n",
    "Аннотации функций являются **полностью необязательной информацией метаданных о типах, используемых пользовательскими функциями**.\n",
    "\n",
    "Аннотации хранятся в атрибуте функции ```__annotations__``` как словарь и не влияют ни на какую другую часть функции. \n",
    "\n",
    "Аннотации аргументов **определяются двоеточием после имени параметра, за которым следует выражение, оценивающее значение аннотации**.\n",
    "\n",
    "Аннотации возвращаемых значений функции определяются литералом ```->```, за которым следует выражение, между списком параметров и двоеточием, обозначающим конец оператора ```def```.\n",
    "\n",
    "В следующем примере есть позиционный аргумент, ключевой аргумент и аннотированное возвращаемое значение:"
   ]
  },
  {
   "cell_type": "markdown",
   "id": "6da553f4-f98e-4de4-8da7-6159f4f113c8",
   "metadata": {},
   "source": [
    "__Аннотирование типов (type annotations)__ - это механизм, который позволяет указывать ожидаемые типы данных для переменных, параметров функций и возвращаемых значений. Хотя ```Python``` является динамически типизированным языком, аннотирование типов помогает сделать код более читаемым, понятным и упрощает его анализ статическими анализаторами кода.\n",
    "\n",
    "### Основы аннотирования типов\n",
    "\n",
    "Аннотирование типов в ```Python``` было введено в версии 3.5 и получило дальнейшее развитие в последующих версиях.\n",
    "\n",
    "Аннотирование переменных\n",
    "\n",
    "Для аннотирования переменной используется двоеточие (```:```) после имени переменной, за которым следует тип данных:"
   ]
  },
  {
   "cell_type": "code",
   "execution_count": null,
   "id": "4ede0dce-5bc2-48ad-b7e1-d6f553be8322",
   "metadata": {},
   "outputs": [],
   "source": [
    "age: int = 30\n",
    "name: str = \"Alice\"\n",
    "is_student: bool = True"
   ]
  },
  {
   "cell_type": "code",
   "execution_count": null,
   "id": "6c57bc05-8396-4673-b3ef-bf142afded92",
   "metadata": {},
   "outputs": [],
   "source": [
    "dir()"
   ]
  },
  {
   "cell_type": "code",
   "execution_count": null,
   "id": "73d790fd-f489-4048-8b96-297bed599ca9",
   "metadata": {},
   "outputs": [],
   "source": [
    "__annotations__"
   ]
  },
  {
   "cell_type": "markdown",
   "id": "b2e84b37-1b9d-4faa-bb28-498fb4f33903",
   "metadata": {},
   "source": [
    "### Аннотирование параметров функций\n",
    "\n",
    "Для аннотирования параметров функции также используется двоеточие (```:```) после имени параметра:"
   ]
  },
  {
   "cell_type": "code",
   "execution_count": null,
   "id": "6ab405f4-8336-42f5-8143-1f4c00e51700",
   "metadata": {},
   "outputs": [],
   "source": [
    "def greet(name: str) -> str:\n",
    "    print(\"Annotations:\", greet.__annotations__)\n",
    "    return f\"Hello, {name}!\""
   ]
  },
  {
   "cell_type": "code",
   "execution_count": null,
   "id": "66859b3a-3ef8-4e1c-91a3-5bb121491865",
   "metadata": {},
   "outputs": [],
   "source": [
    "greet(\"Mike\")"
   ]
  },
  {
   "cell_type": "code",
   "execution_count": null,
   "id": "f6231fe3-3b46-4a63-8cca-00b40f5371df",
   "metadata": {},
   "outputs": [],
   "source": [
    "greet(12345)"
   ]
  },
  {
   "cell_type": "markdown",
   "id": "238471b7-cb72-4b06-8d68-c552b7c0e142",
   "metadata": {},
   "source": [
    "### Аннотирование возвращаемого значения функции\n",
    "\n",
    "Для аннотирования возвращаемого значения функции используется стрелка (```->```) после списка параметров:"
   ]
  },
  {
   "cell_type": "code",
   "execution_count": null,
   "id": "eb2c8c00-58e0-462b-b9d8-95e81f3cbe6a",
   "metadata": {},
   "outputs": [],
   "source": [
    "def add(a: int, b: int) -> int:\n",
    "    return a + b"
   ]
  },
  {
   "cell_type": "markdown",
   "id": "fdb2b0ee-0bac-448e-825c-8a9b14701365",
   "metadata": {},
   "source": [
    "## Продвинутое аннотирование типов\n",
    "\n",
    "### Аннотирование сложных типов\n",
    "\n",
    "```Python``` поддерживает аннотирование сложных типов данных, таких как списки, словари, кортежи и другие:"
   ]
  },
  {
   "cell_type": "code",
   "execution_count": null,
   "id": "227f832f-4f64-4c19-93c5-607ad3667f97",
   "metadata": {},
   "outputs": [],
   "source": [
    "from typing import List, Dict, Tuple\n",
    "\n",
    "def process_data(data: List[int]) -> List[int]:\n",
    "    return [x * 2 for x in data]\n",
    "\n",
    "def get_info() -> Tuple[str, int]:\n",
    "    return (\"Alice\", 30)\n",
    "\n",
    "def get_scores() -> Dict[str, int]:\n",
    "    return {\"Alice\": 95, \"Bob\": 88}"
   ]
  },
  {
   "cell_type": "markdown",
   "id": "07a1f35c-b5c1-416f-8ac9-597f200d7e54",
   "metadata": {},
   "source": [
    "### Новое в ```Python 3.9```\n",
    "\n",
    "В аннотациях типов теперь можно использовать встроенные типы, такие как ```list``` и ```dict```, в качестве универсальных типов вместо импорта соответствующих типов из модуля аннотации типов ```typing``` (например, ```typing.List``` или ```typing.Dict```).\n",
    "\n",
    "Например раньше, чтобы явно указать, что структура данных должна состоять только из целых чисел, то для этого нужно было импортировать из модуля ```typing```:"
   ]
  },
  {
   "cell_type": "code",
   "execution_count": null,
   "id": "7052cc5f-3307-40a4-bc1f-a6e8e263a63d",
   "metadata": {},
   "outputs": [],
   "source": [
    "from typing import List\n",
    "\n",
    "def greet_all(names: List[str]) -> None:\n",
    "    print(\"Annotations:\", greet_all.__annotations__)\n",
    "    for name in names:\n",
    "        print(\"Hello\", name)\n",
    "        \n",
    "greet_all([1, 2, 3])"
   ]
  },
  {
   "cell_type": "code",
   "execution_count": null,
   "id": "dd3b2078-e7fb-4a96-994a-20d15229bbe9",
   "metadata": {},
   "outputs": [],
   "source": [
    "def greet_all(names: list[str]) -> None:\n",
    "    print(\"Annotations:\", greet_all.__annotations__)\n",
    "    for name in names:\n",
    "        print(\"Hello\", name)\n",
    "        \n",
    "greet_all([1, 2, 3])"
   ]
  },
  {
   "cell_type": "markdown",
   "id": "f0e05b68-6155-4781-9db2-9ae70f144c87",
   "metadata": {},
   "source": [
    "### Аннотирование с использованием ```Optional``` и ```Union```\n",
    "\n",
    "Для указания, что переменная может принимать значение ```None```, используется тип ```Optional```:"
   ]
  },
  {
   "cell_type": "code",
   "execution_count": null,
   "id": "6cf9f2d8-426b-42ef-8f5d-6b7592f7f85f",
   "metadata": {},
   "outputs": [],
   "source": [
    "from typing import Optional\n",
    "\n",
    "def find_user(user_id: int) -> Optional[str]:\n",
    "    if user_id == 1:\n",
    "        return \"Alice\"\n",
    "    return None"
   ]
  },
  {
   "cell_type": "markdown",
   "id": "cf915a46-44af-42cf-a12e-726ad3f9a6e5",
   "metadata": {},
   "source": [
    "Для указания, что переменная может принимать значения нескольких типов, используется тип ```Union```:"
   ]
  },
  {
   "cell_type": "code",
   "execution_count": null,
   "id": "1f924c48-1857-48b6-97d7-77321aabe21b",
   "metadata": {},
   "outputs": [],
   "source": [
    "from typing import Union\n",
    "\n",
    "def parse_value(value: Union[int, str]) -> None:\n",
    "    if isinstance(value, int):\n",
    "        print(f\"Integer: {value}\")\n",
    "    else:\n",
    "        print(f\"String: {value}\")"
   ]
  },
  {
   "cell_type": "markdown",
   "id": "0eb420cc-0132-42c2-8cb8-c619019a28c8",
   "metadata": {},
   "source": [
    "### Аннотирование с использованием ```Callable```\n",
    "\n",
    "Для указания, что параметр является функцией, используется тип ```Callable```:"
   ]
  },
  {
   "cell_type": "code",
   "execution_count": null,
   "id": "b0a37655-146c-4700-8e97-2d7334f27d8c",
   "metadata": {},
   "outputs": [],
   "source": [
    "from typing import Callable\n",
    "\n",
    "def apply_function(func: Callable[[int], int], value: int) -> int:\n",
    "    return func(value)"
   ]
  },
  {
   "cell_type": "markdown",
   "id": "8d0d79a0-6eb0-47f3-86fd-540b8951f549",
   "metadata": {},
   "source": [
    "#### Преимущества аннотирования типов\n",
    "\n",
    "- Улучшение читаемости кода: Аннотирование типов делает код более понятным и самодокументируемым.\n",
    "- Статический анализ: Инструменты статического анализа, такие как mypy, могут использовать аннотации типов для обнаружения ошибок на этапе разработки.\n",
    "- Автодополнение и подсказки в IDE: Многие IDE, такие как PyCharm и VSCode, используют аннотации типов для предоставления более точных автодополнений и подсказок.\n",
    "\n",
    "__Пример использования аннотирования типов:__"
   ]
  },
  {
   "cell_type": "code",
   "execution_count": null,
   "id": "61115433-617e-4358-a588-d6c8364735bb",
   "metadata": {},
   "outputs": [],
   "source": [
    "from typing import List, Optional\n",
    "\n",
    "def find_max(numbers: List[int]) -> Optional[int]:\n",
    "    \"\"\"\n",
    "    Находит максимальное число в списке.\n",
    "\n",
    "    Параметры:\n",
    "    numbers (List[int]): Список целых чисел\n",
    "\n",
    "    Возвращаемое значение:\n",
    "    Optional[int]: Максимальное число в списке или None, если список пуст\n",
    "    \"\"\"\n",
    "    if not numbers:\n",
    "        return None\n",
    "    return max(numbers)\n",
    "\n",
    "# Пример использования\n",
    "max_value = find_max([1, 3, 5, 2, 4])\n",
    "print(max_value)  # Вывод: 5\n",
    "max_value = find_max([])\n",
    "print(max_value)  # Вывод: None"
   ]
  },
  {
   "cell_type": "markdown",
   "id": "fc2810f0-ce07-45f5-924e-d0a2f8823d6c",
   "metadata": {},
   "source": [
    "***\n",
    "***\n",
    "\n",
    "## Глобальная переменная\n",
    "\n",
    "Вот пример с глобальной переменной:\n",
    "\n",
    "```python\n",
    "i = 0\n",
    "def increment():\n",
    "    global i\n",
    "    i += 1\n",
    "```\n",
    "\n",
    "Здесь функция увеличивает на ```1``` значение глобальной переменной ```i```. \n",
    "\n",
    "Это способ изменять глобальную переменную, определенную вне функции. Без него функция не будет знать, что такое переменная ```i```. Ключевое слово ```global``` можно вводить в любом месте, но переменную разрешается использовать только после ее объявления.\n",
    "\n",
    "> **За редкими исключениями глобальные переменные лучше вообще не использовать!**"
   ]
  },
  {
   "cell_type": "code",
   "execution_count": null,
   "id": "9e95193e-4afd-4fe6-953d-00f0448f41a2",
   "metadata": {},
   "outputs": [],
   "source": [
    "i = 0\n",
    "# print(dir())\n",
    "def increment():\n",
    "    print(dir())\n",
    "    i += 1\n",
    "\n",
    "    \n",
    "print(i)\n",
    "\n",
    "increment()\n",
    "print(i)\n",
    "\n",
    "i = increment()\n",
    "print(i)"
   ]
  },
  {
   "cell_type": "code",
   "execution_count": null,
   "id": "4e231e7e-d8e9-471c-ac2e-dd9adb5cd3f0",
   "metadata": {},
   "outputs": [],
   "source": [
    "i = 0\n",
    "# print(dir())\n",
    "def increment():\n",
    "    print(dir())\n",
    "    global i\n",
    "    i += 1\n",
    "\n",
    "    \n",
    "print(i)\n",
    "\n",
    "increment()\n",
    "print(i)\n",
    "\n",
    "i = increment()\n",
    "print(i)"
   ]
  },
  {
   "cell_type": "code",
   "execution_count": null,
   "id": "bc3f33af-ac76-4c7b-90c3-3531129e3563",
   "metadata": {},
   "outputs": [],
   "source": [
    "i = 0\n",
    "print(dir())\n",
    "def increment(i):\n",
    "    print(dir())\n",
    "    i += 1\n",
    "    return i\n",
    "    \n",
    "print(i)\n",
    "\n",
    "increment(i)\n",
    "print(i)\n",
    "\n",
    "i = increment(i)\n",
    "print(i)"
   ]
  }
 ],
 "metadata": {
  "kernelspec": {
   "display_name": "Python 3 (ipykernel)",
   "language": "python",
   "name": "python3"
  },
  "language_info": {
   "codemirror_mode": {
    "name": "ipython",
    "version": 3
   },
   "file_extension": ".py",
   "mimetype": "text/x-python",
   "name": "python",
   "nbconvert_exporter": "python",
   "pygments_lexer": "ipython3",
   "version": "3.12.0"
  }
 },
 "nbformat": 4,
 "nbformat_minor": 5
}
